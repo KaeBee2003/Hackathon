{
 "cells": [
  {
   "cell_type": "code",
   "execution_count": 1,
   "id": "b22a5ab7-eeb2-4d67-bee1-3b8205b752ca",
   "metadata": {},
   "outputs": [],
   "source": [
    "import pandas as pd\n",
    "from mlxtend.frequent_patterns import fpgrowth\n",
    "from mlxtend.frequent_patterns import apriori, association_rules\n",
    "import ipywidgets as widgets\n",
    "from IPython.display import display"
   ]
  },
  {
   "cell_type": "markdown",
   "id": "295712af-b34c-46ed-8935-1c56d6212ee6",
   "metadata": {},
   "source": [
    "## Import data"
   ]
  },
  {
   "cell_type": "code",
   "execution_count": 2,
   "id": "c36b627b-5336-4a9e-8599-40f8127cefc5",
   "metadata": {},
   "outputs": [],
   "source": [
    "df = pd.read_csv(\"DataCoSupplyChainDataset.csv\", encoding='latin1')"
   ]
  },
  {
   "cell_type": "markdown",
   "id": "b8e6e00e-63d1-4ef5-bce5-a0be0bfd4733",
   "metadata": {},
   "source": [
    "## Data Preprocessing"
   ]
  },
  {
   "cell_type": "code",
   "execution_count": 3,
   "id": "aa12cb21-170b-40a8-8857-bc2b9ecae28a",
   "metadata": {},
   "outputs": [],
   "source": [
    "customer_item_count = df.groupby('Order Customer Id')['Order Item Quantity'].sum()"
   ]
  },
  {
   "cell_type": "markdown",
   "id": "edbcc2f1-c53f-42f8-80a2-8affd871023e",
   "metadata": {},
   "source": [
    "Since the Data set is very large, Im going to filter out only top customers, since my laptop is not capable of handling the entire data set."
   ]
  },
  {
   "cell_type": "code",
   "execution_count": 4,
   "id": "12193b7d-40c9-4567-988e-48c00bcc578c",
   "metadata": {},
   "outputs": [],
   "source": [
    "filtered_customers = customer_item_count[customer_item_count >= 10]"
   ]
  },
  {
   "cell_type": "markdown",
   "id": "d7a967b6-96d9-4ff7-8677-8660129af80f",
   "metadata": {},
   "source": [
    "I'm only Filter customers who ought atleast 10 products, and also I'm only taking top 1000 customers only because of memory issues"
   ]
  },
  {
   "cell_type": "code",
   "execution_count": 5,
   "id": "4c6e6447-085b-4a0f-acca-42b2f3cff983",
   "metadata": {},
   "outputs": [],
   "source": [
    "sorted_customers = filtered_customers.sort_values(ascending=True)\n",
    "top_customers = sorted_customers.head(1000).index"
   ]
  },
  {
   "cell_type": "code",
   "execution_count": 6,
   "id": "cd20c59e-f423-403d-a4fc-9101cc0f153c",
   "metadata": {},
   "outputs": [],
   "source": [
    "df_top_customers = df[df['Order Customer Id'].isin(top_customers)]"
   ]
  },
  {
   "cell_type": "markdown",
   "id": "0a1c4ed7-90ec-46c2-b033-ec85f39e9b98",
   "metadata": {},
   "source": [
    "the top customers has been filtered out and saved to \"df_top_customers\""
   ]
  },
  {
   "cell_type": "markdown",
   "id": "204cb159-c35e-4031-9df0-2b9e500fd33f",
   "metadata": {},
   "source": [
    "## Basketting (Training)"
   ]
  },
  {
   "cell_type": "code",
   "execution_count": 7,
   "id": "36295711-0211-4d4a-a43f-d87081d2ca89",
   "metadata": {},
   "outputs": [],
   "source": [
    "# extracting unique product names into a list for future purposes\n",
    "unique_products = df_top_customers['Product Name'].unique().tolist()"
   ]
  },
  {
   "cell_type": "code",
   "execution_count": 8,
   "id": "c4292ad0-b3b1-4429-a427-95ca6d21b8eb",
   "metadata": {},
   "outputs": [],
   "source": [
    "# Creating a basket for each of these top 500 customers\n",
    "basket = (df_top_customers.groupby(['Order Customer Id', 'Product Name'])['Order Item Quantity']\n",
    "          .sum().unstack().reset_index().fillna(0).set_index('Order Customer Id'))"
   ]
  },
  {
   "cell_type": "code",
   "execution_count": 9,
   "id": "a7a444a6-72e5-4f93-8f7f-05982a30e637",
   "metadata": {},
   "outputs": [],
   "source": [
    "def encode_units(x):\n",
    "    return 1 if x >= 1 else 0"
   ]
  },
  {
   "cell_type": "code",
   "execution_count": 10,
   "id": "253f5144-bed9-4602-8af4-9999ecc4ae0d",
   "metadata": {},
   "outputs": [],
   "source": [
    "basket = basket.map(encode_units)"
   ]
  },
  {
   "cell_type": "code",
   "execution_count": 11,
   "id": "84bbf8f2-c20b-4328-b5e9-45cd713b1933",
   "metadata": {},
   "outputs": [],
   "source": [
    "basket = basket.astype(bool)"
   ]
  },
  {
   "cell_type": "code",
   "execution_count": 12,
   "id": "9b15a38c-aad0-46e4-b91e-52415fd3fca6",
   "metadata": {},
   "outputs": [],
   "source": [
    "frequent_itemsets = fpgrowth(basket, min_support=0.01, use_colnames=True)"
   ]
  },
  {
   "cell_type": "code",
   "execution_count": 13,
   "id": "fb72dfe9-3f15-461f-95eb-8ac1ad21e6ef",
   "metadata": {},
   "outputs": [],
   "source": [
    "minimum_confidence_threshold = 0.01 \n",
    "rules = association_rules(frequent_itemsets, metric=\"confidence\", min_threshold=minimum_confidence_threshold)"
   ]
  },
  {
   "cell_type": "markdown",
   "id": "f73e2a65-6aa8-4fa3-b8f1-f8fc44f72a80",
   "metadata": {},
   "source": [
    "## User Interface"
   ]
  },
  {
   "cell_type": "code",
   "execution_count": 14,
   "id": "083c2719-4ecd-4884-b64f-5287fe858e2b",
   "metadata": {},
   "outputs": [],
   "source": [
    "slider_variable = widgets.IntSlider(value=5, min=3, max=10, step=1, description='Top N:')\n",
    "dropdown_variable = widgets.Dropdown(options=unique_products, value=unique_products[0], description='Product:')"
   ]
  },
  {
   "cell_type": "code",
   "execution_count": 15,
   "id": "21762656-e94b-4a37-a0e3-c5c524645159",
   "metadata": {},
   "outputs": [],
   "source": [
    "def update_output(change):\n",
    "    \n",
    "    top_n = slider_variable.value\n",
    "    selected_product = dropdown_variable.value\n",
    "\n",
    "    top_rules = find_top_confidence_rules(selected_product, rules, top_n)\n",
    "\n",
    "    consequents = top_rules['consequents'].apply(lambda x: list(x)[0]).tolist()\n",
    "    confidence_levels = top_rules['confidence'].tolist()\n",
    "\n",
    "    grid_items = []\n",
    "    for consequent, confidence in zip(consequents, confidence_levels):\n",
    "        product_label = widgets.Label(value=consequent)\n",
    "        confidence_bar = widgets.FloatProgress(value=confidence, min=0, max=1, bar_style='info', description=f'{confidence:.4f}')\n",
    "        grid_items.append(product_label)\n",
    "        grid_items.append(confidence_bar)\n",
    "\n",
    "    # Update the grid layout\n",
    "    grid_layout.children = grid_items"
   ]
  },
  {
   "cell_type": "code",
   "execution_count": 16,
   "id": "6e39b6f2-c783-4744-be20-0ecce0237b14",
   "metadata": {},
   "outputs": [],
   "source": [
    "def find_top_confidence_rules(product, rules, top_n=slider_variable.value):\n",
    "    filtered_rules = rules[rules['antecedents'] == frozenset([product])]\n",
    "    sorted_rules = filtered_rules.sort_values(by='confidence', ascending=False).head(top_n)\n",
    "    # Keep only unique consequents\n",
    "    sorted_rules = sorted_rules.drop_duplicates(subset=['consequents'])\n",
    "    return sorted_rules"
   ]
  },
  {
   "cell_type": "code",
   "execution_count": 17,
   "id": "4ebbebc1-7f2d-4922-87e7-6c5bf3e00955",
   "metadata": {},
   "outputs": [],
   "source": [
    "slider_variable.observe(update_output, names='value')\n",
    "dropdown_variable.observe(update_output, names='value')"
   ]
  },
  {
   "cell_type": "code",
   "execution_count": 18,
   "id": "22c270ef-6df4-4fc9-b8dd-068b61233ee1",
   "metadata": {},
   "outputs": [],
   "source": [
    "recommended_products = widgets.HTML(value=\"<b>Recommended Products</b>\")\n",
    "grid_layout = widgets.GridBox([], layout=widgets.Layout(grid_template_columns=\"auto auto\"))"
   ]
  },
  {
   "cell_type": "code",
   "execution_count": 19,
   "id": "9f2f82ea-7f22-4986-b5a5-6a21d000d56f",
   "metadata": {},
   "outputs": [
    {
     "data": {
      "application/vnd.jupyter.widget-view+json": {
       "model_id": "50e21536a8544e71abcabcb1f8b6644b",
       "version_major": 2,
       "version_minor": 0
      },
      "text/plain": [
       "IntSlider(value=5, description='Top N:', max=10, min=3)"
      ]
     },
     "metadata": {},
     "output_type": "display_data"
    },
    {
     "data": {
      "application/vnd.jupyter.widget-view+json": {
       "model_id": "b85c560723c643659cc282be5ac50e5f",
       "version_major": 2,
       "version_minor": 0
      },
      "text/plain": [
       "Dropdown(description='Product:', options=(\"Nike Men's Dri-FIT Victory Golf Polo\", \"Under Armour Girls' Toddler…"
      ]
     },
     "metadata": {},
     "output_type": "display_data"
    },
    {
     "data": {
      "application/vnd.jupyter.widget-view+json": {
       "model_id": "cfddbc7a9c474722a52faf9b1df82db0",
       "version_major": 2,
       "version_minor": 0
      },
      "text/plain": [
       "VBox(children=(HTML(value='<b>Recommended Products</b>'), GridBox(layout=Layout(grid_template_columns='auto au…"
      ]
     },
     "metadata": {},
     "output_type": "display_data"
    }
   ],
   "source": [
    "display(slider_variable)\n",
    "display(dropdown_variable)\n",
    "display(widgets.VBox([recommended_products, grid_layout]))\n",
    "\n",
    "update_output(None)"
   ]
  },
  {
   "cell_type": "code",
   "execution_count": null,
   "id": "d60fb6be-4a17-487c-8fe2-44c2c7943b9c",
   "metadata": {},
   "outputs": [],
   "source": []
  },
  {
   "cell_type": "code",
   "execution_count": null,
   "id": "e1201f1b-8b1e-4e59-8c62-caee056b103e",
   "metadata": {},
   "outputs": [],
   "source": []
  }
 ],
 "metadata": {
  "kernelspec": {
   "display_name": "Python 3 (ipykernel)",
   "language": "python",
   "name": "python3"
  },
  "language_info": {
   "codemirror_mode": {
    "name": "ipython",
    "version": 3
   },
   "file_extension": ".py",
   "mimetype": "text/x-python",
   "name": "python",
   "nbconvert_exporter": "python",
   "pygments_lexer": "ipython3",
   "version": "3.12.7"
  },
  "widgets": {
   "application/vnd.jupyter.widget-state+json": {
    "state": {
     "000e270598364bc391179dac255183df": {
      "model_module": "@jupyter-widgets/base",
      "model_module_version": "2.0.0",
      "model_name": "LayoutModel",
      "state": {}
     },
     "0070b7f57e3241ae81037f836520953d": {
      "model_module": "@jupyter-widgets/controls",
      "model_module_version": "2.0.0",
      "model_name": "LabelModel",
      "state": {
       "layout": "IPY_MODEL_c7fb8aabe80e4023bce04c2b03aca9bf",
       "style": "IPY_MODEL_c6d1b4614dca428aae965b1bd49ff0f5",
       "value": "Field & Stream Sportsman 16 Gun Fire Safe"
      }
     },
     "008d3910986f42c992af0aaa90775bc2": {
      "model_module": "@jupyter-widgets/base",
      "model_module_version": "2.0.0",
      "model_name": "LayoutModel",
      "state": {}
     },
     "008d7a9f4cb34e888be9f3321cbc06ce": {
      "model_module": "@jupyter-widgets/base",
      "model_module_version": "2.0.0",
      "model_name": "LayoutModel",
      "state": {}
     },
     "00a1d1070756483aaf2cd1b2c675caae": {
      "model_module": "@jupyter-widgets/controls",
      "model_module_version": "2.0.0",
      "model_name": "FloatProgressModel",
      "state": {
       "bar_style": "info",
       "description": "0.4310",
       "layout": "IPY_MODEL_b732908261044c5095708be2c1926bc6",
       "max": 1,
       "style": "IPY_MODEL_418b547c500c4e77b519e0aad13ce63b",
       "value": 0.43103448275862066
      }
     },
     "011bb8f20aa744ffb75d6d5b855afb67": {
      "model_module": "@jupyter-widgets/controls",
      "model_module_version": "2.0.0",
      "model_name": "LabelModel",
      "state": {
       "layout": "IPY_MODEL_74de79d4989a4acdafdb1dd98a53fdf2",
       "style": "IPY_MODEL_ee4fe32a4c664a4b90414f888b168474",
       "value": "O'Brien Men's Neoprene Life Vest"
      }
     },
     "0124c84369ca4260ad3d7478b9952f41": {
      "model_module": "@jupyter-widgets/controls",
      "model_module_version": "2.0.0",
      "model_name": "FloatProgressModel",
      "state": {
       "bar_style": "info",
       "description": "0.5670",
       "layout": "IPY_MODEL_008d3910986f42c992af0aaa90775bc2",
       "max": 1,
       "style": "IPY_MODEL_bbe9d442b8f74a1b816add922bbc8d9e",
       "value": 0.5670498084291187
      }
     },
     "013ed44f77a34385aa2ff204af233df6": {
      "model_module": "@jupyter-widgets/base",
      "model_module_version": "2.0.0",
      "model_name": "LayoutModel",
      "state": {}
     },
     "021009b74b304cb8ade3ecf4bf37f069": {
      "model_module": "@jupyter-widgets/base",
      "model_module_version": "2.0.0",
      "model_name": "LayoutModel",
      "state": {}
     },
     "029eaec03ea24deba644568a3c72f31e": {
      "model_module": "@jupyter-widgets/controls",
      "model_module_version": "2.0.0",
      "model_name": "LabelModel",
      "state": {
       "layout": "IPY_MODEL_2c3daf859858414db364c06cadae482a",
       "style": "IPY_MODEL_ca1f33c24b474cde94402a1fd2fba6fd",
       "value": "Diamondback Women's Serene Classic Comfort Bi"
      }
     },
     "02e56b9935c34b058de835cd8ae614ee": {
      "model_module": "@jupyter-widgets/controls",
      "model_module_version": "2.0.0",
      "model_name": "LabelModel",
      "state": {
       "layout": "IPY_MODEL_85dd93ed023146618c61daba2838a665",
       "style": "IPY_MODEL_1fd776d693ef411e8e152818ece03110",
       "value": "Perfect Fitness Perfect Rip Deck"
      }
     },
     "034090405613439a808c83ad34f31989": {
      "model_module": "@jupyter-widgets/controls",
      "model_module_version": "2.0.0",
      "model_name": "FloatProgressModel",
      "state": {
       "bar_style": "info",
       "description": "0.5670",
       "layout": "IPY_MODEL_e8f8d7d0a9d641d0a868347604f4ee7b",
       "max": 1,
       "style": "IPY_MODEL_1ef5e0c33cf04eb298b603ebd1667035",
       "value": 0.5670498084291187
      }
     },
     "035bc89934f64ad585068b10ea5ea439": {
      "model_module": "@jupyter-widgets/controls",
      "model_module_version": "2.0.0",
      "model_name": "LabelStyleModel",
      "state": {
       "description_width": "",
       "font_family": null,
       "font_size": null,
       "font_style": null,
       "font_variant": null,
       "font_weight": null,
       "text_color": null,
       "text_decoration": null
      }
     },
     "03e8116c231745c4a2da9a4bcb2a42ae": {
      "model_module": "@jupyter-widgets/controls",
      "model_module_version": "2.0.0",
      "model_name": "ProgressStyleModel",
      "state": {
       "description_width": ""
      }
     },
     "05032f94367845de97b778deacad15ee": {
      "model_module": "@jupyter-widgets/base",
      "model_module_version": "2.0.0",
      "model_name": "LayoutModel",
      "state": {}
     },
     "05473eb16ca44b1cb22be492d4d8f9b1": {
      "model_module": "@jupyter-widgets/base",
      "model_module_version": "2.0.0",
      "model_name": "LayoutModel",
      "state": {}
     },
     "059dd9d3eabe40bb970389221e839d09": {
      "model_module": "@jupyter-widgets/base",
      "model_module_version": "2.0.0",
      "model_name": "LayoutModel",
      "state": {}
     },
     "0605fef951d3461fb99b1e1b85c59faf": {
      "model_module": "@jupyter-widgets/controls",
      "model_module_version": "2.0.0",
      "model_name": "ProgressStyleModel",
      "state": {
       "description_width": ""
      }
     },
     "06319a9517364240b4051c0e3ff18082": {
      "model_module": "@jupyter-widgets/controls",
      "model_module_version": "2.0.0",
      "model_name": "ProgressStyleModel",
      "state": {
       "description_width": ""
      }
     },
     "0640cc3df02c4f158a5553684ede2926": {
      "model_module": "@jupyter-widgets/base",
      "model_module_version": "2.0.0",
      "model_name": "LayoutModel",
      "state": {}
     },
     "06b89e23263240f4b7bff3629cb55e2c": {
      "model_module": "@jupyter-widgets/base",
      "model_module_version": "2.0.0",
      "model_name": "LayoutModel",
      "state": {}
     },
     "06c5fe3e75264bc881bb9fd2dc6dea5c": {
      "model_module": "@jupyter-widgets/controls",
      "model_module_version": "2.0.0",
      "model_name": "ProgressStyleModel",
      "state": {
       "description_width": ""
      }
     },
     "072ddefe93864e4c9f5e81ea35330163": {
      "model_module": "@jupyter-widgets/controls",
      "model_module_version": "2.0.0",
      "model_name": "FloatProgressModel",
      "state": {
       "bar_style": "info",
       "description": "0.3985",
       "layout": "IPY_MODEL_922eaedd1e9441c283e3f9d6b6f573f3",
       "max": 1,
       "style": "IPY_MODEL_67b51a096be2417694b082d17100130d",
       "value": 0.39846743295019155
      }
     },
     "07302527edb84036abb8f4789a84ea47": {
      "model_module": "@jupyter-widgets/base",
      "model_module_version": "2.0.0",
      "model_name": "LayoutModel",
      "state": {}
     },
     "078885662b5a4f2aa0bb122247ea2183": {
      "model_module": "@jupyter-widgets/base",
      "model_module_version": "2.0.0",
      "model_name": "LayoutModel",
      "state": {}
     },
     "07d03124aba245fb8f163f2e527af2e1": {
      "model_module": "@jupyter-widgets/controls",
      "model_module_version": "2.0.0",
      "model_name": "LabelModel",
      "state": {
       "layout": "IPY_MODEL_19bb7684255f450f97aa3be3c15d888c",
       "style": "IPY_MODEL_dd95a785a12644578616613b6145e473",
       "value": "Nike Men's CJ Elite 2 TD Football Cleat"
      }
     },
     "092b3408ecb2405ab1945eca9c5e026f": {
      "model_module": "@jupyter-widgets/controls",
      "model_module_version": "2.0.0",
      "model_name": "FloatProgressModel",
      "state": {
       "bar_style": "info",
       "description": "0.6327",
       "layout": "IPY_MODEL_2a8ad5fcf0ef412c99de1f858df82ba7",
       "max": 1,
       "style": "IPY_MODEL_ad8c9e5c613540d9bde3c06630e5f4a6",
       "value": 0.6326923076923077
      }
     },
     "094132935a274f359c01d98fa929a865": {
      "model_module": "@jupyter-widgets/controls",
      "model_module_version": "2.0.0",
      "model_name": "LabelModel",
      "state": {
       "layout": "IPY_MODEL_f80bfe3100cd46b5b7f38a02327969da",
       "style": "IPY_MODEL_932c63e552644a1593d9ea8fe2fefc4f",
       "value": "Pelican Sunstream 100 Kayak"
      }
     },
     "096c965bbec6430fa8ec8d321fa95a1f": {
      "model_module": "@jupyter-widgets/controls",
      "model_module_version": "2.0.0",
      "model_name": "FloatProgressModel",
      "state": {
       "bar_style": "info",
       "description": "0.4635",
       "layout": "IPY_MODEL_f24b37d1b38641659e952cd30ce189fd",
       "max": 1,
       "style": "IPY_MODEL_0ce9f71f251f4542b9e964d5b61cc070",
       "value": 0.4634615384615384
      }
     },
     "0972dcffc38247e799a7a96f5b659de9": {
      "model_module": "@jupyter-widgets/base",
      "model_module_version": "2.0.0",
      "model_name": "LayoutModel",
      "state": {}
     },
     "09d90882cad64a0abd4640991b1f6c98": {
      "model_module": "@jupyter-widgets/base",
      "model_module_version": "2.0.0",
      "model_name": "LayoutModel",
      "state": {}
     },
     "0a4815e2a80943d2b3040662ff41b2fc": {
      "model_module": "@jupyter-widgets/base",
      "model_module_version": "2.0.0",
      "model_name": "LayoutModel",
      "state": {}
     },
     "0a4d1e58f8264d60b767e05b1286ce19": {
      "model_module": "@jupyter-widgets/controls",
      "model_module_version": "2.0.0",
      "model_name": "ProgressStyleModel",
      "state": {
       "description_width": ""
      }
     },
     "0abcd643fb9b4194ab946fd6fef58e89": {
      "model_module": "@jupyter-widgets/controls",
      "model_module_version": "2.0.0",
      "model_name": "LabelStyleModel",
      "state": {
       "description_width": "",
       "font_family": null,
       "font_size": null,
       "font_style": null,
       "font_variant": null,
       "font_weight": null,
       "text_color": null,
       "text_decoration": null
      }
     },
     "0b02e1a54e044a07a32f8a2dffc7b116": {
      "model_module": "@jupyter-widgets/controls",
      "model_module_version": "2.0.0",
      "model_name": "ProgressStyleModel",
      "state": {
       "description_width": ""
      }
     },
     "0b54f75171154e768c12630e249e54d8": {
      "model_module": "@jupyter-widgets/controls",
      "model_module_version": "2.0.0",
      "model_name": "FloatProgressModel",
      "state": {
       "bar_style": "info",
       "description": "0.3985",
       "layout": "IPY_MODEL_93d9936896aa41ccb356ca534f463939",
       "max": 1,
       "style": "IPY_MODEL_8e43e17f771f4211b2557db5c10883c1",
       "value": 0.39846743295019155
      }
     },
     "0b587cac688743079235e26a7389dc6f": {
      "model_module": "@jupyter-widgets/controls",
      "model_module_version": "2.0.0",
      "model_name": "LabelStyleModel",
      "state": {
       "description_width": "",
       "font_family": null,
       "font_size": null,
       "font_style": null,
       "font_variant": null,
       "font_weight": null,
       "text_color": null,
       "text_decoration": null
      }
     },
     "0b7d2311eaa84d349cf22d3d35ce26a2": {
      "model_module": "@jupyter-widgets/base",
      "model_module_version": "2.0.0",
      "model_name": "LayoutModel",
      "state": {}
     },
     "0b8331dadc2a482cb0ead6462835724c": {
      "model_module": "@jupyter-widgets/controls",
      "model_module_version": "2.0.0",
      "model_name": "LabelStyleModel",
      "state": {
       "description_width": "",
       "font_family": null,
       "font_size": null,
       "font_style": null,
       "font_variant": null,
       "font_weight": null,
       "text_color": null,
       "text_decoration": null
      }
     },
     "0bd575c040694c86ad3febcbdcd017e3": {
      "model_module": "@jupyter-widgets/controls",
      "model_module_version": "2.0.0",
      "model_name": "LabelModel",
      "state": {
       "layout": "IPY_MODEL_07302527edb84036abb8f4789a84ea47",
       "style": "IPY_MODEL_a8f8c8fffedd4ce1b8b3d546fd3de8fe",
       "value": "Nike Men's CJ Elite 2 TD Football Cleat"
      }
     },
     "0c024486c99e436bb86b4aa338666753": {
      "model_module": "@jupyter-widgets/controls",
      "model_module_version": "2.0.0",
      "model_name": "LabelModel",
      "state": {
       "layout": "IPY_MODEL_a72a53921884449cac33ba17eaf31f5f",
       "style": "IPY_MODEL_f0acfd20e24b44a0b0fd01650031ab36",
       "value": "O'Brien Men's Neoprene Life Vest"
      }
     },
     "0c406bef09014da58ea0c2e1daa09269": {
      "model_module": "@jupyter-widgets/controls",
      "model_module_version": "2.0.0",
      "model_name": "LabelStyleModel",
      "state": {
       "description_width": "",
       "font_family": null,
       "font_size": null,
       "font_style": null,
       "font_variant": null,
       "font_weight": null,
       "text_color": null,
       "text_decoration": null
      }
     },
     "0c5ee16db7254257805a1c1323778773": {
      "model_module": "@jupyter-widgets/base",
      "model_module_version": "2.0.0",
      "model_name": "LayoutModel",
      "state": {}
     },
     "0cd8b88000a24b84a50464a24afd22af": {
      "model_module": "@jupyter-widgets/base",
      "model_module_version": "2.0.0",
      "model_name": "LayoutModel",
      "state": {}
     },
     "0ce9f71f251f4542b9e964d5b61cc070": {
      "model_module": "@jupyter-widgets/controls",
      "model_module_version": "2.0.0",
      "model_name": "ProgressStyleModel",
      "state": {
       "description_width": ""
      }
     },
     "0cea4d6e636f4b33ab390c44681e56c1": {
      "model_module": "@jupyter-widgets/controls",
      "model_module_version": "2.0.0",
      "model_name": "ProgressStyleModel",
      "state": {
       "description_width": ""
      }
     },
     "0d111595b17d471a9ac3d3fdec917518": {
      "model_module": "@jupyter-widgets/controls",
      "model_module_version": "2.0.0",
      "model_name": "ProgressStyleModel",
      "state": {
       "description_width": ""
      }
     },
     "0d113fe9f0a1478097fd1568513de0bd": {
      "model_module": "@jupyter-widgets/controls",
      "model_module_version": "2.0.0",
      "model_name": "ProgressStyleModel",
      "state": {
       "description_width": ""
      }
     },
     "0d2990a84c394e3b80d9bf4b00c8ccdb": {
      "model_module": "@jupyter-widgets/controls",
      "model_module_version": "2.0.0",
      "model_name": "ProgressStyleModel",
      "state": {
       "description_width": ""
      }
     },
     "0d2e325fe2ce4a5281fb11919d2cf600": {
      "model_module": "@jupyter-widgets/controls",
      "model_module_version": "2.0.0",
      "model_name": "ProgressStyleModel",
      "state": {
       "description_width": ""
      }
     },
     "0e079f7019da47ff927ba2b0c4116d90": {
      "model_module": "@jupyter-widgets/controls",
      "model_module_version": "2.0.0",
      "model_name": "ProgressStyleModel",
      "state": {
       "description_width": ""
      }
     },
     "0e2047c94b5e4acebdac481c7e76bcf5": {
      "model_module": "@jupyter-widgets/controls",
      "model_module_version": "2.0.0",
      "model_name": "FloatProgressModel",
      "state": {
       "bar_style": "info",
       "description": "0.4617",
       "layout": "IPY_MODEL_6d01c1af997a4c82b3dcac6ce0bc863c",
       "max": 1,
       "style": "IPY_MODEL_1fc26d558f9b4f73b3684cf063cad25d",
       "value": 0.4616858237547892
      }
     },
     "0ea830d11d7d43478757a83fd0c3d0ba": {
      "model_module": "@jupyter-widgets/base",
      "model_module_version": "2.0.0",
      "model_name": "LayoutModel",
      "state": {}
     },
     "0ecfe24ca1724ba19e26aa6b8265bce3": {
      "model_module": "@jupyter-widgets/controls",
      "model_module_version": "2.0.0",
      "model_name": "LabelModel",
      "state": {
       "layout": "IPY_MODEL_b9b52441d9454f5c8dbd0e74e35f9d7e",
       "style": "IPY_MODEL_2d5857f862c741b9b5d640b819420b8b",
       "value": "O'Brien Men's Neoprene Life Vest"
      }
     },
     "0ede7d3dc9e84cd99668087f7173bbed": {
      "model_module": "@jupyter-widgets/controls",
      "model_module_version": "2.0.0",
      "model_name": "LabelModel",
      "state": {
       "layout": "IPY_MODEL_9e6d57903d0846a2b42d98734d7cbf55",
       "style": "IPY_MODEL_cb5634b6cf434e329da7a19fd626f81f",
       "value": "Perfect Fitness Perfect Rip Deck"
      }
     },
     "0ef85082e777483fbd1750e972715c2e": {
      "model_module": "@jupyter-widgets/base",
      "model_module_version": "2.0.0",
      "model_name": "LayoutModel",
      "state": {}
     },
     "0f2add72630148d8b7675da49256e50f": {
      "model_module": "@jupyter-widgets/controls",
      "model_module_version": "2.0.0",
      "model_name": "LabelModel",
      "state": {
       "layout": "IPY_MODEL_86cfecbeb6c0401db17c1ca1d98b3514",
       "style": "IPY_MODEL_3a6f1f09034f4f80acff7e642102878c",
       "value": "O'Brien Men's Neoprene Life Vest"
      }
     },
     "0fb1b0be9c7d40a28ad10e69757df58e": {
      "model_module": "@jupyter-widgets/controls",
      "model_module_version": "2.0.0",
      "model_name": "LabelModel",
      "state": {
       "layout": "IPY_MODEL_e8a188d4ccaf4dcfaa43db455ec55a43",
       "style": "IPY_MODEL_f71aba45360042b1acc2521fa8762e5f",
       "value": "Perfect Fitness Perfect Rip Deck"
      }
     },
     "100df43f1bd3443f82a6d2abdb6ad4d0": {
      "model_module": "@jupyter-widgets/controls",
      "model_module_version": "2.0.0",
      "model_name": "FloatProgressModel",
      "state": {
       "bar_style": "info",
       "description": "0.3276",
       "layout": "IPY_MODEL_bafb57782d194248909762a44218e3cd",
       "max": 1,
       "style": "IPY_MODEL_da992d9036b54b67b6695799ae3bfb55",
       "value": 0.3275862068965517
      }
     },
     "10709ffcf8834d5bba4e2f864d4924ac": {
      "model_module": "@jupyter-widgets/controls",
      "model_module_version": "2.0.0",
      "model_name": "LabelStyleModel",
      "state": {
       "description_width": "",
       "font_family": null,
       "font_size": null,
       "font_style": null,
       "font_variant": null,
       "font_weight": null,
       "text_color": null,
       "text_decoration": null
      }
     },
     "10a15f93f6194da287852c77ffe1221e": {
      "model_module": "@jupyter-widgets/controls",
      "model_module_version": "2.0.0",
      "model_name": "ProgressStyleModel",
      "state": {
       "description_width": ""
      }
     },
     "10faf051471b46679324ad4ed5ba7b4b": {
      "model_module": "@jupyter-widgets/controls",
      "model_module_version": "2.0.0",
      "model_name": "LabelStyleModel",
      "state": {
       "description_width": "",
       "font_family": null,
       "font_size": null,
       "font_style": null,
       "font_variant": null,
       "font_weight": null,
       "text_color": null,
       "text_decoration": null
      }
     },
     "11b018d734fe4bc7ae2d368ff738737f": {
      "model_module": "@jupyter-widgets/base",
      "model_module_version": "2.0.0",
      "model_name": "LayoutModel",
      "state": {}
     },
     "11ee8c5712d54696816d15155b7cb2d5": {
      "model_module": "@jupyter-widgets/controls",
      "model_module_version": "2.0.0",
      "model_name": "ProgressStyleModel",
      "state": {
       "description_width": ""
      }
     },
     "11f09e730bb44a1c9917097c671bb581": {
      "model_module": "@jupyter-widgets/base",
      "model_module_version": "2.0.0",
      "model_name": "LayoutModel",
      "state": {}
     },
     "1211463c6ac84120a5a472370305f35c": {
      "model_module": "@jupyter-widgets/controls",
      "model_module_version": "2.0.0",
      "model_name": "FloatProgressModel",
      "state": {
       "bar_style": "info",
       "description": "0.5788",
       "layout": "IPY_MODEL_bb04e3aebe2f45fab9c6e6ee1043ee59",
       "max": 1,
       "style": "IPY_MODEL_5ff3f3a01c6e44c4bdfe8e8a9223ab68",
       "value": 0.5788461538461538
      }
     },
     "1218549cd032453f89820a956796cec0": {
      "model_module": "@jupyter-widgets/controls",
      "model_module_version": "2.0.0",
      "model_name": "ProgressStyleModel",
      "state": {
       "description_width": ""
      }
     },
     "122b1bbd2e0047bb9c839cc0f5b8eb3c": {
      "model_module": "@jupyter-widgets/controls",
      "model_module_version": "2.0.0",
      "model_name": "FloatProgressModel",
      "state": {
       "bar_style": "info",
       "description": "0.4250",
       "layout": "IPY_MODEL_809385ebe3da4f65bfd384655b19ea19",
       "max": 1,
       "style": "IPY_MODEL_ea32f58f4636477db6df0d41f59d2e86",
       "value": 0.425
      }
     },
     "127b9772be574c93963be1650c8870af": {
      "model_module": "@jupyter-widgets/controls",
      "model_module_version": "2.0.0",
      "model_name": "LabelStyleModel",
      "state": {
       "description_width": "",
       "font_family": null,
       "font_size": null,
       "font_style": null,
       "font_variant": null,
       "font_weight": null,
       "text_color": null,
       "text_decoration": null
      }
     },
     "12c0b3da31da44a3b1242c62fd2dbee0": {
      "model_module": "@jupyter-widgets/controls",
      "model_module_version": "2.0.0",
      "model_name": "FloatProgressModel",
      "state": {
       "bar_style": "info",
       "description": "0.5326",
       "layout": "IPY_MODEL_8c40e0e0edc24115a1d2eb0ca62ae06d",
       "max": 1,
       "style": "IPY_MODEL_38f01bcb3f844c779db6595eca4860a6",
       "value": 0.5325670498084292
      }
     },
     "12e228701f60442e993077c22accc1fa": {
      "model_module": "@jupyter-widgets/base",
      "model_module_version": "2.0.0",
      "model_name": "LayoutModel",
      "state": {}
     },
     "1315a9adef394cf3b48255265f013f1b": {
      "model_module": "@jupyter-widgets/controls",
      "model_module_version": "2.0.0",
      "model_name": "ProgressStyleModel",
      "state": {
       "description_width": ""
      }
     },
     "1318db1adf1744cd95534f9649f8259b": {
      "model_module": "@jupyter-widgets/base",
      "model_module_version": "2.0.0",
      "model_name": "LayoutModel",
      "state": {}
     },
     "13accfc27fd940ac9f6ee3ae5da30a70": {
      "model_module": "@jupyter-widgets/base",
      "model_module_version": "2.0.0",
      "model_name": "LayoutModel",
      "state": {}
     },
     "13c1bbfa60a846d49d6089c7e90cfd04": {
      "model_module": "@jupyter-widgets/controls",
      "model_module_version": "2.0.0",
      "model_name": "LabelStyleModel",
      "state": {
       "description_width": "",
       "font_family": null,
       "font_size": null,
       "font_style": null,
       "font_variant": null,
       "font_weight": null,
       "text_color": null,
       "text_decoration": null
      }
     },
     "14272f3de90340398549facae79ab9fe": {
      "model_module": "@jupyter-widgets/controls",
      "model_module_version": "2.0.0",
      "model_name": "ProgressStyleModel",
      "state": {
       "description_width": ""
      }
     },
     "152ee916da8541c092b30c13ec9a005a": {
      "model_module": "@jupyter-widgets/controls",
      "model_module_version": "2.0.0",
      "model_name": "FloatProgressModel",
      "state": {
       "bar_style": "info",
       "description": "0.4617",
       "layout": "IPY_MODEL_078885662b5a4f2aa0bb122247ea2183",
       "max": 1,
       "style": "IPY_MODEL_bade40ccd34141429573e785f0d0af13",
       "value": 0.4616858237547892
      }
     },
     "15677a0c65104a1fad3dd724ecd5bcd0": {
      "model_module": "@jupyter-widgets/base",
      "model_module_version": "2.0.0",
      "model_name": "LayoutModel",
      "state": {}
     },
     "157ba964ccee4bc08627c335fece9b23": {
      "model_module": "@jupyter-widgets/controls",
      "model_module_version": "2.0.0",
      "model_name": "FloatProgressModel",
      "state": {
       "bar_style": "info",
       "description": "0.5670",
       "layout": "IPY_MODEL_c732cbdf9bab4f939971189c8c55fae8",
       "max": 1,
       "style": "IPY_MODEL_2e6b386a48d6458987e447ff42a43608",
       "value": 0.5670498084291187
      }
     },
     "16095318ad104c10af2049bca8f58f5b": {
      "model_module": "@jupyter-widgets/controls",
      "model_module_version": "2.0.0",
      "model_name": "LabelModel",
      "state": {
       "layout": "IPY_MODEL_d437c4d4b2d0425a8dbd4fe2d3882842",
       "style": "IPY_MODEL_34138098e2184819acb0faee2c096432",
       "value": "Pelican Sunstream 100 Kayak"
      }
     },
     "1613c4ead55949918d4f446139fd2488": {
      "model_module": "@jupyter-widgets/base",
      "model_module_version": "2.0.0",
      "model_name": "LayoutModel",
      "state": {}
     },
     "1640f2b124a34036a7182d0543feb10c": {
      "model_module": "@jupyter-widgets/base",
      "model_module_version": "2.0.0",
      "model_name": "LayoutModel",
      "state": {}
     },
     "16e011f1ced34d44bb992aa1c88d96c3": {
      "model_module": "@jupyter-widgets/controls",
      "model_module_version": "2.0.0",
      "model_name": "LabelStyleModel",
      "state": {
       "description_width": "",
       "font_family": null,
       "font_size": null,
       "font_style": null,
       "font_variant": null,
       "font_weight": null,
       "text_color": null,
       "text_decoration": null
      }
     },
     "1759c4c946b445ebb3d363e0594e688c": {
      "model_module": "@jupyter-widgets/controls",
      "model_module_version": "2.0.0",
      "model_name": "ProgressStyleModel",
      "state": {
       "description_width": ""
      }
     },
     "1764a3782e5d498aa7c62a311de5087f": {
      "model_module": "@jupyter-widgets/controls",
      "model_module_version": "2.0.0",
      "model_name": "FloatProgressModel",
      "state": {
       "bar_style": "info",
       "description": "0.5326",
       "layout": "IPY_MODEL_d00a1a4dfb174ca9afd90fe0da8522ec",
       "max": 1,
       "style": "IPY_MODEL_32f1630ee18e4c1dbd7d75caa8077641",
       "value": 0.5325670498084292
      }
     },
     "186d70d2df414a42ad72a598795d86f1": {
      "model_module": "@jupyter-widgets/controls",
      "model_module_version": "2.0.0",
      "model_name": "LabelModel",
      "state": {
       "layout": "IPY_MODEL_9f0119c931cf4f4aaaeaf4ea09b1e265",
       "style": "IPY_MODEL_84774b24d33e455b8d628515a7062491",
       "value": "Field & Stream Sportsman 16 Gun Fire Safe"
      }
     },
     "18eec034b17c4291a97f4a3b6dc968a6": {
      "model_module": "@jupyter-widgets/base",
      "model_module_version": "2.0.0",
      "model_name": "LayoutModel",
      "state": {}
     },
     "18f747036d68422c843bfdb6cde064a1": {
      "model_module": "@jupyter-widgets/controls",
      "model_module_version": "2.0.0",
      "model_name": "LabelModel",
      "state": {
       "layout": "IPY_MODEL_33d27e860f0a49528f2f6d65d05091ea",
       "style": "IPY_MODEL_a0ef77656fb54580b0df0dd8594dcabf",
       "value": "Diamondback Women's Serene Classic Comfort Bi"
      }
     },
     "19086758c9ad4701a18a29bfa14b39e6": {
      "model_module": "@jupyter-widgets/base",
      "model_module_version": "2.0.0",
      "model_name": "LayoutModel",
      "state": {}
     },
     "193003130c3a43399bee49db52123c51": {
      "model_module": "@jupyter-widgets/base",
      "model_module_version": "2.0.0",
      "model_name": "LayoutModel",
      "state": {}
     },
     "19425bc1486c4e44b9eac35c88206f69": {
      "model_module": "@jupyter-widgets/base",
      "model_module_version": "2.0.0",
      "model_name": "LayoutModel",
      "state": {}
     },
     "1951122e4a83473daaf7dca7218a39a2": {
      "model_module": "@jupyter-widgets/controls",
      "model_module_version": "2.0.0",
      "model_name": "ProgressStyleModel",
      "state": {
       "description_width": ""
      }
     },
     "198cf59c5b314ea8b882effdbe4a4edf": {
      "model_module": "@jupyter-widgets/controls",
      "model_module_version": "2.0.0",
      "model_name": "LabelStyleModel",
      "state": {
       "description_width": "",
       "font_family": null,
       "font_size": null,
       "font_style": null,
       "font_variant": null,
       "font_weight": null,
       "text_color": null,
       "text_decoration": null
      }
     },
     "1998f4d69e4742368c09ccbb01d5577a": {
      "model_module": "@jupyter-widgets/controls",
      "model_module_version": "2.0.0",
      "model_name": "FloatProgressModel",
      "state": {
       "bar_style": "info",
       "description": "0.3985",
       "layout": "IPY_MODEL_5c79691e4e7743fabaa1d2f23eee2b52",
       "max": 1,
       "style": "IPY_MODEL_a246a57f289843f686e7c87751fad1b6",
       "value": 0.39846743295019155
      }
     },
     "19bb7684255f450f97aa3be3c15d888c": {
      "model_module": "@jupyter-widgets/base",
      "model_module_version": "2.0.0",
      "model_name": "LayoutModel",
      "state": {}
     },
     "19d3b4b2681042f186344c9c0e9dfb03": {
      "model_module": "@jupyter-widgets/controls",
      "model_module_version": "2.0.0",
      "model_name": "LabelModel",
      "state": {
       "layout": "IPY_MODEL_cd17389bc9d04b83981f2f030038c034",
       "style": "IPY_MODEL_ffe9917da0da4159a4a02575cf2b02bd",
       "value": "Pelican Sunstream 100 Kayak"
      }
     },
     "1a911be081e44ed89bb3f6016447b291": {
      "model_module": "@jupyter-widgets/base",
      "model_module_version": "2.0.0",
      "model_name": "LayoutModel",
      "state": {}
     },
     "1aa557499f27443dab50e6585706f63b": {
      "model_module": "@jupyter-widgets/controls",
      "model_module_version": "2.0.0",
      "model_name": "LabelModel",
      "state": {
       "layout": "IPY_MODEL_a7af1bbd650141c791c4128f06be479e",
       "style": "IPY_MODEL_5226654b13b84b23813667414b049b4a",
       "value": "Nike Men's CJ Elite 2 TD Football Cleat"
      }
     },
     "1ad4403e432340c5b826a61db088c400": {
      "model_module": "@jupyter-widgets/controls",
      "model_module_version": "2.0.0",
      "model_name": "FloatProgressModel",
      "state": {
       "bar_style": "info",
       "description": "0.5788",
       "layout": "IPY_MODEL_934b5c661c154c39be8ee51f757e301b",
       "max": 1,
       "style": "IPY_MODEL_b7047c55c04e453c89f9a7aa420f2849",
       "value": 0.5788461538461538
      }
     },
     "1be7c6171e6b449c8e9bf9f1a130dca7": {
      "model_module": "@jupyter-widgets/base",
      "model_module_version": "2.0.0",
      "model_name": "LayoutModel",
      "state": {}
     },
     "1bf727b0d088444a8643a6348b92109b": {
      "model_module": "@jupyter-widgets/controls",
      "model_module_version": "2.0.0",
      "model_name": "LabelStyleModel",
      "state": {
       "description_width": "",
       "font_family": null,
       "font_size": null,
       "font_style": null,
       "font_variant": null,
       "font_weight": null,
       "text_color": null,
       "text_decoration": null
      }
     },
     "1c72c1d6f0f94776bd35a95fee46bbaf": {
      "model_module": "@jupyter-widgets/controls",
      "model_module_version": "2.0.0",
      "model_name": "FloatProgressModel",
      "state": {
       "bar_style": "info",
       "description": "0.5556",
       "layout": "IPY_MODEL_b846007afe034736a3cea23556f86498",
       "max": 1,
       "style": "IPY_MODEL_4be4ca9a4eee411fbe3282cf9f5531a0",
       "value": 0.5555555555555555
      }
     },
     "1c7d817c35ea4859966f85e014d49770": {
      "model_module": "@jupyter-widgets/controls",
      "model_module_version": "2.0.0",
      "model_name": "ProgressStyleModel",
      "state": {
       "description_width": ""
      }
     },
     "1caa711c01144bf0916fdd1934511d41": {
      "model_module": "@jupyter-widgets/controls",
      "model_module_version": "2.0.0",
      "model_name": "ProgressStyleModel",
      "state": {
       "description_width": ""
      }
     },
     "1cd3b5fc67b34a84846d1babdcce946f": {
      "model_module": "@jupyter-widgets/controls",
      "model_module_version": "2.0.0",
      "model_name": "LabelStyleModel",
      "state": {
       "description_width": "",
       "font_family": null,
       "font_size": null,
       "font_style": null,
       "font_variant": null,
       "font_weight": null,
       "text_color": null,
       "text_decoration": null
      }
     },
     "1d445f7dd8484ce69f8bb5d3db2df240": {
      "model_module": "@jupyter-widgets/controls",
      "model_module_version": "2.0.0",
      "model_name": "FloatProgressModel",
      "state": {
       "bar_style": "info",
       "description": "0.5556",
       "layout": "IPY_MODEL_6f164ba125d74a218bcd9c5407116e0a",
       "max": 1,
       "style": "IPY_MODEL_ea195f91fc574ca9a6d005b9d5816d58",
       "value": 0.5555555555555555
      }
     },
     "1d6c11378285436ebfc35bc23a39e12f": {
      "model_module": "@jupyter-widgets/controls",
      "model_module_version": "2.0.0",
      "model_name": "FloatProgressModel",
      "state": {
       "bar_style": "info",
       "description": "0.4617",
       "layout": "IPY_MODEL_fb4aa53891b44de98157ec775a1e1799",
       "max": 1,
       "style": "IPY_MODEL_96f54a16595b4754b0b538958c25473a",
       "value": 0.4616858237547892
      }
     },
     "1ecd913eccf644d7b0c5798a3f2553b2": {
      "model_module": "@jupyter-widgets/base",
      "model_module_version": "2.0.0",
      "model_name": "LayoutModel",
      "state": {}
     },
     "1ef5e0c33cf04eb298b603ebd1667035": {
      "model_module": "@jupyter-widgets/controls",
      "model_module_version": "2.0.0",
      "model_name": "ProgressStyleModel",
      "state": {
       "description_width": ""
      }
     },
     "1f3fc52c87e240a699b0489c2f0eb9b7": {
      "model_module": "@jupyter-widgets/controls",
      "model_module_version": "2.0.0",
      "model_name": "FloatProgressModel",
      "state": {
       "bar_style": "info",
       "description": "0.6327",
       "layout": "IPY_MODEL_9c48e4cd037f462e9294ae625e5a097c",
       "max": 1,
       "style": "IPY_MODEL_687e314ed7354cc3b615ab35029e5ed2",
       "value": 0.6326923076923077
      }
     },
     "1f57f12c2bf244c4ad89008cd7dbc401": {
      "model_module": "@jupyter-widgets/controls",
      "model_module_version": "2.0.0",
      "model_name": "ProgressStyleModel",
      "state": {
       "description_width": ""
      }
     },
     "1f6ea5c84d774c4eaaefcab8f97ba391": {
      "model_module": "@jupyter-widgets/controls",
      "model_module_version": "2.0.0",
      "model_name": "FloatProgressModel",
      "state": {
       "bar_style": "info",
       "description": "0.4310",
       "layout": "IPY_MODEL_851f826607024741aea667e8619990e3",
       "max": 1,
       "style": "IPY_MODEL_5aa4195734bb48eab3211bbbc7dbdaef",
       "value": 0.43103448275862066
      }
     },
     "1f742579994846efa71fb8d184bf44a0": {
      "model_module": "@jupyter-widgets/controls",
      "model_module_version": "2.0.0",
      "model_name": "LabelModel",
      "state": {
       "layout": "IPY_MODEL_059dd9d3eabe40bb970389221e839d09",
       "style": "IPY_MODEL_2cff26b078f0482caef1a241edd670ec",
       "value": "Nike Men's CJ Elite 2 TD Football Cleat"
      }
     },
     "1fa4d964f073407a931f4f42190ce5bc": {
      "model_module": "@jupyter-widgets/controls",
      "model_module_version": "2.0.0",
      "model_name": "FloatProgressModel",
      "state": {
       "bar_style": "info",
       "description": "0.5556",
       "layout": "IPY_MODEL_d582b74bcac2480481f53b785a9b9f81",
       "max": 1,
       "style": "IPY_MODEL_278462c4d3c04afd94cce6a3b5391d83",
       "value": 0.5555555555555555
      }
     },
     "1fc26d558f9b4f73b3684cf063cad25d": {
      "model_module": "@jupyter-widgets/controls",
      "model_module_version": "2.0.0",
      "model_name": "ProgressStyleModel",
      "state": {
       "description_width": ""
      }
     },
     "1fc2d4a6ad4140549807cfd3eb591928": {
      "model_module": "@jupyter-widgets/base",
      "model_module_version": "2.0.0",
      "model_name": "LayoutModel",
      "state": {}
     },
     "1fd776d693ef411e8e152818ece03110": {
      "model_module": "@jupyter-widgets/controls",
      "model_module_version": "2.0.0",
      "model_name": "LabelStyleModel",
      "state": {
       "description_width": "",
       "font_family": null,
       "font_size": null,
       "font_style": null,
       "font_variant": null,
       "font_weight": null,
       "text_color": null,
       "text_decoration": null
      }
     },
     "1ffede612e4d4644907f15f142446e7b": {
      "model_module": "@jupyter-widgets/controls",
      "model_module_version": "2.0.0",
      "model_name": "FloatProgressModel",
      "state": {
       "bar_style": "info",
       "description": "0.4310",
       "layout": "IPY_MODEL_7c7bf908589549aba861c3a1b68f8fae",
       "max": 1,
       "style": "IPY_MODEL_0b02e1a54e044a07a32f8a2dffc7b116",
       "value": 0.43103448275862066
      }
     },
     "203679be58a349bfb50512e1d5d363d0": {
      "model_module": "@jupyter-widgets/base",
      "model_module_version": "2.0.0",
      "model_name": "LayoutModel",
      "state": {}
     },
     "2093a66f71ef49e0a7c5dbe9bed4d3b0": {
      "model_module": "@jupyter-widgets/controls",
      "model_module_version": "2.0.0",
      "model_name": "FloatProgressModel",
      "state": {
       "bar_style": "info",
       "description": "0.6327",
       "layout": "IPY_MODEL_ac4ca9b6b3f549789a28470e964cddf4",
       "max": 1,
       "style": "IPY_MODEL_2eb12dfefff44316b10d0c8964e71623",
       "value": 0.6326923076923077
      }
     },
     "20ab50625d6b4040aded91daacc8910b": {
      "model_module": "@jupyter-widgets/controls",
      "model_module_version": "2.0.0",
      "model_name": "LabelModel",
      "state": {
       "layout": "IPY_MODEL_39f36daf2f0b428699918923c45c3dda",
       "style": "IPY_MODEL_127b9772be574c93963be1650c8870af",
       "value": "Perfect Fitness Perfect Rip Deck"
      }
     },
     "20b140594442464eb59bc3f61439306c": {
      "model_module": "@jupyter-widgets/controls",
      "model_module_version": "2.0.0",
      "model_name": "ProgressStyleModel",
      "state": {
       "description_width": ""
      }
     },
     "20e7f9e3707e4a69997a37c7fc44c08a": {
      "model_module": "@jupyter-widgets/controls",
      "model_module_version": "2.0.0",
      "model_name": "FloatProgressModel",
      "state": {
       "bar_style": "info",
       "description": "0.4617",
       "layout": "IPY_MODEL_ecd3a310e5bf4a5d83e14df433102c7e",
       "max": 1,
       "style": "IPY_MODEL_6f35f77ac5f94f1b9e5a34402f6880cf",
       "value": 0.4616858237547892
      }
     },
     "2274057db9794a6488f09a23bb8a5113": {
      "model_module": "@jupyter-widgets/controls",
      "model_module_version": "2.0.0",
      "model_name": "LabelModel",
      "state": {
       "layout": "IPY_MODEL_c023371bcd564b09b66a0abc82e90b18",
       "style": "IPY_MODEL_0c406bef09014da58ea0c2e1daa09269",
       "value": "Nike Men's CJ Elite 2 TD Football Cleat"
      }
     },
     "228c133dbfc744bd82b7c80b011233c6": {
      "model_module": "@jupyter-widgets/base",
      "model_module_version": "2.0.0",
      "model_name": "LayoutModel",
      "state": {}
     },
     "22cda955a69e41d490480c5e0da85692": {
      "model_module": "@jupyter-widgets/controls",
      "model_module_version": "2.0.0",
      "model_name": "ProgressStyleModel",
      "state": {
       "description_width": ""
      }
     },
     "23390942fc404869860126a906af2c84": {
      "model_module": "@jupyter-widgets/controls",
      "model_module_version": "2.0.0",
      "model_name": "LabelStyleModel",
      "state": {
       "description_width": "",
       "font_family": null,
       "font_size": null,
       "font_style": null,
       "font_variant": null,
       "font_weight": null,
       "text_color": null,
       "text_decoration": null
      }
     },
     "233c535768054bfdb1c73786e7e5901e": {
      "model_module": "@jupyter-widgets/controls",
      "model_module_version": "2.0.0",
      "model_name": "FloatProgressModel",
      "state": {
       "bar_style": "info",
       "description": "0.5670",
       "layout": "IPY_MODEL_73225c30513e42fca96aadd13ada15d3",
       "max": 1,
       "style": "IPY_MODEL_22cda955a69e41d490480c5e0da85692",
       "value": 0.5670498084291187
      }
     },
     "23ba561a85634e3d9e7bbbae71567d78": {
      "model_module": "@jupyter-widgets/controls",
      "model_module_version": "2.0.0",
      "model_name": "FloatProgressModel",
      "state": {
       "bar_style": "info",
       "description": "0.5670",
       "layout": "IPY_MODEL_6ee5f58ef6104fb7a81e56dd56fd2d24",
       "max": 1,
       "style": "IPY_MODEL_d65547918f734874bb93d7f1f24cf5de",
       "value": 0.5670498084291187
      }
     },
     "23d4928a540d47298f79c950b12acba1": {
      "model_module": "@jupyter-widgets/controls",
      "model_module_version": "2.0.0",
      "model_name": "ProgressStyleModel",
      "state": {
       "description_width": ""
      }
     },
     "244fad7d045747b594dc41bbd77bf929": {
      "model_module": "@jupyter-widgets/controls",
      "model_module_version": "2.0.0",
      "model_name": "LabelStyleModel",
      "state": {
       "description_width": "",
       "font_family": null,
       "font_size": null,
       "font_style": null,
       "font_variant": null,
       "font_weight": null,
       "text_color": null,
       "text_decoration": null
      }
     },
     "245f6e1187754b1cb86af5420a17289e": {
      "model_module": "@jupyter-widgets/controls",
      "model_module_version": "2.0.0",
      "model_name": "LabelStyleModel",
      "state": {
       "description_width": "",
       "font_family": null,
       "font_size": null,
       "font_style": null,
       "font_variant": null,
       "font_weight": null,
       "text_color": null,
       "text_decoration": null
      }
     },
     "248ec453b26947f4b0d6f27694bf1516": {
      "model_module": "@jupyter-widgets/controls",
      "model_module_version": "2.0.0",
      "model_name": "ProgressStyleModel",
      "state": {
       "description_width": ""
      }
     },
     "26682aea590a4879b212a5e3531ddb9f": {
      "model_module": "@jupyter-widgets/controls",
      "model_module_version": "2.0.0",
      "model_name": "LabelModel",
      "state": {
       "layout": "IPY_MODEL_b37d4da4b1a643b8a5a0240d48e7983d",
       "style": "IPY_MODEL_3b1e4b50a2554cf0944f2d07289571dd",
       "value": "O'Brien Men's Neoprene Life Vest"
      }
     },
     "2676278a771d45148e592e85d7f2e04b": {
      "model_module": "@jupyter-widgets/base",
      "model_module_version": "2.0.0",
      "model_name": "LayoutModel",
      "state": {}
     },
     "26c6379799f54faa901df2a787a40a92": {
      "model_module": "@jupyter-widgets/base",
      "model_module_version": "2.0.0",
      "model_name": "LayoutModel",
      "state": {}
     },
     "26e15b0bee554ed186549c1ccbbf3a7a": {
      "model_module": "@jupyter-widgets/base",
      "model_module_version": "2.0.0",
      "model_name": "LayoutModel",
      "state": {}
     },
     "274b3156bc154d06a481db128d5d3df9": {
      "model_module": "@jupyter-widgets/controls",
      "model_module_version": "2.0.0",
      "model_name": "LabelStyleModel",
      "state": {
       "description_width": "",
       "font_family": null,
       "font_size": null,
       "font_style": null,
       "font_variant": null,
       "font_weight": null,
       "text_color": null,
       "text_decoration": null
      }
     },
     "277708b4c7b94133a01e580382eb2303": {
      "model_module": "@jupyter-widgets/controls",
      "model_module_version": "2.0.0",
      "model_name": "FloatProgressModel",
      "state": {
       "bar_style": "info",
       "description": "0.4310",
       "layout": "IPY_MODEL_c04ef9d358a2457291575b39acced5e4",
       "max": 1,
       "style": "IPY_MODEL_0605fef951d3461fb99b1e1b85c59faf",
       "value": 0.43103448275862066
      }
     },
     "278462c4d3c04afd94cce6a3b5391d83": {
      "model_module": "@jupyter-widgets/controls",
      "model_module_version": "2.0.0",
      "model_name": "ProgressStyleModel",
      "state": {
       "description_width": ""
      }
     },
     "27be34e6ccb44425be83de8cec1d1cd7": {
      "model_module": "@jupyter-widgets/base",
      "model_module_version": "2.0.0",
      "model_name": "LayoutModel",
      "state": {}
     },
     "27dda85f301a4a5291229a79c72b67cf": {
      "model_module": "@jupyter-widgets/controls",
      "model_module_version": "2.0.0",
      "model_name": "FloatProgressModel",
      "state": {
       "bar_style": "info",
       "description": "0.4310",
       "layout": "IPY_MODEL_70db9d1dbbf146dcae3c6aed5edaef1b",
       "max": 1,
       "style": "IPY_MODEL_d20ee733dacf4c5e8a108ecab0687c6e",
       "value": 0.43103448275862066
      }
     },
     "27e52bd8ac294117b044e7eebceac853": {
      "model_module": "@jupyter-widgets/base",
      "model_module_version": "2.0.0",
      "model_name": "LayoutModel",
      "state": {}
     },
     "2836d156b5bb45a697abcae0a75525de": {
      "model_module": "@jupyter-widgets/controls",
      "model_module_version": "2.0.0",
      "model_name": "ProgressStyleModel",
      "state": {
       "description_width": ""
      }
     },
     "288dfacec7c94bcf81d35da18a2f57cf": {
      "model_module": "@jupyter-widgets/base",
      "model_module_version": "2.0.0",
      "model_name": "LayoutModel",
      "state": {}
     },
     "28973b1953ab4ff6ac266ab421a41375": {
      "model_module": "@jupyter-widgets/controls",
      "model_module_version": "2.0.0",
      "model_name": "ProgressStyleModel",
      "state": {
       "description_width": ""
      }
     },
     "28f0475b8f5c44d992eed88b80f9d82b": {
      "model_module": "@jupyter-widgets/controls",
      "model_module_version": "2.0.0",
      "model_name": "FloatProgressModel",
      "state": {
       "bar_style": "info",
       "description": "0.5670",
       "layout": "IPY_MODEL_818cf1a7ef1444da990acfc435efd519",
       "max": 1,
       "style": "IPY_MODEL_e39b6be48b46411caa64b3b57ee79d88",
       "value": 0.5670498084291187
      }
     },
     "297c2b39721942f88a88e6d7d522f8ac": {
      "model_module": "@jupyter-widgets/controls",
      "model_module_version": "2.0.0",
      "model_name": "LabelStyleModel",
      "state": {
       "description_width": "",
       "font_family": null,
       "font_size": null,
       "font_style": null,
       "font_variant": null,
       "font_weight": null,
       "text_color": null,
       "text_decoration": null
      }
     },
     "29da3f7dfcc249b491cfb1d30ee89ba4": {
      "model_module": "@jupyter-widgets/base",
      "model_module_version": "2.0.0",
      "model_name": "LayoutModel",
      "state": {}
     },
     "2a8ad5fcf0ef412c99de1f858df82ba7": {
      "model_module": "@jupyter-widgets/base",
      "model_module_version": "2.0.0",
      "model_name": "LayoutModel",
      "state": {}
     },
     "2ab407bccd96435fbefc69cdd455798a": {
      "model_module": "@jupyter-widgets/base",
      "model_module_version": "2.0.0",
      "model_name": "LayoutModel",
      "state": {}
     },
     "2bc43fc6a4d646e9b71949a8575c5d2d": {
      "model_module": "@jupyter-widgets/base",
      "model_module_version": "2.0.0",
      "model_name": "LayoutModel",
      "state": {}
     },
     "2bf3d28e032c48c592a7b9312707e035": {
      "model_module": "@jupyter-widgets/controls",
      "model_module_version": "2.0.0",
      "model_name": "ProgressStyleModel",
      "state": {
       "description_width": ""
      }
     },
     "2c3daf859858414db364c06cadae482a": {
      "model_module": "@jupyter-widgets/base",
      "model_module_version": "2.0.0",
      "model_name": "LayoutModel",
      "state": {}
     },
     "2c3dbc7a21024d8695bbf09b4c421724": {
      "model_module": "@jupyter-widgets/controls",
      "model_module_version": "2.0.0",
      "model_name": "LabelModel",
      "state": {
       "layout": "IPY_MODEL_ae78afaaf1594a10bc300398d9eb9dda",
       "style": "IPY_MODEL_3e0d7bd1dec7477497282c01200a55eb",
       "value": "Perfect Fitness Perfect Rip Deck"
      }
     },
     "2c457622a10040769b0ca83a93b1b819": {
      "model_module": "@jupyter-widgets/base",
      "model_module_version": "2.0.0",
      "model_name": "LayoutModel",
      "state": {}
     },
     "2c50b6c5aef349e785099779e5ef03d4": {
      "model_module": "@jupyter-widgets/controls",
      "model_module_version": "2.0.0",
      "model_name": "LabelStyleModel",
      "state": {
       "description_width": "",
       "font_family": null,
       "font_size": null,
       "font_style": null,
       "font_variant": null,
       "font_weight": null,
       "text_color": null,
       "text_decoration": null
      }
     },
     "2cbed18f48cd4fbf9febf73536840be6": {
      "model_module": "@jupyter-widgets/controls",
      "model_module_version": "2.0.0",
      "model_name": "FloatProgressModel",
      "state": {
       "bar_style": "info",
       "description": "0.5326",
       "layout": "IPY_MODEL_cdda5a2b144544678b29ea70fc0cf39d",
       "max": 1,
       "style": "IPY_MODEL_e0bb6becc192482c9959f7f2581f73bf",
       "value": 0.5325670498084292
      }
     },
     "2cff26b078f0482caef1a241edd670ec": {
      "model_module": "@jupyter-widgets/controls",
      "model_module_version": "2.0.0",
      "model_name": "LabelStyleModel",
      "state": {
       "description_width": "",
       "font_family": null,
       "font_size": null,
       "font_style": null,
       "font_variant": null,
       "font_weight": null,
       "text_color": null,
       "text_decoration": null
      }
     },
     "2d25699b4e5f4c7e9a8b07d021d6f429": {
      "model_module": "@jupyter-widgets/controls",
      "model_module_version": "2.0.0",
      "model_name": "ProgressStyleModel",
      "state": {
       "description_width": ""
      }
     },
     "2d5857f862c741b9b5d640b819420b8b": {
      "model_module": "@jupyter-widgets/controls",
      "model_module_version": "2.0.0",
      "model_name": "LabelStyleModel",
      "state": {
       "description_width": "",
       "font_family": null,
       "font_size": null,
       "font_style": null,
       "font_variant": null,
       "font_weight": null,
       "text_color": null,
       "text_decoration": null
      }
     },
     "2dc920e1d6854834a623f7064fc0669f": {
      "model_module": "@jupyter-widgets/base",
      "model_module_version": "2.0.0",
      "model_name": "LayoutModel",
      "state": {}
     },
     "2dd78f14c2bb41e580ad2a2ef7bbf9ce": {
      "model_module": "@jupyter-widgets/controls",
      "model_module_version": "2.0.0",
      "model_name": "FloatProgressModel",
      "state": {
       "bar_style": "info",
       "description": "0.5670",
       "layout": "IPY_MODEL_db5c98ce6938455fbc8d74ed87642f3d",
       "max": 1,
       "style": "IPY_MODEL_a604d4389ce1455db3b90359d2342a1a",
       "value": 0.5670498084291187
      }
     },
     "2ddc9ad8149846c188dc55aedabefeec": {
      "model_module": "@jupyter-widgets/base",
      "model_module_version": "2.0.0",
      "model_name": "LayoutModel",
      "state": {}
     },
     "2df9042ddbf54c19b3764a2f0e2239f7": {
      "model_module": "@jupyter-widgets/controls",
      "model_module_version": "2.0.0",
      "model_name": "LabelModel",
      "state": {
       "layout": "IPY_MODEL_a573bd878d1440a989f6d35d5c720e4e",
       "style": "IPY_MODEL_0abcd643fb9b4194ab946fd6fef58e89",
       "value": "Diamondback Women's Serene Classic Comfort Bi"
      }
     },
     "2e549583a5564e0dbec0a7a2ae1ff610": {
      "model_module": "@jupyter-widgets/controls",
      "model_module_version": "2.0.0",
      "model_name": "LabelStyleModel",
      "state": {
       "description_width": "",
       "font_family": null,
       "font_size": null,
       "font_style": null,
       "font_variant": null,
       "font_weight": null,
       "text_color": null,
       "text_decoration": null
      }
     },
     "2e6b386a48d6458987e447ff42a43608": {
      "model_module": "@jupyter-widgets/controls",
      "model_module_version": "2.0.0",
      "model_name": "ProgressStyleModel",
      "state": {
       "description_width": ""
      }
     },
     "2e6b7dca557f4f7ea469019298a11b48": {
      "model_module": "@jupyter-widgets/controls",
      "model_module_version": "2.0.0",
      "model_name": "LabelStyleModel",
      "state": {
       "description_width": "",
       "font_family": null,
       "font_size": null,
       "font_style": null,
       "font_variant": null,
       "font_weight": null,
       "text_color": null,
       "text_decoration": null
      }
     },
     "2e89522e3a8647269174a4d65f3c5be2": {
      "model_module": "@jupyter-widgets/controls",
      "model_module_version": "2.0.0",
      "model_name": "LabelStyleModel",
      "state": {
       "description_width": "",
       "font_family": null,
       "font_size": null,
       "font_style": null,
       "font_variant": null,
       "font_weight": null,
       "text_color": null,
       "text_decoration": null
      }
     },
     "2eb12dfefff44316b10d0c8964e71623": {
      "model_module": "@jupyter-widgets/controls",
      "model_module_version": "2.0.0",
      "model_name": "ProgressStyleModel",
      "state": {
       "description_width": ""
      }
     },
     "2f33a0cc2a4f44ee8c0717ffa7eb9860": {
      "model_module": "@jupyter-widgets/base",
      "model_module_version": "2.0.0",
      "model_name": "LayoutModel",
      "state": {}
     },
     "2fc35a38a3024ca38c378dac909b7a1e": {
      "model_module": "@jupyter-widgets/base",
      "model_module_version": "2.0.0",
      "model_name": "LayoutModel",
      "state": {}
     },
     "3096d399f8214d168043c56cf54add78": {
      "model_module": "@jupyter-widgets/controls",
      "model_module_version": "2.0.0",
      "model_name": "LabelStyleModel",
      "state": {
       "description_width": "",
       "font_family": null,
       "font_size": null,
       "font_style": null,
       "font_variant": null,
       "font_weight": null,
       "text_color": null,
       "text_decoration": null
      }
     },
     "30b67a5e80bb48edbc38bfd4b1dbf07b": {
      "model_module": "@jupyter-widgets/base",
      "model_module_version": "2.0.0",
      "model_name": "LayoutModel",
      "state": {}
     },
     "31682a22817c4c56968e59690dbf6fd8": {
      "model_module": "@jupyter-widgets/controls",
      "model_module_version": "2.0.0",
      "model_name": "FloatProgressModel",
      "state": {
       "bar_style": "info",
       "description": "0.4617",
       "layout": "IPY_MODEL_db074f7efe5f45b395a37046f4cd6cc4",
       "max": 1,
       "style": "IPY_MODEL_cf0fb342c46f473e8614561de224da88",
       "value": 0.4616858237547892
      }
     },
     "321acba5ccaf42eabc56569a85a26ef3": {
      "model_module": "@jupyter-widgets/controls",
      "model_module_version": "2.0.0",
      "model_name": "FloatProgressModel",
      "state": {
       "bar_style": "info",
       "description": "0.5556",
       "layout": "IPY_MODEL_30b67a5e80bb48edbc38bfd4b1dbf07b",
       "max": 1,
       "style": "IPY_MODEL_0e079f7019da47ff927ba2b0c4116d90",
       "value": 0.5555555555555555
      }
     },
     "32a3f824fc5b4ed78b5498f70461a215": {
      "model_module": "@jupyter-widgets/controls",
      "model_module_version": "2.0.0",
      "model_name": "LabelStyleModel",
      "state": {
       "description_width": "",
       "font_family": null,
       "font_size": null,
       "font_style": null,
       "font_variant": null,
       "font_weight": null,
       "text_color": null,
       "text_decoration": null
      }
     },
     "32c5a47fc55a45ce9bb2b599f3eb2651": {
      "model_module": "@jupyter-widgets/controls",
      "model_module_version": "2.0.0",
      "model_name": "LabelStyleModel",
      "state": {
       "description_width": "",
       "font_family": null,
       "font_size": null,
       "font_style": null,
       "font_variant": null,
       "font_weight": null,
       "text_color": null,
       "text_decoration": null
      }
     },
     "32ee1134deba44698e9115652dd6d649": {
      "model_module": "@jupyter-widgets/base",
      "model_module_version": "2.0.0",
      "model_name": "LayoutModel",
      "state": {}
     },
     "32f1630ee18e4c1dbd7d75caa8077641": {
      "model_module": "@jupyter-widgets/controls",
      "model_module_version": "2.0.0",
      "model_name": "ProgressStyleModel",
      "state": {
       "description_width": ""
      }
     },
     "32ff5a6b7a694f1eb13f5c8a43a825f2": {
      "model_module": "@jupyter-widgets/controls",
      "model_module_version": "2.0.0",
      "model_name": "FloatProgressModel",
      "state": {
       "bar_style": "info",
       "description": "0.3276",
       "layout": "IPY_MODEL_1613c4ead55949918d4f446139fd2488",
       "max": 1,
       "style": "IPY_MODEL_5e2f1308ac80455a95883998bd1bb2bd",
       "value": 0.3275862068965517
      }
     },
     "3348307b2f4f4aa9807e9343f2afb31a": {
      "model_module": "@jupyter-widgets/base",
      "model_module_version": "2.0.0",
      "model_name": "LayoutModel",
      "state": {}
     },
     "33916cfdc22b47259727d1990552ee7a": {
      "model_module": "@jupyter-widgets/controls",
      "model_module_version": "2.0.0",
      "model_name": "LabelModel",
      "state": {
       "layout": "IPY_MODEL_d39315c87f124cd8bdea18832ad576c2",
       "style": "IPY_MODEL_ad389d8353a94bf1b3a0601aa719dbe1",
       "value": "Field & Stream Sportsman 16 Gun Fire Safe"
      }
     },
     "33d27e860f0a49528f2f6d65d05091ea": {
      "model_module": "@jupyter-widgets/base",
      "model_module_version": "2.0.0",
      "model_name": "LayoutModel",
      "state": {}
     },
     "34138098e2184819acb0faee2c096432": {
      "model_module": "@jupyter-widgets/controls",
      "model_module_version": "2.0.0",
      "model_name": "LabelStyleModel",
      "state": {
       "description_width": "",
       "font_family": null,
       "font_size": null,
       "font_style": null,
       "font_variant": null,
       "font_weight": null,
       "text_color": null,
       "text_decoration": null
      }
     },
     "345f24662a9a4cfa8276a4d38b39fa62": {
      "model_module": "@jupyter-widgets/base",
      "model_module_version": "2.0.0",
      "model_name": "LayoutModel",
      "state": {}
     },
     "3473bc0a4bfe48f5b22c31814c19d098": {
      "model_module": "@jupyter-widgets/controls",
      "model_module_version": "2.0.0",
      "model_name": "LabelStyleModel",
      "state": {
       "description_width": "",
       "font_family": null,
       "font_size": null,
       "font_style": null,
       "font_variant": null,
       "font_weight": null,
       "text_color": null,
       "text_decoration": null
      }
     },
     "348ee74ca02d4dcb93e233696958a3e2": {
      "model_module": "@jupyter-widgets/controls",
      "model_module_version": "2.0.0",
      "model_name": "ProgressStyleModel",
      "state": {
       "description_width": ""
      }
     },
     "348efdb3178e49249f106c6b7480d990": {
      "model_module": "@jupyter-widgets/controls",
      "model_module_version": "2.0.0",
      "model_name": "LabelStyleModel",
      "state": {
       "description_width": "",
       "font_family": null,
       "font_size": null,
       "font_style": null,
       "font_variant": null,
       "font_weight": null,
       "text_color": null,
       "text_decoration": null
      }
     },
     "34fc718748804099a7e6852b6aca8460": {
      "model_module": "@jupyter-widgets/controls",
      "model_module_version": "2.0.0",
      "model_name": "LabelModel",
      "state": {
       "layout": "IPY_MODEL_db0ac63904904134beb3c227230110c4",
       "style": "IPY_MODEL_244fad7d045747b594dc41bbd77bf929",
       "value": "Field & Stream Sportsman 16 Gun Fire Safe"
      }
     },
     "3518b6f0d301422a9135c553e5873881": {
      "model_module": "@jupyter-widgets/controls",
      "model_module_version": "2.0.0",
      "model_name": "LabelModel",
      "state": {
       "layout": "IPY_MODEL_b6446b98e4ca4a06a8cbb6f97f44ce88",
       "style": "IPY_MODEL_3aa2b84352c14c47b0dd03813b22ba59",
       "value": "Perfect Fitness Perfect Rip Deck"
      }
     },
     "35320677d0ba4d5db2ca0389a697ab4e": {
      "model_module": "@jupyter-widgets/controls",
      "model_module_version": "2.0.0",
      "model_name": "ProgressStyleModel",
      "state": {
       "description_width": ""
      }
     },
     "354907c89b504d928041d874b6f70b1a": {
      "model_module": "@jupyter-widgets/base",
      "model_module_version": "2.0.0",
      "model_name": "LayoutModel",
      "state": {}
     },
     "35589ef241e34f4d930c2340547f7e80": {
      "model_module": "@jupyter-widgets/controls",
      "model_module_version": "2.0.0",
      "model_name": "LabelModel",
      "state": {
       "layout": "IPY_MODEL_5e74f07a8a654cc4a7377f52a86bc02c",
       "style": "IPY_MODEL_c60e8d12f1b64712bcc532df63cd975c",
       "value": "Perfect Fitness Perfect Rip Deck"
      }
     },
     "356e3e21d6e54a678b1c9054c1a27341": {
      "model_module": "@jupyter-widgets/controls",
      "model_module_version": "2.0.0",
      "model_name": "LabelStyleModel",
      "state": {
       "description_width": "",
       "font_family": null,
       "font_size": null,
       "font_style": null,
       "font_variant": null,
       "font_weight": null,
       "text_color": null,
       "text_decoration": null
      }
     },
     "357f2fd4342845d6b271019aa58a80c8": {
      "model_module": "@jupyter-widgets/controls",
      "model_module_version": "2.0.0",
      "model_name": "ProgressStyleModel",
      "state": {
       "description_width": ""
      }
     },
     "35a8bc7cb79643c0995805612194d562": {
      "model_module": "@jupyter-widgets/controls",
      "model_module_version": "2.0.0",
      "model_name": "FloatProgressModel",
      "state": {
       "bar_style": "info",
       "description": "0.5670",
       "layout": "IPY_MODEL_6cd9930c253f4badb798f083b87a61c2",
       "max": 1,
       "style": "IPY_MODEL_c9294acb87034106a9734b45c4423249",
       "value": 0.5670498084291187
      }
     },
     "3687e535425342fea6940c7382acfca9": {
      "model_module": "@jupyter-widgets/controls",
      "model_module_version": "2.0.0",
      "model_name": "LabelModel",
      "state": {
       "layout": "IPY_MODEL_749ee7ec0c33442b8efaba6e94273869",
       "style": "IPY_MODEL_d6ae847aa89d4103b23b37d2ec3c6316",
       "value": "Pelican Sunstream 100 Kayak"
      }
     },
     "3699d314f3da41a986f40bb4ddf4f215": {
      "model_module": "@jupyter-widgets/base",
      "model_module_version": "2.0.0",
      "model_name": "LayoutModel",
      "state": {}
     },
     "36ff24a2329941c49d1aa12760d9d903": {
      "model_module": "@jupyter-widgets/controls",
      "model_module_version": "2.0.0",
      "model_name": "ProgressStyleModel",
      "state": {
       "description_width": ""
      }
     },
     "371df8ba24304b8cbe2c6ae0806e8417": {
      "model_module": "@jupyter-widgets/controls",
      "model_module_version": "2.0.0",
      "model_name": "FloatProgressModel",
      "state": {
       "bar_style": "info",
       "description": "0.5670",
       "layout": "IPY_MODEL_1ecd913eccf644d7b0c5798a3f2553b2",
       "max": 1,
       "style": "IPY_MODEL_cf6e845f8a0e41afb62710bdcd23395a",
       "value": 0.5670498084291187
      }
     },
     "379b5fc0b5e2429fb8802c327fe56867": {
      "model_module": "@jupyter-widgets/base",
      "model_module_version": "2.0.0",
      "model_name": "LayoutModel",
      "state": {}
     },
     "37a35fab5f0c4a8982f5e00c2656a1fc": {
      "model_module": "@jupyter-widgets/base",
      "model_module_version": "2.0.0",
      "model_name": "LayoutModel",
      "state": {}
     },
     "37c0cec8dbfa4bea92f1b20cc54f09a8": {
      "model_module": "@jupyter-widgets/base",
      "model_module_version": "2.0.0",
      "model_name": "LayoutModel",
      "state": {}
     },
     "37df1515b6664127a1a73619228e57b1": {
      "model_module": "@jupyter-widgets/controls",
      "model_module_version": "2.0.0",
      "model_name": "LabelStyleModel",
      "state": {
       "description_width": "",
       "font_family": null,
       "font_size": null,
       "font_style": null,
       "font_variant": null,
       "font_weight": null,
       "text_color": null,
       "text_decoration": null
      }
     },
     "3826d5d03d66447b8b3ab03add3ebcce": {
      "model_module": "@jupyter-widgets/base",
      "model_module_version": "2.0.0",
      "model_name": "LayoutModel",
      "state": {}
     },
     "38741919b1054a5a9bda5c3518f4df34": {
      "model_module": "@jupyter-widgets/controls",
      "model_module_version": "2.0.0",
      "model_name": "LabelModel",
      "state": {
       "layout": "IPY_MODEL_021009b74b304cb8ade3ecf4bf37f069",
       "style": "IPY_MODEL_41e24100a8a04aaf952d95b92278a251",
       "value": "Field & Stream Sportsman 16 Gun Fire Safe"
      }
     },
     "38a5e904e2d6461b8388f23209952afb": {
      "model_module": "@jupyter-widgets/base",
      "model_module_version": "2.0.0",
      "model_name": "LayoutModel",
      "state": {}
     },
     "38f01bcb3f844c779db6595eca4860a6": {
      "model_module": "@jupyter-widgets/controls",
      "model_module_version": "2.0.0",
      "model_name": "ProgressStyleModel",
      "state": {
       "description_width": ""
      }
     },
     "3967d878bb774e42aa4b4d96aed8fd77": {
      "model_module": "@jupyter-widgets/controls",
      "model_module_version": "2.0.0",
      "model_name": "ProgressStyleModel",
      "state": {
       "description_width": ""
      }
     },
     "399125dcdeed4209bc2e23ad37b47d20": {
      "model_module": "@jupyter-widgets/controls",
      "model_module_version": "2.0.0",
      "model_name": "ProgressStyleModel",
      "state": {
       "description_width": ""
      }
     },
     "39f36daf2f0b428699918923c45c3dda": {
      "model_module": "@jupyter-widgets/base",
      "model_module_version": "2.0.0",
      "model_name": "LayoutModel",
      "state": {}
     },
     "3a271303a5ff4676b97f23aa440cfb01": {
      "model_module": "@jupyter-widgets/controls",
      "model_module_version": "2.0.0",
      "model_name": "LabelModel",
      "state": {
       "layout": "IPY_MODEL_55b685c8ed314370b0d2ff7f25c1337d",
       "style": "IPY_MODEL_d422787358a44070a5f148e3367b8d84",
       "value": "Nike Men's CJ Elite 2 TD Football Cleat"
      }
     },
     "3a616fd8b7644e4c87f5a8dbb9153287": {
      "model_module": "@jupyter-widgets/base",
      "model_module_version": "2.0.0",
      "model_name": "LayoutModel",
      "state": {}
     },
     "3a67c4f766cd42f1a70b9eb74bfc9aa0": {
      "model_module": "@jupyter-widgets/controls",
      "model_module_version": "2.0.0",
      "model_name": "LabelModel",
      "state": {
       "layout": "IPY_MODEL_584a80878f194d56a3ce482b4fd3b401",
       "style": "IPY_MODEL_6c6e84a3608b4a859e77c8d724239600",
       "value": "O'Brien Men's Neoprene Life Vest"
      }
     },
     "3a6f1f09034f4f80acff7e642102878c": {
      "model_module": "@jupyter-widgets/controls",
      "model_module_version": "2.0.0",
      "model_name": "LabelStyleModel",
      "state": {
       "description_width": "",
       "font_family": null,
       "font_size": null,
       "font_style": null,
       "font_variant": null,
       "font_weight": null,
       "text_color": null,
       "text_decoration": null
      }
     },
     "3aa2b84352c14c47b0dd03813b22ba59": {
      "model_module": "@jupyter-widgets/controls",
      "model_module_version": "2.0.0",
      "model_name": "LabelStyleModel",
      "state": {
       "description_width": "",
       "font_family": null,
       "font_size": null,
       "font_style": null,
       "font_variant": null,
       "font_weight": null,
       "text_color": null,
       "text_decoration": null
      }
     },
     "3b1e4b50a2554cf0944f2d07289571dd": {
      "model_module": "@jupyter-widgets/controls",
      "model_module_version": "2.0.0",
      "model_name": "LabelStyleModel",
      "state": {
       "description_width": "",
       "font_family": null,
       "font_size": null,
       "font_style": null,
       "font_variant": null,
       "font_weight": null,
       "text_color": null,
       "text_decoration": null
      }
     },
     "3b20815b1b3e4f76b6ea320cd4898b09": {
      "model_module": "@jupyter-widgets/controls",
      "model_module_version": "2.0.0",
      "model_name": "LabelModel",
      "state": {
       "layout": "IPY_MODEL_d43966f0271f4859bb130c84b2eccbfe",
       "style": "IPY_MODEL_8da0503351bf40be9b8d35cb8f4249c3",
       "value": "Field & Stream Sportsman 16 Gun Fire Safe"
      }
     },
     "3c2528fe201348ac9622a1d781314b8d": {
      "model_module": "@jupyter-widgets/controls",
      "model_module_version": "2.0.0",
      "model_name": "FloatProgressModel",
      "state": {
       "bar_style": "info",
       "description": "0.5326",
       "layout": "IPY_MODEL_b7464a5ad7cd44a38a79cd9f299de123",
       "max": 1,
       "style": "IPY_MODEL_69f1186bc1d24d3b965ad72a13d7e09d",
       "value": 0.5325670498084292
      }
     },
     "3c2db3b46800438c9178f0bc5a059279": {
      "model_module": "@jupyter-widgets/base",
      "model_module_version": "2.0.0",
      "model_name": "LayoutModel",
      "state": {}
     },
     "3c460cec85dc42db9346e3ad3520cd9a": {
      "model_module": "@jupyter-widgets/controls",
      "model_module_version": "2.0.0",
      "model_name": "LabelStyleModel",
      "state": {
       "description_width": "",
       "font_family": null,
       "font_size": null,
       "font_style": null,
       "font_variant": null,
       "font_weight": null,
       "text_color": null,
       "text_decoration": null
      }
     },
     "3cb0a1ad051242a4bb9c801753100572": {
      "model_module": "@jupyter-widgets/controls",
      "model_module_version": "2.0.0",
      "model_name": "ProgressStyleModel",
      "state": {
       "description_width": ""
      }
     },
     "3cdf7c7c195941a8b70729de13c7862e": {
      "model_module": "@jupyter-widgets/base",
      "model_module_version": "2.0.0",
      "model_name": "LayoutModel",
      "state": {}
     },
     "3d6bf7691b3142ac8c03f572926e6d0f": {
      "model_module": "@jupyter-widgets/base",
      "model_module_version": "2.0.0",
      "model_name": "LayoutModel",
      "state": {}
     },
     "3d738b2b012e4cfc9b760da3d6b281d1": {
      "model_module": "@jupyter-widgets/controls",
      "model_module_version": "2.0.0",
      "model_name": "DescriptionStyleModel",
      "state": {
       "description_width": ""
      }
     },
     "3d875daf69f541e4b05117419ea5a566": {
      "model_module": "@jupyter-widgets/base",
      "model_module_version": "2.0.0",
      "model_name": "LayoutModel",
      "state": {}
     },
     "3dfae0c752f64299b9fe6434010c8875": {
      "model_module": "@jupyter-widgets/controls",
      "model_module_version": "2.0.0",
      "model_name": "LabelModel",
      "state": {
       "layout": "IPY_MODEL_8a34b52a456c4984a6507aa38c7c4fbd",
       "style": "IPY_MODEL_9b3a0e1e25f34bcfbff08a3837df1f8c",
       "value": "Field & Stream Sportsman 16 Gun Fire Safe"
      }
     },
     "3e0d7bd1dec7477497282c01200a55eb": {
      "model_module": "@jupyter-widgets/controls",
      "model_module_version": "2.0.0",
      "model_name": "LabelStyleModel",
      "state": {
       "description_width": "",
       "font_family": null,
       "font_size": null,
       "font_style": null,
       "font_variant": null,
       "font_weight": null,
       "text_color": null,
       "text_decoration": null
      }
     },
     "3e76f5984b134750933d219783b92e36": {
      "model_module": "@jupyter-widgets/base",
      "model_module_version": "2.0.0",
      "model_name": "LayoutModel",
      "state": {}
     },
     "3ea6cda1190b482bbe049057fcced9b0": {
      "model_module": "@jupyter-widgets/base",
      "model_module_version": "2.0.0",
      "model_name": "LayoutModel",
      "state": {}
     },
     "3f0c2b5a2d0a4933a12fde3e85243625": {
      "model_module": "@jupyter-widgets/controls",
      "model_module_version": "2.0.0",
      "model_name": "LabelModel",
      "state": {
       "layout": "IPY_MODEL_8c63461dbe4a441498bed5b29e9c5bfa",
       "style": "IPY_MODEL_4d3eee4345494ce9b2c1f2b5c4361674",
       "value": "Perfect Fitness Perfect Rip Deck"
      }
     },
     "3f4002196e4d4662aa378af0f30122b6": {
      "model_module": "@jupyter-widgets/controls",
      "model_module_version": "2.0.0",
      "model_name": "ProgressStyleModel",
      "state": {
       "description_width": ""
      }
     },
     "3f47cb8a2d6348b1a60c52954eeec34f": {
      "model_module": "@jupyter-widgets/controls",
      "model_module_version": "2.0.0",
      "model_name": "LabelModel",
      "state": {
       "layout": "IPY_MODEL_9b80396adb814366a8d246dfe0e8774f",
       "style": "IPY_MODEL_356e3e21d6e54a678b1c9054c1a27341",
       "value": "Pelican Sunstream 100 Kayak"
      }
     },
     "3f65d078d29a4701b16b3f8090b908ec": {
      "model_module": "@jupyter-widgets/base",
      "model_module_version": "2.0.0",
      "model_name": "LayoutModel",
      "state": {}
     },
     "3fc8599320ad4d728bc7806e88fd40da": {
      "model_module": "@jupyter-widgets/controls",
      "model_module_version": "2.0.0",
      "model_name": "FloatProgressModel",
      "state": {
       "bar_style": "info",
       "description": "0.5556",
       "layout": "IPY_MODEL_d4ae13d6497b4f8dbdc728d02703a13a",
       "max": 1,
       "style": "IPY_MODEL_6de0d8fe344640c8a166c1798ca2c7e4",
       "value": 0.5555555555555555
      }
     },
     "404b54d82781452e9ad1316108842ca0": {
      "model_module": "@jupyter-widgets/controls",
      "model_module_version": "2.0.0",
      "model_name": "FloatProgressModel",
      "state": {
       "bar_style": "info",
       "description": "0.4731",
       "layout": "IPY_MODEL_5900f0d5fc744b689ac717e419c1faa4",
       "max": 1,
       "style": "IPY_MODEL_73c70143092d460e8ef99e67f4d69174",
       "value": 0.47307692307692306
      }
     },
     "406608da28b84f91b0e2cd62d4980008": {
      "model_module": "@jupyter-widgets/controls",
      "model_module_version": "2.0.0",
      "model_name": "FloatProgressModel",
      "state": {
       "bar_style": "info",
       "description": "0.3985",
       "layout": "IPY_MODEL_45be2dbca867408da35cb4f278fda430",
       "max": 1,
       "style": "IPY_MODEL_3f4002196e4d4662aa378af0f30122b6",
       "value": 0.39846743295019155
      }
     },
     "408c6614c84b4cb1aa1c2cb7b55da613": {
      "model_module": "@jupyter-widgets/base",
      "model_module_version": "2.0.0",
      "model_name": "LayoutModel",
      "state": {}
     },
     "40dd7d1484894fa69e2366ae255db3f8": {
      "model_module": "@jupyter-widgets/controls",
      "model_module_version": "2.0.0",
      "model_name": "ProgressStyleModel",
      "state": {
       "description_width": ""
      }
     },
     "40f23354cc62495dba7c45391398bfac": {
      "model_module": "@jupyter-widgets/base",
      "model_module_version": "2.0.0",
      "model_name": "LayoutModel",
      "state": {}
     },
     "4166bd77b7954f5098440ce9b1db997e": {
      "model_module": "@jupyter-widgets/controls",
      "model_module_version": "2.0.0",
      "model_name": "ProgressStyleModel",
      "state": {
       "description_width": ""
      }
     },
     "418b547c500c4e77b519e0aad13ce63b": {
      "model_module": "@jupyter-widgets/controls",
      "model_module_version": "2.0.0",
      "model_name": "ProgressStyleModel",
      "state": {
       "description_width": ""
      }
     },
     "41c9c4833f084f23a125293748650095": {
      "model_module": "@jupyter-widgets/base",
      "model_module_version": "2.0.0",
      "model_name": "LayoutModel",
      "state": {}
     },
     "41e24100a8a04aaf952d95b92278a251": {
      "model_module": "@jupyter-widgets/controls",
      "model_module_version": "2.0.0",
      "model_name": "LabelStyleModel",
      "state": {
       "description_width": "",
       "font_family": null,
       "font_size": null,
       "font_style": null,
       "font_variant": null,
       "font_weight": null,
       "text_color": null,
       "text_decoration": null
      }
     },
     "42711a584b9241ec94d7b98f4eeb48f7": {
      "model_module": "@jupyter-widgets/controls",
      "model_module_version": "2.0.0",
      "model_name": "ProgressStyleModel",
      "state": {
       "description_width": ""
      }
     },
     "4326c8d1eb3f43c69d10c1b3d25f141e": {
      "model_module": "@jupyter-widgets/base",
      "model_module_version": "2.0.0",
      "model_name": "LayoutModel",
      "state": {}
     },
     "4343cf741d2b48afa7a9927e7f7014c2": {
      "model_module": "@jupyter-widgets/controls",
      "model_module_version": "2.0.0",
      "model_name": "ProgressStyleModel",
      "state": {
       "description_width": ""
      }
     },
     "434afe3f7f254e5e93b179c8c20a8b76": {
      "model_module": "@jupyter-widgets/base",
      "model_module_version": "2.0.0",
      "model_name": "LayoutModel",
      "state": {}
     },
     "43948ec877b64d0ea1bcca666a3f937b": {
      "model_module": "@jupyter-widgets/controls",
      "model_module_version": "2.0.0",
      "model_name": "LabelStyleModel",
      "state": {
       "description_width": "",
       "font_family": null,
       "font_size": null,
       "font_style": null,
       "font_variant": null,
       "font_weight": null,
       "text_color": null,
       "text_decoration": null
      }
     },
     "43c014274365455caabb3491ef4ecd7a": {
      "model_module": "@jupyter-widgets/base",
      "model_module_version": "2.0.0",
      "model_name": "LayoutModel",
      "state": {}
     },
     "43c45a3abed54c449cfd28678343f467": {
      "model_module": "@jupyter-widgets/base",
      "model_module_version": "2.0.0",
      "model_name": "LayoutModel",
      "state": {}
     },
     "442aa2439c5e4524a0d7b3974825a23b": {
      "model_module": "@jupyter-widgets/controls",
      "model_module_version": "2.0.0",
      "model_name": "LabelStyleModel",
      "state": {
       "description_width": "",
       "font_family": null,
       "font_size": null,
       "font_style": null,
       "font_variant": null,
       "font_weight": null,
       "text_color": null,
       "text_decoration": null
      }
     },
     "442eb18455ea4a58aab6a629b894ceb3": {
      "model_module": "@jupyter-widgets/base",
      "model_module_version": "2.0.0",
      "model_name": "LayoutModel",
      "state": {}
     },
     "44732b75484c46d7a4878643c3bde16e": {
      "model_module": "@jupyter-widgets/controls",
      "model_module_version": "2.0.0",
      "model_name": "FloatProgressModel",
      "state": {
       "bar_style": "info",
       "description": "0.5326",
       "layout": "IPY_MODEL_1a911be081e44ed89bb3f6016447b291",
       "max": 1,
       "style": "IPY_MODEL_82485aea24aa47e7aa468b7d0c78986b",
       "value": 0.5325670498084292
      }
     },
     "448fa82bbd2e49b0a880408324b5a330": {
      "model_module": "@jupyter-widgets/controls",
      "model_module_version": "2.0.0",
      "model_name": "FloatProgressModel",
      "state": {
       "bar_style": "info",
       "description": "0.5670",
       "layout": "IPY_MODEL_26c6379799f54faa901df2a787a40a92",
       "max": 1,
       "style": "IPY_MODEL_affc13e7a52d4da1b979a10e8e959175",
       "value": 0.5670498084291187
      }
     },
     "45be2dbca867408da35cb4f278fda430": {
      "model_module": "@jupyter-widgets/base",
      "model_module_version": "2.0.0",
      "model_name": "LayoutModel",
      "state": {}
     },
     "461b2f8cb48647518aa4a1ee88511bb8": {
      "model_module": "@jupyter-widgets/base",
      "model_module_version": "2.0.0",
      "model_name": "LayoutModel",
      "state": {}
     },
     "466558c92a6f4c52bab8ef56cc1acb4c": {
      "model_module": "@jupyter-widgets/base",
      "model_module_version": "2.0.0",
      "model_name": "LayoutModel",
      "state": {}
     },
     "473ab0acf8054d39bddf6dd061a93b79": {
      "model_module": "@jupyter-widgets/base",
      "model_module_version": "2.0.0",
      "model_name": "LayoutModel",
      "state": {}
     },
     "4814b50e105e4fba82a7cc96b6b2898b": {
      "model_module": "@jupyter-widgets/controls",
      "model_module_version": "2.0.0",
      "model_name": "LabelModel",
      "state": {
       "layout": "IPY_MODEL_b19693dbdd964045adc3512dde3507aa",
       "style": "IPY_MODEL_75a40ec0085d4b78a8d5ac95f31274a0",
       "value": "Nike Men's CJ Elite 2 TD Football Cleat"
      }
     },
     "48904cf69af14e91ba39452bc0c6b4d9": {
      "model_module": "@jupyter-widgets/controls",
      "model_module_version": "2.0.0",
      "model_name": "LabelModel",
      "state": {
       "layout": "IPY_MODEL_05473eb16ca44b1cb22be492d4d8f9b1",
       "style": "IPY_MODEL_43948ec877b64d0ea1bcca666a3f937b",
       "value": "Perfect Fitness Perfect Rip Deck"
      }
     },
     "4902c6f27ec94be3962be1d25f85a385": {
      "model_module": "@jupyter-widgets/controls",
      "model_module_version": "2.0.0",
      "model_name": "FloatProgressModel",
      "state": {
       "bar_style": "info",
       "description": "0.3276",
       "layout": "IPY_MODEL_5da4762986c745739dc4c427d835aa95",
       "max": 1,
       "style": "IPY_MODEL_1f57f12c2bf244c4ad89008cd7dbc401",
       "value": 0.3275862068965517
      }
     },
     "4915f774b8b746ca9d95f7344a697625": {
      "model_module": "@jupyter-widgets/controls",
      "model_module_version": "2.0.0",
      "model_name": "FloatProgressModel",
      "state": {
       "bar_style": "info",
       "description": "0.3985",
       "layout": "IPY_MODEL_473ab0acf8054d39bddf6dd061a93b79",
       "max": 1,
       "style": "IPY_MODEL_248ec453b26947f4b0d6f27694bf1516",
       "value": 0.39846743295019155
      }
     },
     "49792fe9fb0443d3a111598892beb672": {
      "model_module": "@jupyter-widgets/controls",
      "model_module_version": "2.0.0",
      "model_name": "FloatProgressModel",
      "state": {
       "bar_style": "info",
       "description": "0.5556",
       "layout": "IPY_MODEL_4e4ba55f7335414ba131e6ebbdd5fb48",
       "max": 1,
       "style": "IPY_MODEL_c5018b13463f400aa3ff0c3c52b44f1b",
       "value": 0.5555555555555555
      }
     },
     "4982bc35c785488b8ad3432ba6b8adf9": {
      "model_module": "@jupyter-widgets/controls",
      "model_module_version": "2.0.0",
      "model_name": "FloatProgressModel",
      "state": {
       "bar_style": "info",
       "description": "0.5346",
       "layout": "IPY_MODEL_3a616fd8b7644e4c87f5a8dbb9153287",
       "max": 1,
       "style": "IPY_MODEL_e518a2e09f7940129513ed031b5fce0a",
       "value": 0.5346153846153846
      }
     },
     "49b2bd08f59f48f5a1161c5a818f56b8": {
      "model_module": "@jupyter-widgets/base",
      "model_module_version": "2.0.0",
      "model_name": "LayoutModel",
      "state": {}
     },
     "49b450476fbf4a2997f065021327fb0d": {
      "model_module": "@jupyter-widgets/controls",
      "model_module_version": "2.0.0",
      "model_name": "FloatProgressModel",
      "state": {
       "bar_style": "info",
       "description": "0.4731",
       "layout": "IPY_MODEL_f44bf391ff7641a884b9a7698ac9769f",
       "max": 1,
       "style": "IPY_MODEL_60ca60222a964375ba609eac290877d4",
       "value": 0.47307692307692306
      }
     },
     "49b613219e6b4096a67049aa1115c528": {
      "model_module": "@jupyter-widgets/controls",
      "model_module_version": "2.0.0",
      "model_name": "FloatProgressModel",
      "state": {
       "bar_style": "info",
       "description": "0.5788",
       "layout": "IPY_MODEL_27e52bd8ac294117b044e7eebceac853",
       "max": 1,
       "style": "IPY_MODEL_1caa711c01144bf0916fdd1934511d41",
       "value": 0.5788461538461538
      }
     },
     "4a4dc8b6bd45469eb4aefa60ec2ac6bd": {
      "model_module": "@jupyter-widgets/controls",
      "model_module_version": "2.0.0",
      "model_name": "FloatProgressModel",
      "state": {
       "bar_style": "info",
       "description": "0.4310",
       "layout": "IPY_MODEL_df40c0cb7bc14c6f94624667c7ef0e7b",
       "max": 1,
       "style": "IPY_MODEL_42711a584b9241ec94d7b98f4eeb48f7",
       "value": 0.43103448275862066
      }
     },
     "4adec0cbbbbb4550af8fcc04b68acf27": {
      "model_module": "@jupyter-widgets/controls",
      "model_module_version": "2.0.0",
      "model_name": "LabelModel",
      "state": {
       "layout": "IPY_MODEL_9506893b147846fb8a8835c282cbff5c",
       "style": "IPY_MODEL_98ae6a9595c54a78a52234bb362db99d",
       "value": "Perfect Fitness Perfect Rip Deck"
      }
     },
     "4b1b55747c584f1d85e7d8cc8423bfc3": {
      "model_module": "@jupyter-widgets/controls",
      "model_module_version": "2.0.0",
      "model_name": "LabelStyleModel",
      "state": {
       "description_width": "",
       "font_family": null,
       "font_size": null,
       "font_style": null,
       "font_variant": null,
       "font_weight": null,
       "text_color": null,
       "text_decoration": null
      }
     },
     "4be4ca9a4eee411fbe3282cf9f5531a0": {
      "model_module": "@jupyter-widgets/controls",
      "model_module_version": "2.0.0",
      "model_name": "ProgressStyleModel",
      "state": {
       "description_width": ""
      }
     },
     "4c36e63074044e5ca3545920c9aa0300": {
      "model_module": "@jupyter-widgets/controls",
      "model_module_version": "2.0.0",
      "model_name": "FloatProgressModel",
      "state": {
       "bar_style": "info",
       "description": "0.4617",
       "layout": "IPY_MODEL_4326c8d1eb3f43c69d10c1b3d25f141e",
       "max": 1,
       "style": "IPY_MODEL_d22c7d6332d346b6a78f81b7df376508",
       "value": 0.4616858237547892
      }
     },
     "4c99b143f9a547a9bd837b5e9e0560db": {
      "model_module": "@jupyter-widgets/base",
      "model_module_version": "2.0.0",
      "model_name": "LayoutModel",
      "state": {}
     },
     "4d3eee4345494ce9b2c1f2b5c4361674": {
      "model_module": "@jupyter-widgets/controls",
      "model_module_version": "2.0.0",
      "model_name": "LabelStyleModel",
      "state": {
       "description_width": "",
       "font_family": null,
       "font_size": null,
       "font_style": null,
       "font_variant": null,
       "font_weight": null,
       "text_color": null,
       "text_decoration": null
      }
     },
     "4d609a090a0f4a828c02af2ac127e585": {
      "model_module": "@jupyter-widgets/controls",
      "model_module_version": "2.0.0",
      "model_name": "LabelStyleModel",
      "state": {
       "description_width": "",
       "font_family": null,
       "font_size": null,
       "font_style": null,
       "font_variant": null,
       "font_weight": null,
       "text_color": null,
       "text_decoration": null
      }
     },
     "4d916383edf94c17b7e35ac6e65114ea": {
      "model_module": "@jupyter-widgets/controls",
      "model_module_version": "2.0.0",
      "model_name": "LabelModel",
      "state": {
       "layout": "IPY_MODEL_c577eecdfb1a485f9c29ffcd606d41ef",
       "style": "IPY_MODEL_10709ffcf8834d5bba4e2f864d4924ac",
       "value": "Nike Men's CJ Elite 2 TD Football Cleat"
      }
     },
     "4dcc5dd1790e4e85bece5a7aeb9589c1": {
      "model_module": "@jupyter-widgets/base",
      "model_module_version": "2.0.0",
      "model_name": "LayoutModel",
      "state": {}
     },
     "4de4f8ccb1e149eca460e280a5df27df": {
      "model_module": "@jupyter-widgets/controls",
      "model_module_version": "2.0.0",
      "model_name": "ProgressStyleModel",
      "state": {
       "description_width": ""
      }
     },
     "4e4ba55f7335414ba131e6ebbdd5fb48": {
      "model_module": "@jupyter-widgets/base",
      "model_module_version": "2.0.0",
      "model_name": "LayoutModel",
      "state": {}
     },
     "4ec586e8dc044cf5b478fc8915358bde": {
      "model_module": "@jupyter-widgets/base",
      "model_module_version": "2.0.0",
      "model_name": "LayoutModel",
      "state": {}
     },
     "4ed7a471c60d4f9993eed700f6771cc3": {
      "model_module": "@jupyter-widgets/controls",
      "model_module_version": "2.0.0",
      "model_name": "LabelModel",
      "state": {
       "layout": "IPY_MODEL_fcb44ae796b84f94ae980c8a12052311",
       "style": "IPY_MODEL_6a59cb206b3d4a1794cc8769d5288ce0",
       "value": "Nike Men's CJ Elite 2 TD Football Cleat"
      }
     },
     "4eeb948b2ad24cd68054b996ef828a5c": {
      "model_module": "@jupyter-widgets/base",
      "model_module_version": "2.0.0",
      "model_name": "LayoutModel",
      "state": {}
     },
     "4fa338f1b884408a872505b10d882014": {
      "model_module": "@jupyter-widgets/controls",
      "model_module_version": "2.0.0",
      "model_name": "LabelStyleModel",
      "state": {
       "description_width": "",
       "font_family": null,
       "font_size": null,
       "font_style": null,
       "font_variant": null,
       "font_weight": null,
       "text_color": null,
       "text_decoration": null
      }
     },
     "4fa81e67878046fd917081c9e6a8ed20": {
      "model_module": "@jupyter-widgets/controls",
      "model_module_version": "2.0.0",
      "model_name": "LabelStyleModel",
      "state": {
       "description_width": "",
       "font_family": null,
       "font_size": null,
       "font_style": null,
       "font_variant": null,
       "font_weight": null,
       "text_color": null,
       "text_decoration": null
      }
     },
     "4fb8c0cf30354f469912f31ea963767c": {
      "model_module": "@jupyter-widgets/base",
      "model_module_version": "2.0.0",
      "model_name": "LayoutModel",
      "state": {}
     },
     "50e21536a8544e71abcabcb1f8b6644b": {
      "model_module": "@jupyter-widgets/controls",
      "model_module_version": "2.0.0",
      "model_name": "IntSliderModel",
      "state": {
       "behavior": "drag-tap",
       "description": "Top N:",
       "layout": "IPY_MODEL_69c82e9be558469e8864fd2bf22b04c0",
       "max": 10,
       "min": 3,
       "style": "IPY_MODEL_c10918923ed6416c8a8bdbaa9e09e813",
       "value": 6
      }
     },
     "50ef88aebdea4191a23ecf7a4f916d99": {
      "model_module": "@jupyter-widgets/controls",
      "model_module_version": "2.0.0",
      "model_name": "LabelModel",
      "state": {
       "layout": "IPY_MODEL_0c5ee16db7254257805a1c1323778773",
       "style": "IPY_MODEL_f3ab55ab6e6f49b696cd6c6d59944ca1",
       "value": "Pelican Sunstream 100 Kayak"
      }
     },
     "5111aa847ec1405e960747e8215c7b4e": {
      "model_module": "@jupyter-widgets/base",
      "model_module_version": "2.0.0",
      "model_name": "LayoutModel",
      "state": {}
     },
     "512ee572a9f54c8f8d79ad31a2706405": {
      "model_module": "@jupyter-widgets/controls",
      "model_module_version": "2.0.0",
      "model_name": "LabelModel",
      "state": {
       "layout": "IPY_MODEL_c0ec2e852ae04a2ea707cb293f9a24ee",
       "style": "IPY_MODEL_a0e0e60defc8442f897233ca9ce9412a",
       "value": "Field & Stream Sportsman 16 Gun Fire Safe"
      }
     },
     "5150645839714bb9b5e88f7fc8506c8a": {
      "model_module": "@jupyter-widgets/controls",
      "model_module_version": "2.0.0",
      "model_name": "LabelModel",
      "state": {
       "layout": "IPY_MODEL_66821f8d30f94df9bc32525989db9c3a",
       "style": "IPY_MODEL_ffdbb816b6e84e38b4be87c88e454182",
       "value": "Nike Men's CJ Elite 2 TD Football Cleat"
      }
     },
     "5226654b13b84b23813667414b049b4a": {
      "model_module": "@jupyter-widgets/controls",
      "model_module_version": "2.0.0",
      "model_name": "LabelStyleModel",
      "state": {
       "description_width": "",
       "font_family": null,
       "font_size": null,
       "font_style": null,
       "font_variant": null,
       "font_weight": null,
       "text_color": null,
       "text_decoration": null
      }
     },
     "529cb652add742168670125e9007108c": {
      "model_module": "@jupyter-widgets/base",
      "model_module_version": "2.0.0",
      "model_name": "LayoutModel",
      "state": {}
     },
     "52a57e27904f44c0a8a601c891906fd4": {
      "model_module": "@jupyter-widgets/controls",
      "model_module_version": "2.0.0",
      "model_name": "ProgressStyleModel",
      "state": {
       "description_width": ""
      }
     },
     "530826d4177046779255f3eac281c12c": {
      "model_module": "@jupyter-widgets/controls",
      "model_module_version": "2.0.0",
      "model_name": "LabelStyleModel",
      "state": {
       "description_width": "",
       "font_family": null,
       "font_size": null,
       "font_style": null,
       "font_variant": null,
       "font_weight": null,
       "text_color": null,
       "text_decoration": null
      }
     },
     "531986547e304e01a75e34d12bffa6e1": {
      "model_module": "@jupyter-widgets/controls",
      "model_module_version": "2.0.0",
      "model_name": "LabelModel",
      "state": {
       "layout": "IPY_MODEL_203679be58a349bfb50512e1d5d363d0",
       "style": "IPY_MODEL_dc135f7d05d14f74aaa2af0b8bc0d083",
       "value": "Perfect Fitness Perfect Rip Deck"
      }
     },
     "533ff779a082410f91badddad1f3d54b": {
      "model_module": "@jupyter-widgets/base",
      "model_module_version": "2.0.0",
      "model_name": "LayoutModel",
      "state": {}
     },
     "537c1560fe5e422ca1eb4183a6fc98fe": {
      "model_module": "@jupyter-widgets/controls",
      "model_module_version": "2.0.0",
      "model_name": "LabelStyleModel",
      "state": {
       "description_width": "",
       "font_family": null,
       "font_size": null,
       "font_style": null,
       "font_variant": null,
       "font_weight": null,
       "text_color": null,
       "text_decoration": null
      }
     },
     "5449a82fe3904a668c3c25ae020ebd8e": {
      "model_module": "@jupyter-widgets/controls",
      "model_module_version": "2.0.0",
      "model_name": "LabelModel",
      "state": {
       "layout": "IPY_MODEL_5e8bc2eb3ce848c68426f3e48ac093e0",
       "style": "IPY_MODEL_297c2b39721942f88a88e6d7d522f8ac",
       "value": "Perfect Fitness Perfect Rip Deck"
      }
     },
     "5492218bf1954547b0620889eef87c06": {
      "model_module": "@jupyter-widgets/controls",
      "model_module_version": "2.0.0",
      "model_name": "LabelStyleModel",
      "state": {
       "description_width": "",
       "font_family": null,
       "font_size": null,
       "font_style": null,
       "font_variant": null,
       "font_weight": null,
       "text_color": null,
       "text_decoration": null
      }
     },
     "551d67172a8a4556b23130398ab44e73": {
      "model_module": "@jupyter-widgets/base",
      "model_module_version": "2.0.0",
      "model_name": "LayoutModel",
      "state": {}
     },
     "55affd52da814a63b897c82edbaf353f": {
      "model_module": "@jupyter-widgets/base",
      "model_module_version": "2.0.0",
      "model_name": "LayoutModel",
      "state": {}
     },
     "55b685c8ed314370b0d2ff7f25c1337d": {
      "model_module": "@jupyter-widgets/base",
      "model_module_version": "2.0.0",
      "model_name": "LayoutModel",
      "state": {}
     },
     "560506cbc2554646bd8bb984dba8eb06": {
      "model_module": "@jupyter-widgets/controls",
      "model_module_version": "2.0.0",
      "model_name": "FloatProgressModel",
      "state": {
       "bar_style": "info",
       "description": "0.4635",
       "layout": "IPY_MODEL_aad19e30ed2d428d968a4c0920f8320c",
       "max": 1,
       "style": "IPY_MODEL_0a4d1e58f8264d60b767e05b1286ce19",
       "value": 0.4634615384615384
      }
     },
     "562809016b6447f5bf1e3e60b32f6a13": {
      "model_module": "@jupyter-widgets/controls",
      "model_module_version": "2.0.0",
      "model_name": "FloatProgressModel",
      "state": {
       "bar_style": "info",
       "description": "0.4617",
       "layout": "IPY_MODEL_529cb652add742168670125e9007108c",
       "max": 1,
       "style": "IPY_MODEL_85016222c3c1465b9b07a37503b4517b",
       "value": 0.4616858237547892
      }
     },
     "56986f8ed18a48aeb2405918a9c29098": {
      "model_module": "@jupyter-widgets/controls",
      "model_module_version": "2.0.0",
      "model_name": "GridBoxModel",
      "state": {
       "children": [
        "IPY_MODEL_0bd575c040694c86ad3febcbdcd017e3",
        "IPY_MODEL_23ba561a85634e3d9e7bbbae71567d78",
        "IPY_MODEL_5449a82fe3904a668c3c25ae020ebd8e",
        "IPY_MODEL_c1450db101a84d0fa2780a17d1c4a252",
        "IPY_MODEL_faf40fbaad424859bcd92c090f4a4a47",
        "IPY_MODEL_e05b50cdb99c46aa8d50f9e2d3870b85",
        "IPY_MODEL_19d3b4b2681042f186344c9c0e9dfb03",
        "IPY_MODEL_b3ed3c6f9dea4c60b340b7a64d0ef7db",
        "IPY_MODEL_db48a2a6214a4fddb664035776525a52",
        "IPY_MODEL_1ffede612e4d4644907f15f142446e7b",
        "IPY_MODEL_dacdb824d22e4169939de89be0c0ee83",
        "IPY_MODEL_4915f774b8b746ca9d95f7344a697625"
       ],
       "layout": "IPY_MODEL_fcd4b3a7fd0e4032a85139116f061d36"
      }
     },
     "56a3ba1122ee476888604f0ad5ca32a0": {
      "model_module": "@jupyter-widgets/controls",
      "model_module_version": "2.0.0",
      "model_name": "FloatProgressModel",
      "state": {
       "bar_style": "info",
       "description": "0.5326",
       "layout": "IPY_MODEL_d83624759ea14a11afdb14734415e01e",
       "max": 1,
       "style": "IPY_MODEL_dc521eefde984787823ae78951b11e44",
       "value": 0.5325670498084292
      }
     },
     "56ecff69be1f4094b66dff8a10255b21": {
      "model_module": "@jupyter-widgets/controls",
      "model_module_version": "2.0.0",
      "model_name": "FloatProgressModel",
      "state": {
       "bar_style": "info",
       "description": "0.5556",
       "layout": "IPY_MODEL_ce52643d1d7c487da982f6bb3266eb6d",
       "max": 1,
       "style": "IPY_MODEL_9c95a6f85a9d447791b67f4938fff3a7",
       "value": 0.5555555555555555
      }
     },
     "56ffdee1d1ff4bef90c029edfc57ad17": {
      "model_module": "@jupyter-widgets/controls",
      "model_module_version": "2.0.0",
      "model_name": "ProgressStyleModel",
      "state": {
       "description_width": ""
      }
     },
     "57c4a327de834aac8260b7cf306c31ec": {
      "model_module": "@jupyter-widgets/controls",
      "model_module_version": "2.0.0",
      "model_name": "ProgressStyleModel",
      "state": {
       "description_width": ""
      }
     },
     "5823641052ec4b50b6537f9cb83f46d0": {
      "model_module": "@jupyter-widgets/controls",
      "model_module_version": "2.0.0",
      "model_name": "LabelStyleModel",
      "state": {
       "description_width": "",
       "font_family": null,
       "font_size": null,
       "font_style": null,
       "font_variant": null,
       "font_weight": null,
       "text_color": null,
       "text_decoration": null
      }
     },
     "584a80878f194d56a3ce482b4fd3b401": {
      "model_module": "@jupyter-widgets/base",
      "model_module_version": "2.0.0",
      "model_name": "LayoutModel",
      "state": {}
     },
     "5851050df2994ec2b3d410408a68cca5": {
      "model_module": "@jupyter-widgets/controls",
      "model_module_version": "2.0.0",
      "model_name": "LabelModel",
      "state": {
       "layout": "IPY_MODEL_2c457622a10040769b0ca83a93b1b819",
       "style": "IPY_MODEL_6293be2cfc514c0c8011f909f51319b8",
       "value": "Diamondback Women's Serene Classic Comfort Bi"
      }
     },
     "585f273a2f5046828f69b1fa31d8543b": {
      "model_module": "@jupyter-widgets/controls",
      "model_module_version": "2.0.0",
      "model_name": "LabelStyleModel",
      "state": {
       "description_width": "",
       "font_family": null,
       "font_size": null,
       "font_style": null,
       "font_variant": null,
       "font_weight": null,
       "text_color": null,
       "text_decoration": null
      }
     },
     "586477fe0152449da09c1e5b177f0ee1": {
      "model_module": "@jupyter-widgets/base",
      "model_module_version": "2.0.0",
      "model_name": "LayoutModel",
      "state": {}
     },
     "58719172a2594f81b176a62fd2268bd6": {
      "model_module": "@jupyter-widgets/base",
      "model_module_version": "2.0.0",
      "model_name": "LayoutModel",
      "state": {}
     },
     "58f3acb0f0c84c5d92eaf7e5aea39b62": {
      "model_module": "@jupyter-widgets/controls",
      "model_module_version": "2.0.0",
      "model_name": "LabelModel",
      "state": {
       "layout": "IPY_MODEL_9ba0874f8afe4de49628dec5a88f74fe",
       "style": "IPY_MODEL_ac01feb047604bef928c15a467a10d65",
       "value": "O'Brien Men's Neoprene Life Vest"
      }
     },
     "58f59acef32b40a4b6f3a8d872f01073": {
      "model_module": "@jupyter-widgets/controls",
      "model_module_version": "2.0.0",
      "model_name": "FloatProgressModel",
      "state": {
       "bar_style": "info",
       "description": "0.5326",
       "layout": "IPY_MODEL_6267db4a2789425d82f1e29bf26fe146",
       "max": 1,
       "style": "IPY_MODEL_1218549cd032453f89820a956796cec0",
       "value": 0.5325670498084292
      }
     },
     "5900f0d5fc744b689ac717e419c1faa4": {
      "model_module": "@jupyter-widgets/base",
      "model_module_version": "2.0.0",
      "model_name": "LayoutModel",
      "state": {}
     },
     "5989f3c838fd49d5987f89624e659092": {
      "model_module": "@jupyter-widgets/controls",
      "model_module_version": "2.0.0",
      "model_name": "LabelStyleModel",
      "state": {
       "description_width": "",
       "font_family": null,
       "font_size": null,
       "font_style": null,
       "font_variant": null,
       "font_weight": null,
       "text_color": null,
       "text_decoration": null
      }
     },
     "59c8624253d34bfb8451a526cf28bfbe": {
      "model_module": "@jupyter-widgets/base",
      "model_module_version": "2.0.0",
      "model_name": "LayoutModel",
      "state": {}
     },
     "59f3a8a48aa146b6a5911b7ee57c5db7": {
      "model_module": "@jupyter-widgets/controls",
      "model_module_version": "2.0.0",
      "model_name": "FloatProgressModel",
      "state": {
       "bar_style": "info",
       "description": "0.4250",
       "layout": "IPY_MODEL_8aaaa8048cc546e8b3fb75b0a6ad4ffd",
       "max": 1,
       "style": "IPY_MODEL_aa240d28f2a949f89f4de6791407d4c2",
       "value": 0.425
      }
     },
     "5a54bf2aab784bd5aa13f640d521d737": {
      "model_module": "@jupyter-widgets/base",
      "model_module_version": "2.0.0",
      "model_name": "LayoutModel",
      "state": {}
     },
     "5a989c75e0874ffea81218617c49fdc0": {
      "model_module": "@jupyter-widgets/controls",
      "model_module_version": "2.0.0",
      "model_name": "FloatProgressModel",
      "state": {
       "bar_style": "info",
       "description": "0.3985",
       "layout": "IPY_MODEL_a1d80595292a4463a6cc0104ddc63839",
       "max": 1,
       "style": "IPY_MODEL_1951122e4a83473daaf7dca7218a39a2",
       "value": 0.39846743295019155
      }
     },
     "5aa28480bf794037bd87e7c5c081b40b": {
      "model_module": "@jupyter-widgets/controls",
      "model_module_version": "2.0.0",
      "model_name": "LabelModel",
      "state": {
       "layout": "IPY_MODEL_f815c5ab9da64be3949a9d2fddf58769",
       "style": "IPY_MODEL_633701d016f54377a293474c3dfec6d5",
       "value": "Pelican Sunstream 100 Kayak"
      }
     },
     "5aa4195734bb48eab3211bbbc7dbdaef": {
      "model_module": "@jupyter-widgets/controls",
      "model_module_version": "2.0.0",
      "model_name": "ProgressStyleModel",
      "state": {
       "description_width": ""
      }
     },
     "5ae2aea44b2945c89cb04042b7985823": {
      "model_module": "@jupyter-widgets/controls",
      "model_module_version": "2.0.0",
      "model_name": "LabelModel",
      "state": {
       "layout": "IPY_MODEL_96b33e01cebf487fb2ec57e068d4dd1f",
       "style": "IPY_MODEL_32c5a47fc55a45ce9bb2b599f3eb2651",
       "value": "Nike Men's CJ Elite 2 TD Football Cleat"
      }
     },
     "5b1505a34e144f55875cf11680f6e575": {
      "model_module": "@jupyter-widgets/controls",
      "model_module_version": "2.0.0",
      "model_name": "FloatProgressModel",
      "state": {
       "bar_style": "info",
       "description": "0.3276",
       "layout": "IPY_MODEL_59c8624253d34bfb8451a526cf28bfbe",
       "max": 1,
       "style": "IPY_MODEL_57c4a327de834aac8260b7cf306c31ec",
       "value": 0.3275862068965517
      }
     },
     "5b3bec0bad1741e9b75415102d30123c": {
      "model_module": "@jupyter-widgets/controls",
      "model_module_version": "2.0.0",
      "model_name": "LabelStyleModel",
      "state": {
       "description_width": "",
       "font_family": null,
       "font_size": null,
       "font_style": null,
       "font_variant": null,
       "font_weight": null,
       "text_color": null,
       "text_decoration": null
      }
     },
     "5bca5b1f0349469887cc46be247d81a0": {
      "model_module": "@jupyter-widgets/controls",
      "model_module_version": "2.0.0",
      "model_name": "LabelModel",
      "state": {
       "layout": "IPY_MODEL_cdf9cbc3a90b4ac49fa9f1adf4fe5223",
       "style": "IPY_MODEL_2e549583a5564e0dbec0a7a2ae1ff610",
       "value": "Diamondback Women's Serene Classic Comfort Bi"
      }
     },
     "5c79691e4e7743fabaa1d2f23eee2b52": {
      "model_module": "@jupyter-widgets/base",
      "model_module_version": "2.0.0",
      "model_name": "LayoutModel",
      "state": {}
     },
     "5ce6d32ad5514c0d91f3ff39718d52cd": {
      "model_module": "@jupyter-widgets/controls",
      "model_module_version": "2.0.0",
      "model_name": "ProgressStyleModel",
      "state": {
       "description_width": ""
      }
     },
     "5d363207db0b4a2fb5173969e99bd71f": {
      "model_module": "@jupyter-widgets/base",
      "model_module_version": "2.0.0",
      "model_name": "LayoutModel",
      "state": {}
     },
     "5da4762986c745739dc4c427d835aa95": {
      "model_module": "@jupyter-widgets/base",
      "model_module_version": "2.0.0",
      "model_name": "LayoutModel",
      "state": {}
     },
     "5dc1372f7ee94e22a5baa21fcd535b92": {
      "model_module": "@jupyter-widgets/controls",
      "model_module_version": "2.0.0",
      "model_name": "LabelStyleModel",
      "state": {
       "description_width": "",
       "font_family": null,
       "font_size": null,
       "font_style": null,
       "font_variant": null,
       "font_weight": null,
       "text_color": null,
       "text_decoration": null
      }
     },
     "5e2f1308ac80455a95883998bd1bb2bd": {
      "model_module": "@jupyter-widgets/controls",
      "model_module_version": "2.0.0",
      "model_name": "ProgressStyleModel",
      "state": {
       "description_width": ""
      }
     },
     "5e745aef5aeb40309ee511f7939f96d3": {
      "model_module": "@jupyter-widgets/controls",
      "model_module_version": "2.0.0",
      "model_name": "FloatProgressModel",
      "state": {
       "bar_style": "info",
       "description": "0.5326",
       "layout": "IPY_MODEL_58719172a2594f81b176a62fd2268bd6",
       "max": 1,
       "style": "IPY_MODEL_9ee4943bf0b843888889daaeea2c5ef0",
       "value": 0.5325670498084292
      }
     },
     "5e74f07a8a654cc4a7377f52a86bc02c": {
      "model_module": "@jupyter-widgets/base",
      "model_module_version": "2.0.0",
      "model_name": "LayoutModel",
      "state": {}
     },
     "5e815f47a95d4e388fba5fbe04313e61": {
      "model_module": "@jupyter-widgets/controls",
      "model_module_version": "2.0.0",
      "model_name": "LabelStyleModel",
      "state": {
       "description_width": "",
       "font_family": null,
       "font_size": null,
       "font_style": null,
       "font_variant": null,
       "font_weight": null,
       "text_color": null,
       "text_decoration": null
      }
     },
     "5e8bc2eb3ce848c68426f3e48ac093e0": {
      "model_module": "@jupyter-widgets/base",
      "model_module_version": "2.0.0",
      "model_name": "LayoutModel",
      "state": {}
     },
     "5ec9cc91415140f2bc3d7284bbf1d7e5": {
      "model_module": "@jupyter-widgets/controls",
      "model_module_version": "2.0.0",
      "model_name": "FloatProgressModel",
      "state": {
       "bar_style": "info",
       "description": "0.4731",
       "layout": "IPY_MODEL_c529e6251a2946ebb836eb9a078f20e4",
       "max": 1,
       "style": "IPY_MODEL_1315a9adef394cf3b48255265f013f1b",
       "value": 0.47307692307692306
      }
     },
     "5ee2b1942a344a199fc6022fb4c4326d": {
      "model_module": "@jupyter-widgets/controls",
      "model_module_version": "2.0.0",
      "model_name": "FloatProgressModel",
      "state": {
       "bar_style": "info",
       "description": "0.5556",
       "layout": "IPY_MODEL_0640cc3df02c4f158a5553684ede2926",
       "max": 1,
       "style": "IPY_MODEL_7a2650c91829413d99f59b09e4c56849",
       "value": 0.5555555555555555
      }
     },
     "5f4b49c3f7ee4267bb83955d95db8ac2": {
      "model_module": "@jupyter-widgets/controls",
      "model_module_version": "2.0.0",
      "model_name": "ProgressStyleModel",
      "state": {
       "description_width": ""
      }
     },
     "5f9f97ff4bb34d26bbab900d1572f372": {
      "model_module": "@jupyter-widgets/controls",
      "model_module_version": "2.0.0",
      "model_name": "LabelModel",
      "state": {
       "layout": "IPY_MODEL_0a4815e2a80943d2b3040662ff41b2fc",
       "style": "IPY_MODEL_eee904bbabf844edb679728d24058823",
       "value": "Pelican Sunstream 100 Kayak"
      }
     },
     "5ff3f3a01c6e44c4bdfe8e8a9223ab68": {
      "model_module": "@jupyter-widgets/controls",
      "model_module_version": "2.0.0",
      "model_name": "ProgressStyleModel",
      "state": {
       "description_width": ""
      }
     },
     "6006a7b80211451d8faa5f1031cd600d": {
      "model_module": "@jupyter-widgets/controls",
      "model_module_version": "2.0.0",
      "model_name": "LabelStyleModel",
      "state": {
       "description_width": "",
       "font_family": null,
       "font_size": null,
       "font_style": null,
       "font_variant": null,
       "font_weight": null,
       "text_color": null,
       "text_decoration": null
      }
     },
     "606dc1cd615a4e0a91584141618ad6ea": {
      "model_module": "@jupyter-widgets/controls",
      "model_module_version": "2.0.0",
      "model_name": "FloatProgressModel",
      "state": {
       "bar_style": "info",
       "description": "0.5346",
       "layout": "IPY_MODEL_1640f2b124a34036a7182d0543feb10c",
       "max": 1,
       "style": "IPY_MODEL_14272f3de90340398549facae79ab9fe",
       "value": 0.5346153846153846
      }
     },
     "60ca60222a964375ba609eac290877d4": {
      "model_module": "@jupyter-widgets/controls",
      "model_module_version": "2.0.0",
      "model_name": "ProgressStyleModel",
      "state": {
       "description_width": ""
      }
     },
     "612be0f9df75439bb8cc7c2202213d7c": {
      "model_module": "@jupyter-widgets/controls",
      "model_module_version": "2.0.0",
      "model_name": "LabelModel",
      "state": {
       "layout": "IPY_MODEL_b12d5331866c428c875f7027bc325009",
       "style": "IPY_MODEL_63deddb7ccae4cb19c29104a663d8d60",
       "value": "Nike Men's CJ Elite 2 TD Football Cleat"
      }
     },
     "6139e18527964259bb59fdc0801554a8": {
      "model_module": "@jupyter-widgets/controls",
      "model_module_version": "2.0.0",
      "model_name": "FloatProgressModel",
      "state": {
       "bar_style": "info",
       "description": "0.4731",
       "layout": "IPY_MODEL_837326944a6142baa2b260c1ba95261a",
       "max": 1,
       "style": "IPY_MODEL_5ce6d32ad5514c0d91f3ff39718d52cd",
       "value": 0.47307692307692306
      }
     },
     "61cf4ac789a84c25bc4d5774032c630b": {
      "model_module": "@jupyter-widgets/base",
      "model_module_version": "2.0.0",
      "model_name": "LayoutModel",
      "state": {}
     },
     "622c87508c05436e83ab0bd24ae77202": {
      "model_module": "@jupyter-widgets/controls",
      "model_module_version": "2.0.0",
      "model_name": "FloatProgressModel",
      "state": {
       "bar_style": "info",
       "description": "0.4617",
       "layout": "IPY_MODEL_0972dcffc38247e799a7a96f5b659de9",
       "max": 1,
       "style": "IPY_MODEL_2d25699b4e5f4c7e9a8b07d021d6f429",
       "value": 0.4616858237547892
      }
     },
     "625ce0c0c29d4333b0ddc5abf0e13549": {
      "model_module": "@jupyter-widgets/controls",
      "model_module_version": "2.0.0",
      "model_name": "FloatProgressModel",
      "state": {
       "bar_style": "info",
       "description": "0.3027",
       "layout": "IPY_MODEL_d4d0aea4bce24eecb83cec929ede879a",
       "max": 1,
       "style": "IPY_MODEL_ced70ecc41c540deb4f7344aa36b46a0",
       "value": 0.30268199233716475
      }
     },
     "6267db4a2789425d82f1e29bf26fe146": {
      "model_module": "@jupyter-widgets/base",
      "model_module_version": "2.0.0",
      "model_name": "LayoutModel",
      "state": {}
     },
     "6293be2cfc514c0c8011f909f51319b8": {
      "model_module": "@jupyter-widgets/controls",
      "model_module_version": "2.0.0",
      "model_name": "LabelStyleModel",
      "state": {
       "description_width": "",
       "font_family": null,
       "font_size": null,
       "font_style": null,
       "font_variant": null,
       "font_weight": null,
       "text_color": null,
       "text_decoration": null
      }
     },
     "62aff77d48cd4315ba6b75edf2768544": {
      "model_module": "@jupyter-widgets/controls",
      "model_module_version": "2.0.0",
      "model_name": "LabelStyleModel",
      "state": {
       "description_width": "",
       "font_family": null,
       "font_size": null,
       "font_style": null,
       "font_variant": null,
       "font_weight": null,
       "text_color": null,
       "text_decoration": null
      }
     },
     "62b5008cb9f64fd9b009c23c9029fa77": {
      "model_module": "@jupyter-widgets/base",
      "model_module_version": "2.0.0",
      "model_name": "LayoutModel",
      "state": {}
     },
     "633701d016f54377a293474c3dfec6d5": {
      "model_module": "@jupyter-widgets/controls",
      "model_module_version": "2.0.0",
      "model_name": "LabelStyleModel",
      "state": {
       "description_width": "",
       "font_family": null,
       "font_size": null,
       "font_style": null,
       "font_variant": null,
       "font_weight": null,
       "text_color": null,
       "text_decoration": null
      }
     },
     "63880db1c2674c59b62c036cf473190a": {
      "model_module": "@jupyter-widgets/controls",
      "model_module_version": "2.0.0",
      "model_name": "ProgressStyleModel",
      "state": {
       "description_width": ""
      }
     },
     "63deddb7ccae4cb19c29104a663d8d60": {
      "model_module": "@jupyter-widgets/controls",
      "model_module_version": "2.0.0",
      "model_name": "LabelStyleModel",
      "state": {
       "description_width": "",
       "font_family": null,
       "font_size": null,
       "font_style": null,
       "font_variant": null,
       "font_weight": null,
       "text_color": null,
       "text_decoration": null
      }
     },
     "6413f8b84b1b4b3291a0f1671372bde8": {
      "model_module": "@jupyter-widgets/controls",
      "model_module_version": "2.0.0",
      "model_name": "LabelStyleModel",
      "state": {
       "description_width": "",
       "font_family": null,
       "font_size": null,
       "font_style": null,
       "font_variant": null,
       "font_weight": null,
       "text_color": null,
       "text_decoration": null
      }
     },
     "65c24c75b96643aba3120873809d7158": {
      "model_module": "@jupyter-widgets/controls",
      "model_module_version": "2.0.0",
      "model_name": "LabelModel",
      "state": {
       "layout": "IPY_MODEL_ce80f8230a364b6ba2462e95f8d982f2",
       "style": "IPY_MODEL_537c1560fe5e422ca1eb4183a6fc98fe",
       "value": "Nike Men's CJ Elite 2 TD Football Cleat"
      }
     },
     "66380893c8154d0b90cb13000d0aafea": {
      "model_module": "@jupyter-widgets/controls",
      "model_module_version": "2.0.0",
      "model_name": "ProgressStyleModel",
      "state": {
       "description_width": ""
      }
     },
     "664e3fe8257c471a9e25137ae070927b": {
      "model_module": "@jupyter-widgets/controls",
      "model_module_version": "2.0.0",
      "model_name": "LabelModel",
      "state": {
       "layout": "IPY_MODEL_de79867f042040b5b964a3e8f0dffd35",
       "style": "IPY_MODEL_a50bee63ea714d7a9dd8804da5e29d0c",
       "value": "Nike Men's CJ Elite 2 TD Football Cleat"
      }
     },
     "66821f8d30f94df9bc32525989db9c3a": {
      "model_module": "@jupyter-widgets/base",
      "model_module_version": "2.0.0",
      "model_name": "LayoutModel",
      "state": {}
     },
     "668a94617c664c31a88db542efeb3868": {
      "model_module": "@jupyter-widgets/controls",
      "model_module_version": "2.0.0",
      "model_name": "FloatProgressModel",
      "state": {
       "bar_style": "info",
       "description": "0.5670",
       "layout": "IPY_MODEL_0b7d2311eaa84d349cf22d3d35ce26a2",
       "max": 1,
       "style": "IPY_MODEL_d660de31c00f46df9259ae950f504901",
       "value": 0.5670498084291187
      }
     },
     "677d5395d9b84fdd8e755926edb4c453": {
      "model_module": "@jupyter-widgets/controls",
      "model_module_version": "2.0.0",
      "model_name": "LabelModel",
      "state": {
       "layout": "IPY_MODEL_3cdf7c7c195941a8b70729de13c7862e",
       "style": "IPY_MODEL_99ddc6fbb9df40b19be42c40b32bd6e1",
       "value": "Nike Men's CJ Elite 2 TD Football Cleat"
      }
     },
     "67a3229ffa33496c9c40678749ab1348": {
      "model_module": "@jupyter-widgets/controls",
      "model_module_version": "2.0.0",
      "model_name": "LabelStyleModel",
      "state": {
       "description_width": "",
       "font_family": null,
       "font_size": null,
       "font_style": null,
       "font_variant": null,
       "font_weight": null,
       "text_color": null,
       "text_decoration": null
      }
     },
     "67a60ec9cefd43f7851e8bfc3de06b29": {
      "model_module": "@jupyter-widgets/controls",
      "model_module_version": "2.0.0",
      "model_name": "LabelModel",
      "state": {
       "layout": "IPY_MODEL_e4b0130028024bddabada52cb11a7fef",
       "style": "IPY_MODEL_cd9bcdfa0d2d409ca710346fdd96d11e",
       "value": "Diamondback Women's Serene Classic Comfort Bi"
      }
     },
     "67b51a096be2417694b082d17100130d": {
      "model_module": "@jupyter-widgets/controls",
      "model_module_version": "2.0.0",
      "model_name": "ProgressStyleModel",
      "state": {
       "description_width": ""
      }
     },
     "685eaef1f31a425fa6d9a5bcea5990a7": {
      "model_module": "@jupyter-widgets/controls",
      "model_module_version": "2.0.0",
      "model_name": "LabelModel",
      "state": {
       "layout": "IPY_MODEL_2fc35a38a3024ca38c378dac909b7a1e",
       "style": "IPY_MODEL_80eeabdf908645be9ca288d88a468434",
       "value": "Nike Men's Dri-FIT Victory Golf Polo"
      }
     },
     "687e314ed7354cc3b615ab35029e5ed2": {
      "model_module": "@jupyter-widgets/controls",
      "model_module_version": "2.0.0",
      "model_name": "ProgressStyleModel",
      "state": {
       "description_width": ""
      }
     },
     "697d6ab23dea4ad5ae970ccde1921316": {
      "model_module": "@jupyter-widgets/controls",
      "model_module_version": "2.0.0",
      "model_name": "LabelModel",
      "state": {
       "layout": "IPY_MODEL_434afe3f7f254e5e93b179c8c20a8b76",
       "style": "IPY_MODEL_035bc89934f64ad585068b10ea5ea439",
       "value": "Perfect Fitness Perfect Rip Deck"
      }
     },
     "69c82e9be558469e8864fd2bf22b04c0": {
      "model_module": "@jupyter-widgets/base",
      "model_module_version": "2.0.0",
      "model_name": "LayoutModel",
      "state": {}
     },
     "69f1186bc1d24d3b965ad72a13d7e09d": {
      "model_module": "@jupyter-widgets/controls",
      "model_module_version": "2.0.0",
      "model_name": "ProgressStyleModel",
      "state": {
       "description_width": ""
      }
     },
     "69f962230eaf4e00ab0249ed16951adf": {
      "model_module": "@jupyter-widgets/controls",
      "model_module_version": "2.0.0",
      "model_name": "LabelModel",
      "state": {
       "layout": "IPY_MODEL_06b89e23263240f4b7bff3629cb55e2c",
       "style": "IPY_MODEL_b19c5ebdf2704f12aa9f55fcddd8c755",
       "value": "O'Brien Men's Neoprene Life Vest"
      }
     },
     "6a59cb206b3d4a1794cc8769d5288ce0": {
      "model_module": "@jupyter-widgets/controls",
      "model_module_version": "2.0.0",
      "model_name": "LabelStyleModel",
      "state": {
       "description_width": "",
       "font_family": null,
       "font_size": null,
       "font_style": null,
       "font_variant": null,
       "font_weight": null,
       "text_color": null,
       "text_decoration": null
      }
     },
     "6a99bbe0c59c47a683c408fbf62d943b": {
      "model_module": "@jupyter-widgets/controls",
      "model_module_version": "2.0.0",
      "model_name": "LabelModel",
      "state": {
       "layout": "IPY_MODEL_3d6bf7691b3142ac8c03f572926e6d0f",
       "style": "IPY_MODEL_fbe6fd8902b14eb39db62c02bc2a7199",
       "value": "O'Brien Men's Neoprene Life Vest"
      }
     },
     "6aa3fa0edf3b42d5ae53aa9ebe9c3115": {
      "model_module": "@jupyter-widgets/controls",
      "model_module_version": "2.0.0",
      "model_name": "LabelStyleModel",
      "state": {
       "description_width": "",
       "font_family": null,
       "font_size": null,
       "font_style": null,
       "font_variant": null,
       "font_weight": null,
       "text_color": null,
       "text_decoration": null
      }
     },
     "6b08ba6324c8440e9e18d229573a65f8": {
      "model_module": "@jupyter-widgets/controls",
      "model_module_version": "2.0.0",
      "model_name": "LabelModel",
      "state": {
       "layout": "IPY_MODEL_37a35fab5f0c4a8982f5e00c2656a1fc",
       "style": "IPY_MODEL_75643eb1d6514a4592169fdef0550390",
       "value": "Field & Stream Sportsman 16 Gun Fire Safe"
      }
     },
     "6b82aed47eba492e9acaa45d17c825d4": {
      "model_module": "@jupyter-widgets/controls",
      "model_module_version": "2.0.0",
      "model_name": "ProgressStyleModel",
      "state": {
       "description_width": ""
      }
     },
     "6b9801c929a14eaca0b3676754f0e493": {
      "model_module": "@jupyter-widgets/controls",
      "model_module_version": "2.0.0",
      "model_name": "LabelModel",
      "state": {
       "layout": "IPY_MODEL_4fb8c0cf30354f469912f31ea963767c",
       "style": "IPY_MODEL_8c7824063ed445699f52e3b0710601de",
       "value": "Nike Men's CJ Elite 2 TD Football Cleat"
      }
     },
     "6ba89ec1b4614a98b74617da85c8be28": {
      "model_module": "@jupyter-widgets/base",
      "model_module_version": "2.0.0",
      "model_name": "LayoutModel",
      "state": {}
     },
     "6c3691fa0036491da5369c219dba5f48": {
      "model_module": "@jupyter-widgets/controls",
      "model_module_version": "2.0.0",
      "model_name": "LabelModel",
      "state": {
       "layout": "IPY_MODEL_f7536cde626544da95441c5e093cc1d2",
       "style": "IPY_MODEL_4d609a090a0f4a828c02af2ac127e585",
       "value": "Nike Men's CJ Elite 2 TD Football Cleat"
      }
     },
     "6c5c6a063ee345e3b146603a5df27188": {
      "model_module": "@jupyter-widgets/controls",
      "model_module_version": "2.0.0",
      "model_name": "LabelStyleModel",
      "state": {
       "description_width": "",
       "font_family": null,
       "font_size": null,
       "font_style": null,
       "font_variant": null,
       "font_weight": null,
       "text_color": null,
       "text_decoration": null
      }
     },
     "6c6e84a3608b4a859e77c8d724239600": {
      "model_module": "@jupyter-widgets/controls",
      "model_module_version": "2.0.0",
      "model_name": "LabelStyleModel",
      "state": {
       "description_width": "",
       "font_family": null,
       "font_size": null,
       "font_style": null,
       "font_variant": null,
       "font_weight": null,
       "text_color": null,
       "text_decoration": null
      }
     },
     "6cc15b4afa604992892fe2c82280d563": {
      "model_module": "@jupyter-widgets/controls",
      "model_module_version": "2.0.0",
      "model_name": "ProgressStyleModel",
      "state": {
       "description_width": ""
      }
     },
     "6cd9930c253f4badb798f083b87a61c2": {
      "model_module": "@jupyter-widgets/base",
      "model_module_version": "2.0.0",
      "model_name": "LayoutModel",
      "state": {}
     },
     "6d01c1af997a4c82b3dcac6ce0bc863c": {
      "model_module": "@jupyter-widgets/base",
      "model_module_version": "2.0.0",
      "model_name": "LayoutModel",
      "state": {}
     },
     "6de0d8fe344640c8a166c1798ca2c7e4": {
      "model_module": "@jupyter-widgets/controls",
      "model_module_version": "2.0.0",
      "model_name": "ProgressStyleModel",
      "state": {
       "description_width": ""
      }
     },
     "6e12fcc7ecd6498f89e02eda715c4e53": {
      "model_module": "@jupyter-widgets/controls",
      "model_module_version": "2.0.0",
      "model_name": "ProgressStyleModel",
      "state": {
       "description_width": ""
      }
     },
     "6ed2a34da8d84e64b637c05d229742a6": {
      "model_module": "@jupyter-widgets/controls",
      "model_module_version": "2.0.0",
      "model_name": "LabelStyleModel",
      "state": {
       "description_width": "",
       "font_family": null,
       "font_size": null,
       "font_style": null,
       "font_variant": null,
       "font_weight": null,
       "text_color": null,
       "text_decoration": null
      }
     },
     "6ee5f58ef6104fb7a81e56dd56fd2d24": {
      "model_module": "@jupyter-widgets/base",
      "model_module_version": "2.0.0",
      "model_name": "LayoutModel",
      "state": {}
     },
     "6f164ba125d74a218bcd9c5407116e0a": {
      "model_module": "@jupyter-widgets/base",
      "model_module_version": "2.0.0",
      "model_name": "LayoutModel",
      "state": {}
     },
     "6f35f77ac5f94f1b9e5a34402f6880cf": {
      "model_module": "@jupyter-widgets/controls",
      "model_module_version": "2.0.0",
      "model_name": "ProgressStyleModel",
      "state": {
       "description_width": ""
      }
     },
     "6f57c5806afa4c679130cf1773ecf650": {
      "model_module": "@jupyter-widgets/controls",
      "model_module_version": "2.0.0",
      "model_name": "FloatProgressModel",
      "state": {
       "bar_style": "info",
       "description": "0.4617",
       "layout": "IPY_MODEL_eb3782c14afa4e119632f3d820956be6",
       "max": 1,
       "style": "IPY_MODEL_ae8dd882c9414217b6b2d89325c607d5",
       "value": 0.4616858237547892
      }
     },
     "6fca7904c423488cb8879e149d87610f": {
      "model_module": "@jupyter-widgets/controls",
      "model_module_version": "2.0.0",
      "model_name": "LabelModel",
      "state": {
       "layout": "IPY_MODEL_71205388e9de44219e88d2e4fca51937",
       "style": "IPY_MODEL_198cf59c5b314ea8b882effdbe4a4edf",
       "value": "Nike Men's CJ Elite 2 TD Football Cleat"
      }
     },
     "701eb6656a50485d80a68ad5b13168c0": {
      "model_module": "@jupyter-widgets/controls",
      "model_module_version": "2.0.0",
      "model_name": "FloatProgressModel",
      "state": {
       "bar_style": "info",
       "description": "0.5788",
       "layout": "IPY_MODEL_4c99b143f9a547a9bd837b5e9e0560db",
       "max": 1,
       "style": "IPY_MODEL_0d113fe9f0a1478097fd1568513de0bd",
       "value": 0.5788461538461538
      }
     },
     "702695410e0a4e5ea4b2d2b97d7437ce": {
      "model_module": "@jupyter-widgets/controls",
      "model_module_version": "2.0.0",
      "model_name": "LabelModel",
      "state": {
       "layout": "IPY_MODEL_d90253c5e59c405ab36a4ea1549cc17d",
       "style": "IPY_MODEL_245f6e1187754b1cb86af5420a17289e",
       "value": "Nike Men's CJ Elite 2 TD Football Cleat"
      }
     },
     "703e78bc21e7480baeea4d20fc013994": {
      "model_module": "@jupyter-widgets/controls",
      "model_module_version": "2.0.0",
      "model_name": "LabelModel",
      "state": {
       "layout": "IPY_MODEL_df709e5fada24e27ac8a84693ec212e4",
       "style": "IPY_MODEL_b60e64295cda4a7cb7518f09072d8e83",
       "value": "Pelican Sunstream 100 Kayak"
      }
     },
     "70b04735b7c64d7787edeb89f5d9069f": {
      "model_module": "@jupyter-widgets/base",
      "model_module_version": "2.0.0",
      "model_name": "LayoutModel",
      "state": {}
     },
     "70bd39ddb08242dd9868ba87e213739d": {
      "model_module": "@jupyter-widgets/controls",
      "model_module_version": "2.0.0",
      "model_name": "FloatProgressModel",
      "state": {
       "bar_style": "info",
       "description": "0.5670",
       "layout": "IPY_MODEL_86f31d182d434696aae07710dd40e47d",
       "max": 1,
       "style": "IPY_MODEL_9fc2a0ac00dc4287a3ab2009084355f5",
       "value": 0.5670498084291187
      }
     },
     "70db9d1dbbf146dcae3c6aed5edaef1b": {
      "model_module": "@jupyter-widgets/base",
      "model_module_version": "2.0.0",
      "model_name": "LayoutModel",
      "state": {}
     },
     "7104a783db72481c951c36055b84b608": {
      "model_module": "@jupyter-widgets/controls",
      "model_module_version": "2.0.0",
      "model_name": "LabelModel",
      "state": {
       "layout": "IPY_MODEL_8040964e9ef748968352f530fb8118f0",
       "style": "IPY_MODEL_b25c25f5c46d45e19c7b45b53e8de350",
       "value": "Nike Men's Dri-FIT Victory Golf Polo"
      }
     },
     "71205388e9de44219e88d2e4fca51937": {
      "model_module": "@jupyter-widgets/base",
      "model_module_version": "2.0.0",
      "model_name": "LayoutModel",
      "state": {}
     },
     "7212a88387394d6dba970afd5f6eae45": {
      "model_module": "@jupyter-widgets/controls",
      "model_module_version": "2.0.0",
      "model_name": "LabelModel",
      "state": {
       "layout": "IPY_MODEL_13accfc27fd940ac9f6ee3ae5da30a70",
       "style": "IPY_MODEL_5e815f47a95d4e388fba5fbe04313e61",
       "value": "O'Brien Men's Neoprene Life Vest"
      }
     },
     "72189ce8aa9d4aecaea3746250f39d7b": {
      "model_module": "@jupyter-widgets/base",
      "model_module_version": "2.0.0",
      "model_name": "LayoutModel",
      "state": {}
     },
     "72281560eb45458fa73af45cd74aad96": {
      "model_module": "@jupyter-widgets/controls",
      "model_module_version": "2.0.0",
      "model_name": "FloatProgressModel",
      "state": {
       "bar_style": "info",
       "description": "0.6327",
       "layout": "IPY_MODEL_b53a0e9c60c648d8853752a508e8d852",
       "max": 1,
       "style": "IPY_MODEL_66380893c8154d0b90cb13000d0aafea",
       "value": 0.6326923076923077
      }
     },
     "72305c07fe6840589f18c26bcce47940": {
      "model_module": "@jupyter-widgets/controls",
      "model_module_version": "2.0.0",
      "model_name": "LabelModel",
      "state": {
       "layout": "IPY_MODEL_78866158d96b4c52bb67c4fcb37f9551",
       "style": "IPY_MODEL_d36699c61c944f518a0840554a39b8ee",
       "value": "Diamondback Women's Serene Classic Comfort Bi"
      }
     },
     "72728fb6b72c438baead537a5d7c677e": {
      "model_module": "@jupyter-widgets/controls",
      "model_module_version": "2.0.0",
      "model_name": "FloatProgressModel",
      "state": {
       "bar_style": "info",
       "description": "0.5670",
       "layout": "IPY_MODEL_a6e334327db1422aa30c738e5f362693",
       "max": 1,
       "style": "IPY_MODEL_3cb0a1ad051242a4bb9c801753100572",
       "value": 0.5670498084291187
      }
     },
     "73225c30513e42fca96aadd13ada15d3": {
      "model_module": "@jupyter-widgets/base",
      "model_module_version": "2.0.0",
      "model_name": "LayoutModel",
      "state": {}
     },
     "73c70143092d460e8ef99e67f4d69174": {
      "model_module": "@jupyter-widgets/controls",
      "model_module_version": "2.0.0",
      "model_name": "ProgressStyleModel",
      "state": {
       "description_width": ""
      }
     },
     "73df95c125a24cbcaef4620c5112ff63": {
      "model_module": "@jupyter-widgets/base",
      "model_module_version": "2.0.0",
      "model_name": "LayoutModel",
      "state": {}
     },
     "73e1480f79c740fc807b9c59e4d43d62": {
      "model_module": "@jupyter-widgets/controls",
      "model_module_version": "2.0.0",
      "model_name": "LabelStyleModel",
      "state": {
       "description_width": "",
       "font_family": null,
       "font_size": null,
       "font_style": null,
       "font_variant": null,
       "font_weight": null,
       "text_color": null,
       "text_decoration": null
      }
     },
     "74303110d31d45a1939cf82606fdc9e6": {
      "model_module": "@jupyter-widgets/base",
      "model_module_version": "2.0.0",
      "model_name": "LayoutModel",
      "state": {}
     },
     "74683fb1fe1e4000860ab94346f6659c": {
      "model_module": "@jupyter-widgets/controls",
      "model_module_version": "2.0.0",
      "model_name": "FloatProgressModel",
      "state": {
       "bar_style": "info",
       "description": "0.3985",
       "layout": "IPY_MODEL_f9841149a9814e23919600692882bdd5",
       "max": 1,
       "style": "IPY_MODEL_75c537080d1940689b6eedce91a97772",
       "value": 0.39846743295019155
      }
     },
     "74754b3a285a48fe81b4029234f54533": {
      "model_module": "@jupyter-widgets/controls",
      "model_module_version": "2.0.0",
      "model_name": "FloatProgressModel",
      "state": {
       "bar_style": "info",
       "description": "0.4617",
       "layout": "IPY_MODEL_05032f94367845de97b778deacad15ee",
       "max": 1,
       "style": "IPY_MODEL_0cea4d6e636f4b33ab390c44681e56c1",
       "value": 0.4616858237547892
      }
     },
     "7490c2d6bb39456ca3103aafbaf0150f": {
      "model_module": "@jupyter-widgets/controls",
      "model_module_version": "2.0.0",
      "model_name": "LabelModel",
      "state": {
       "layout": "IPY_MODEL_3c2db3b46800438c9178f0bc5a059279",
       "style": "IPY_MODEL_c534cbf69b59493cbad646b599c227d8",
       "value": "Pelican Sunstream 100 Kayak"
      }
     },
     "74966b112de04371b9aa04cff007c53e": {
      "model_module": "@jupyter-widgets/controls",
      "model_module_version": "2.0.0",
      "model_name": "LabelStyleModel",
      "state": {
       "description_width": "",
       "font_family": null,
       "font_size": null,
       "font_style": null,
       "font_variant": null,
       "font_weight": null,
       "text_color": null,
       "text_decoration": null
      }
     },
     "749ee7ec0c33442b8efaba6e94273869": {
      "model_module": "@jupyter-widgets/base",
      "model_module_version": "2.0.0",
      "model_name": "LayoutModel",
      "state": {}
     },
     "74de79d4989a4acdafdb1dd98a53fdf2": {
      "model_module": "@jupyter-widgets/base",
      "model_module_version": "2.0.0",
      "model_name": "LayoutModel",
      "state": {}
     },
     "74f5e98458b64531ab2aec67d2adec32": {
      "model_module": "@jupyter-widgets/controls",
      "model_module_version": "2.0.0",
      "model_name": "LabelModel",
      "state": {
       "layout": "IPY_MODEL_442eb18455ea4a58aab6a629b894ceb3",
       "style": "IPY_MODEL_b276bed3eede41bea9c66591d75165f5",
       "value": "Nike Men's CJ Elite 2 TD Football Cleat"
      }
     },
     "75643eb1d6514a4592169fdef0550390": {
      "model_module": "@jupyter-widgets/controls",
      "model_module_version": "2.0.0",
      "model_name": "LabelStyleModel",
      "state": {
       "description_width": "",
       "font_family": null,
       "font_size": null,
       "font_style": null,
       "font_variant": null,
       "font_weight": null,
       "text_color": null,
       "text_decoration": null
      }
     },
     "75a40ec0085d4b78a8d5ac95f31274a0": {
      "model_module": "@jupyter-widgets/controls",
      "model_module_version": "2.0.0",
      "model_name": "LabelStyleModel",
      "state": {
       "description_width": "",
       "font_family": null,
       "font_size": null,
       "font_style": null,
       "font_variant": null,
       "font_weight": null,
       "text_color": null,
       "text_decoration": null
      }
     },
     "75c537080d1940689b6eedce91a97772": {
      "model_module": "@jupyter-widgets/controls",
      "model_module_version": "2.0.0",
      "model_name": "ProgressStyleModel",
      "state": {
       "description_width": ""
      }
     },
     "767cbe3c92054436b6b3c73438c9c524": {
      "model_module": "@jupyter-widgets/base",
      "model_module_version": "2.0.0",
      "model_name": "LayoutModel",
      "state": {}
     },
     "775ec0d1878c4aab8d22122013918776": {
      "model_module": "@jupyter-widgets/controls",
      "model_module_version": "2.0.0",
      "model_name": "LabelStyleModel",
      "state": {
       "description_width": "",
       "font_family": null,
       "font_size": null,
       "font_style": null,
       "font_variant": null,
       "font_weight": null,
       "text_color": null,
       "text_decoration": null
      }
     },
     "77aec9b0f61c4b539c6846eae68503e6": {
      "model_module": "@jupyter-widgets/controls",
      "model_module_version": "2.0.0",
      "model_name": "ProgressStyleModel",
      "state": {
       "description_width": ""
      }
     },
     "77c939734d1d4c63a1588d16ece9731f": {
      "model_module": "@jupyter-widgets/controls",
      "model_module_version": "2.0.0",
      "model_name": "ProgressStyleModel",
      "state": {
       "description_width": ""
      }
     },
     "78866158d96b4c52bb67c4fcb37f9551": {
      "model_module": "@jupyter-widgets/base",
      "model_module_version": "2.0.0",
      "model_name": "LayoutModel",
      "state": {}
     },
     "789834fb9e6649479530b2b3b2fb94aa": {
      "model_module": "@jupyter-widgets/controls",
      "model_module_version": "2.0.0",
      "model_name": "LabelModel",
      "state": {
       "layout": "IPY_MODEL_ac2307b3098847a79600027f5666dd2d",
       "style": "IPY_MODEL_5dc1372f7ee94e22a5baa21fcd535b92",
       "value": "Pelican Sunstream 100 Kayak"
      }
     },
     "78bfb61196c14846bec4ff070540b7de": {
      "model_module": "@jupyter-widgets/controls",
      "model_module_version": "2.0.0",
      "model_name": "LabelStyleModel",
      "state": {
       "description_width": "",
       "font_family": null,
       "font_size": null,
       "font_style": null,
       "font_variant": null,
       "font_weight": null,
       "text_color": null,
       "text_decoration": null
      }
     },
     "78e057319d944b13976253c37b1618f8": {
      "model_module": "@jupyter-widgets/controls",
      "model_module_version": "2.0.0",
      "model_name": "LabelModel",
      "state": {
       "layout": "IPY_MODEL_354907c89b504d928041d874b6f70b1a",
       "style": "IPY_MODEL_bdff21ddcece4d3a9d07812c566e210c",
       "value": "Diamondback Women's Serene Classic Comfort Bi"
      }
     },
     "795e4607f21642dfaa30092b405d3fd0": {
      "model_module": "@jupyter-widgets/base",
      "model_module_version": "2.0.0",
      "model_name": "LayoutModel",
      "state": {}
     },
     "7a2650c91829413d99f59b09e4c56849": {
      "model_module": "@jupyter-widgets/controls",
      "model_module_version": "2.0.0",
      "model_name": "ProgressStyleModel",
      "state": {
       "description_width": ""
      }
     },
     "7a35c5f41f3647e29a25e660c756a5ed": {
      "model_module": "@jupyter-widgets/controls",
      "model_module_version": "2.0.0",
      "model_name": "LabelModel",
      "state": {
       "layout": "IPY_MODEL_551d67172a8a4556b23130398ab44e73",
       "style": "IPY_MODEL_c59c2e5151594352a120dfc046cb9010",
       "value": "Nike Men's CJ Elite 2 TD Football Cleat"
      }
     },
     "7a7639d9cd0d4d5491cb5dbbc8432efd": {
      "model_module": "@jupyter-widgets/base",
      "model_module_version": "2.0.0",
      "model_name": "LayoutModel",
      "state": {}
     },
     "7aadd6482fc54a48a65d7d4b0cc8c951": {
      "model_module": "@jupyter-widgets/controls",
      "model_module_version": "2.0.0",
      "model_name": "FloatProgressModel",
      "state": {
       "bar_style": "info",
       "description": "0.3276",
       "layout": "IPY_MODEL_fab6e0a83bab40f08978459fd5e548b6",
       "max": 1,
       "style": "IPY_MODEL_f81043be046040d497b8e94e817d9e76",
       "value": 0.3275862068965517
      }
     },
     "7abae4f79beb448985970fdad57a9f5d": {
      "model_module": "@jupyter-widgets/controls",
      "model_module_version": "2.0.0",
      "model_name": "LabelStyleModel",
      "state": {
       "description_width": "",
       "font_family": null,
       "font_size": null,
       "font_style": null,
       "font_variant": null,
       "font_weight": null,
       "text_color": null,
       "text_decoration": null
      }
     },
     "7ac23f4afa86484dbe57d539f2356c02": {
      "model_module": "@jupyter-widgets/controls",
      "model_module_version": "2.0.0",
      "model_name": "LabelModel",
      "state": {
       "layout": "IPY_MODEL_466558c92a6f4c52bab8ef56cc1acb4c",
       "style": "IPY_MODEL_fdfd91a4491643609821616fdafa8b20",
       "value": "Nike Men's CJ Elite 2 TD Football Cleat"
      }
     },
     "7b881c01f29b48a095dc19dfe2d5ca77": {
      "model_module": "@jupyter-widgets/controls",
      "model_module_version": "2.0.0",
      "model_name": "LabelModel",
      "state": {
       "layout": "IPY_MODEL_288dfacec7c94bcf81d35da18a2f57cf",
       "style": "IPY_MODEL_e0a60727617f4f39bc0bb409f52f2719",
       "value": "Nike Men's CJ Elite 2 TD Football Cleat"
      }
     },
     "7b8eee629b3d4715bc9613d132e9f35d": {
      "model_module": "@jupyter-widgets/controls",
      "model_module_version": "2.0.0",
      "model_name": "LabelModel",
      "state": {
       "layout": "IPY_MODEL_0ea830d11d7d43478757a83fd0c3d0ba",
       "style": "IPY_MODEL_8dbc54f1cf9d4c568b134c35419f2378",
       "value": "Pelican Sunstream 100 Kayak"
      }
     },
     "7bc25877c648466d8b5f5c793c464309": {
      "model_module": "@jupyter-widgets/controls",
      "model_module_version": "2.0.0",
      "model_name": "LabelModel",
      "state": {
       "layout": "IPY_MODEL_2bc43fc6a4d646e9b71949a8575c5d2d",
       "style": "IPY_MODEL_b0197d6c1eb644f098a65e1c4f992e6b",
       "value": "Field & Stream Sportsman 16 Gun Fire Safe"
      }
     },
     "7bc4b6af4d2341299a05a9ebc4be737e": {
      "model_module": "@jupyter-widgets/controls",
      "model_module_version": "2.0.0",
      "model_name": "LabelStyleModel",
      "state": {
       "description_width": "",
       "font_family": null,
       "font_size": null,
       "font_style": null,
       "font_variant": null,
       "font_weight": null,
       "text_color": null,
       "text_decoration": null
      }
     },
     "7c1d9371553a4fcd8bed1f1a0e067de4": {
      "model_module": "@jupyter-widgets/controls",
      "model_module_version": "2.0.0",
      "model_name": "FloatProgressModel",
      "state": {
       "bar_style": "info",
       "description": "0.5670",
       "layout": "IPY_MODEL_8343bc235c1f416da61440d41ac024d6",
       "max": 1,
       "style": "IPY_MODEL_a8d5f1c04b8948b28320e06fc0fc55d8",
       "value": 0.5670498084291187
      }
     },
     "7c7bf908589549aba861c3a1b68f8fae": {
      "model_module": "@jupyter-widgets/base",
      "model_module_version": "2.0.0",
      "model_name": "LayoutModel",
      "state": {}
     },
     "7e278f270709400ca37e3a0d8e531890": {
      "model_module": "@jupyter-widgets/controls",
      "model_module_version": "2.0.0",
      "model_name": "FloatProgressModel",
      "state": {
       "bar_style": "info",
       "description": "0.4635",
       "layout": "IPY_MODEL_c00f98f0fe6b42f6960dc01a7fd8c30e",
       "max": 1,
       "style": "IPY_MODEL_6b82aed47eba492e9acaa45d17c825d4",
       "value": 0.4634615384615384
      }
     },
     "7f3388fdae004d14a21156d76cd0390f": {
      "model_module": "@jupyter-widgets/controls",
      "model_module_version": "2.0.0",
      "model_name": "LabelStyleModel",
      "state": {
       "description_width": "",
       "font_family": null,
       "font_size": null,
       "font_style": null,
       "font_variant": null,
       "font_weight": null,
       "text_color": null,
       "text_decoration": null
      }
     },
     "7f6aa0699892445a9db43318ab316d01": {
      "model_module": "@jupyter-widgets/controls",
      "model_module_version": "2.0.0",
      "model_name": "ProgressStyleModel",
      "state": {
       "description_width": ""
      }
     },
     "8040964e9ef748968352f530fb8118f0": {
      "model_module": "@jupyter-widgets/base",
      "model_module_version": "2.0.0",
      "model_name": "LayoutModel",
      "state": {}
     },
     "809385ebe3da4f65bfd384655b19ea19": {
      "model_module": "@jupyter-widgets/base",
      "model_module_version": "2.0.0",
      "model_name": "LayoutModel",
      "state": {}
     },
     "80a828e2e82e4664ad133e7f133a8a63": {
      "model_module": "@jupyter-widgets/controls",
      "model_module_version": "2.0.0",
      "model_name": "FloatProgressModel",
      "state": {
       "bar_style": "info",
       "description": "0.5346",
       "layout": "IPY_MODEL_eaa87b32065b41b992ec587642ed7ab6",
       "max": 1,
       "style": "IPY_MODEL_ebbd60279f25497c902af00160823ce2",
       "value": 0.5346153846153846
      }
     },
     "80d540efd2b6497bb754e40f9dae38d8": {
      "model_module": "@jupyter-widgets/controls",
      "model_module_version": "2.0.0",
      "model_name": "ProgressStyleModel",
      "state": {
       "description_width": ""
      }
     },
     "80eeabdf908645be9ca288d88a468434": {
      "model_module": "@jupyter-widgets/controls",
      "model_module_version": "2.0.0",
      "model_name": "LabelStyleModel",
      "state": {
       "description_width": "",
       "font_family": null,
       "font_size": null,
       "font_style": null,
       "font_variant": null,
       "font_weight": null,
       "text_color": null,
       "text_decoration": null
      }
     },
     "80f5c1bc82a047aa952862df4b25be32": {
      "model_module": "@jupyter-widgets/controls",
      "model_module_version": "2.0.0",
      "model_name": "FloatProgressModel",
      "state": {
       "bar_style": "info",
       "description": "0.4310",
       "layout": "IPY_MODEL_1be7c6171e6b449c8e9bf9f1a130dca7",
       "max": 1,
       "style": "IPY_MODEL_7f6aa0699892445a9db43318ab316d01",
       "value": 0.43103448275862066
      }
     },
     "818cf1a7ef1444da990acfc435efd519": {
      "model_module": "@jupyter-widgets/base",
      "model_module_version": "2.0.0",
      "model_name": "LayoutModel",
      "state": {}
     },
     "81c300da7c914f5982758d562e94e96f": {
      "model_module": "@jupyter-widgets/controls",
      "model_module_version": "2.0.0",
      "model_name": "FloatProgressModel",
      "state": {
       "bar_style": "info",
       "description": "0.5326",
       "layout": "IPY_MODEL_1fc2d4a6ad4140549807cfd3eb591928",
       "max": 1,
       "style": "IPY_MODEL_9dc0feed39484a3b96e882e0299aa447",
       "value": 0.5325670498084292
      }
     },
     "82485aea24aa47e7aa468b7d0c78986b": {
      "model_module": "@jupyter-widgets/controls",
      "model_module_version": "2.0.0",
      "model_name": "ProgressStyleModel",
      "state": {
       "description_width": ""
      }
     },
     "82844b54a4a64fb98950dba4aedefd37": {
      "model_module": "@jupyter-widgets/controls",
      "model_module_version": "2.0.0",
      "model_name": "ProgressStyleModel",
      "state": {
       "description_width": ""
      }
     },
     "8343bc235c1f416da61440d41ac024d6": {
      "model_module": "@jupyter-widgets/base",
      "model_module_version": "2.0.0",
      "model_name": "LayoutModel",
      "state": {}
     },
     "835df3db66e84da2b6dc4924628eec02": {
      "model_module": "@jupyter-widgets/base",
      "model_module_version": "2.0.0",
      "model_name": "LayoutModel",
      "state": {}
     },
     "8371961d4d034aadbd1025716a8545f5": {
      "model_module": "@jupyter-widgets/base",
      "model_module_version": "2.0.0",
      "model_name": "LayoutModel",
      "state": {}
     },
     "837326944a6142baa2b260c1ba95261a": {
      "model_module": "@jupyter-widgets/base",
      "model_module_version": "2.0.0",
      "model_name": "LayoutModel",
      "state": {}
     },
     "84284bb6b1a34bf293b5eb8265d2c4c3": {
      "model_module": "@jupyter-widgets/controls",
      "model_module_version": "2.0.0",
      "model_name": "LabelStyleModel",
      "state": {
       "description_width": "",
       "font_family": null,
       "font_size": null,
       "font_style": null,
       "font_variant": null,
       "font_weight": null,
       "text_color": null,
       "text_decoration": null
      }
     },
     "84774b24d33e455b8d628515a7062491": {
      "model_module": "@jupyter-widgets/controls",
      "model_module_version": "2.0.0",
      "model_name": "LabelStyleModel",
      "state": {
       "description_width": "",
       "font_family": null,
       "font_size": null,
       "font_style": null,
       "font_variant": null,
       "font_weight": null,
       "text_color": null,
       "text_decoration": null
      }
     },
     "85016222c3c1465b9b07a37503b4517b": {
      "model_module": "@jupyter-widgets/controls",
      "model_module_version": "2.0.0",
      "model_name": "ProgressStyleModel",
      "state": {
       "description_width": ""
      }
     },
     "850bc59aa95f4095a73c44eda4cae57c": {
      "model_module": "@jupyter-widgets/controls",
      "model_module_version": "2.0.0",
      "model_name": "LabelModel",
      "state": {
       "layout": "IPY_MODEL_c37a48f1883849c884211dc0a4793180",
       "style": "IPY_MODEL_cbc5e7981f2747649d0f30f5250d394e",
       "value": "Nike Men's CJ Elite 2 TD Football Cleat"
      }
     },
     "851f826607024741aea667e8619990e3": {
      "model_module": "@jupyter-widgets/base",
      "model_module_version": "2.0.0",
      "model_name": "LayoutModel",
      "state": {}
     },
     "85314e0dab674ce3b8a3b62730bb453a": {
      "model_module": "@jupyter-widgets/controls",
      "model_module_version": "2.0.0",
      "model_name": "FloatProgressModel",
      "state": {
       "bar_style": "info",
       "description": "0.4617",
       "layout": "IPY_MODEL_ffc9781d2bc94d6486c02a5ea9796640",
       "max": 1,
       "style": "IPY_MODEL_06c5fe3e75264bc881bb9fd2dc6dea5c",
       "value": 0.4616858237547892
      }
     },
     "85dd93ed023146618c61daba2838a665": {
      "model_module": "@jupyter-widgets/base",
      "model_module_version": "2.0.0",
      "model_name": "LayoutModel",
      "state": {}
     },
     "862456a31e564ff3a40722ab45312998": {
      "model_module": "@jupyter-widgets/base",
      "model_module_version": "2.0.0",
      "model_name": "LayoutModel",
      "state": {}
     },
     "863ef5701cb540119797bcf54aa1833d": {
      "model_module": "@jupyter-widgets/base",
      "model_module_version": "2.0.0",
      "model_name": "LayoutModel",
      "state": {}
     },
     "868c104e1fc24b2b8e3de5be6b9c4883": {
      "model_module": "@jupyter-widgets/base",
      "model_module_version": "2.0.0",
      "model_name": "LayoutModel",
      "state": {}
     },
     "86cfecbeb6c0401db17c1ca1d98b3514": {
      "model_module": "@jupyter-widgets/base",
      "model_module_version": "2.0.0",
      "model_name": "LayoutModel",
      "state": {}
     },
     "86e92b2dc8b94db3a14a53ba084fb5f1": {
      "model_module": "@jupyter-widgets/controls",
      "model_module_version": "2.0.0",
      "model_name": "LabelModel",
      "state": {
       "layout": "IPY_MODEL_461b2f8cb48647518aa4a1ee88511bb8",
       "style": "IPY_MODEL_c4b0c513f09e4fe19040e689cc8d248d",
       "value": "Field & Stream Sportsman 16 Gun Fire Safe"
      }
     },
     "86e9d8e925e34fe3ad742efff824a46c": {
      "model_module": "@jupyter-widgets/controls",
      "model_module_version": "2.0.0",
      "model_name": "FloatProgressModel",
      "state": {
       "bar_style": "info",
       "description": "0.4250",
       "layout": "IPY_MODEL_b6b09878efcb41b2a7b12df270625493",
       "max": 1,
       "style": "IPY_MODEL_b63b8964be3a46fb9c5160ab89f79858",
       "value": 0.425
      }
     },
     "86f31d182d434696aae07710dd40e47d": {
      "model_module": "@jupyter-widgets/base",
      "model_module_version": "2.0.0",
      "model_name": "LayoutModel",
      "state": {}
     },
     "8706f5792cd149d2b73da1401b9e94b6": {
      "model_module": "@jupyter-widgets/controls",
      "model_module_version": "2.0.0",
      "model_name": "FloatProgressModel",
      "state": {
       "bar_style": "info",
       "description": "0.5326",
       "layout": "IPY_MODEL_3f65d078d29a4701b16b3f8090b908ec",
       "max": 1,
       "style": "IPY_MODEL_80d540efd2b6497bb754e40f9dae38d8",
       "value": 0.5325670498084292
      }
     },
     "8748430183a74542839946069a56c33b": {
      "model_module": "@jupyter-widgets/controls",
      "model_module_version": "2.0.0",
      "model_name": "FloatProgressModel",
      "state": {
       "bar_style": "info",
       "description": "0.5670",
       "layout": "IPY_MODEL_795e4607f21642dfaa30092b405d3fd0",
       "max": 1,
       "style": "IPY_MODEL_52a57e27904f44c0a8a601c891906fd4",
       "value": 0.5670498084291187
      }
     },
     "889c4142d2ca4b52977e78d6e399763f": {
      "model_module": "@jupyter-widgets/base",
      "model_module_version": "2.0.0",
      "model_name": "LayoutModel",
      "state": {}
     },
     "89017d6c238e4f05b8ee27cbfe6bbefc": {
      "model_module": "@jupyter-widgets/controls",
      "model_module_version": "2.0.0",
      "model_name": "FloatProgressModel",
      "state": {
       "bar_style": "info",
       "description": "0.5556",
       "layout": "IPY_MODEL_3d875daf69f541e4b05117419ea5a566",
       "max": 1,
       "style": "IPY_MODEL_357f2fd4342845d6b271019aa58a80c8",
       "value": 0.5555555555555555
      }
     },
     "89b6fee87b47416ca9e8b3d13bbf0715": {
      "model_module": "@jupyter-widgets/base",
      "model_module_version": "2.0.0",
      "model_name": "LayoutModel",
      "state": {}
     },
     "8a34b52a456c4984a6507aa38c7c4fbd": {
      "model_module": "@jupyter-widgets/base",
      "model_module_version": "2.0.0",
      "model_name": "LayoutModel",
      "state": {}
     },
     "8a713dcc157d4bffadbc98a64257a6ce": {
      "model_module": "@jupyter-widgets/base",
      "model_module_version": "2.0.0",
      "model_name": "LayoutModel",
      "state": {}
     },
     "8aaaa8048cc546e8b3fb75b0a6ad4ffd": {
      "model_module": "@jupyter-widgets/base",
      "model_module_version": "2.0.0",
      "model_name": "LayoutModel",
      "state": {}
     },
     "8bff9efefbf94634a121ca713d852001": {
      "model_module": "@jupyter-widgets/controls",
      "model_module_version": "2.0.0",
      "model_name": "LabelModel",
      "state": {
       "layout": "IPY_MODEL_868c104e1fc24b2b8e3de5be6b9c4883",
       "style": "IPY_MODEL_c21193a803bb475a9f4b140ce6215586",
       "value": "Perfect Fitness Perfect Rip Deck"
      }
     },
     "8c40e0e0edc24115a1d2eb0ca62ae06d": {
      "model_module": "@jupyter-widgets/base",
      "model_module_version": "2.0.0",
      "model_name": "LayoutModel",
      "state": {}
     },
     "8c63461dbe4a441498bed5b29e9c5bfa": {
      "model_module": "@jupyter-widgets/base",
      "model_module_version": "2.0.0",
      "model_name": "LayoutModel",
      "state": {}
     },
     "8c7824063ed445699f52e3b0710601de": {
      "model_module": "@jupyter-widgets/controls",
      "model_module_version": "2.0.0",
      "model_name": "LabelStyleModel",
      "state": {
       "description_width": "",
       "font_family": null,
       "font_size": null,
       "font_style": null,
       "font_variant": null,
       "font_weight": null,
       "text_color": null,
       "text_decoration": null
      }
     },
     "8ca52d74b0064be3a346bbec92928d03": {
      "model_module": "@jupyter-widgets/base",
      "model_module_version": "2.0.0",
      "model_name": "LayoutModel",
      "state": {}
     },
     "8cc54be083e748889556ef967bda1d80": {
      "model_module": "@jupyter-widgets/base",
      "model_module_version": "2.0.0",
      "model_name": "LayoutModel",
      "state": {}
     },
     "8da0503351bf40be9b8d35cb8f4249c3": {
      "model_module": "@jupyter-widgets/controls",
      "model_module_version": "2.0.0",
      "model_name": "LabelStyleModel",
      "state": {
       "description_width": "",
       "font_family": null,
       "font_size": null,
       "font_style": null,
       "font_variant": null,
       "font_weight": null,
       "text_color": null,
       "text_decoration": null
      }
     },
     "8dbc54f1cf9d4c568b134c35419f2378": {
      "model_module": "@jupyter-widgets/controls",
      "model_module_version": "2.0.0",
      "model_name": "LabelStyleModel",
      "state": {
       "description_width": "",
       "font_family": null,
       "font_size": null,
       "font_style": null,
       "font_variant": null,
       "font_weight": null,
       "text_color": null,
       "text_decoration": null
      }
     },
     "8e062b5560b84a32bfe05a8ab5918969": {
      "model_module": "@jupyter-widgets/controls",
      "model_module_version": "2.0.0",
      "model_name": "LabelModel",
      "state": {
       "layout": "IPY_MODEL_cc80f696a56d4af9af87614b94382fad",
       "style": "IPY_MODEL_7bc4b6af4d2341299a05a9ebc4be737e",
       "value": "O'Brien Men's Neoprene Life Vest"
      }
     },
     "8e0e423b11f343c18135a04085d7f77e": {
      "model_module": "@jupyter-widgets/controls",
      "model_module_version": "2.0.0",
      "model_name": "LabelModel",
      "state": {
       "layout": "IPY_MODEL_27be34e6ccb44425be83de8cec1d1cd7",
       "style": "IPY_MODEL_78bfb61196c14846bec4ff070540b7de",
       "value": "Perfect Fitness Perfect Rip Deck"
      }
     },
     "8e1bfe9e4fea4fd9b60a3c1fda7f7b79": {
      "model_module": "@jupyter-widgets/controls",
      "model_module_version": "2.0.0",
      "model_name": "ProgressStyleModel",
      "state": {
       "description_width": ""
      }
     },
     "8e43e17f771f4211b2557db5c10883c1": {
      "model_module": "@jupyter-widgets/controls",
      "model_module_version": "2.0.0",
      "model_name": "ProgressStyleModel",
      "state": {
       "description_width": ""
      }
     },
     "8e5154b97f48450781b2b2f6d939bca6": {
      "model_module": "@jupyter-widgets/controls",
      "model_module_version": "2.0.0",
      "model_name": "LabelStyleModel",
      "state": {
       "description_width": "",
       "font_family": null,
       "font_size": null,
       "font_style": null,
       "font_variant": null,
       "font_weight": null,
       "text_color": null,
       "text_decoration": null
      }
     },
     "8e76c9402a994a97a7a0e39937ebd01b": {
      "model_module": "@jupyter-widgets/controls",
      "model_module_version": "2.0.0",
      "model_name": "ProgressStyleModel",
      "state": {
       "description_width": ""
      }
     },
     "8e82858d437d4442b563f31eeb507aef": {
      "model_module": "@jupyter-widgets/controls",
      "model_module_version": "2.0.0",
      "model_name": "LabelStyleModel",
      "state": {
       "description_width": "",
       "font_family": null,
       "font_size": null,
       "font_style": null,
       "font_variant": null,
       "font_weight": null,
       "text_color": null,
       "text_decoration": null
      }
     },
     "8e89b6a01c2844f48b5d86b5cabb7a00": {
      "model_module": "@jupyter-widgets/controls",
      "model_module_version": "2.0.0",
      "model_name": "ProgressStyleModel",
      "state": {
       "description_width": ""
      }
     },
     "8ef0189f26f74256ba01017b0d63200a": {
      "model_module": "@jupyter-widgets/controls",
      "model_module_version": "2.0.0",
      "model_name": "FloatProgressModel",
      "state": {
       "bar_style": "info",
       "description": "0.4310",
       "layout": "IPY_MODEL_3348307b2f4f4aa9807e9343f2afb31a",
       "max": 1,
       "style": "IPY_MODEL_5f4b49c3f7ee4267bb83955d95db8ac2",
       "value": 0.43103448275862066
      }
     },
     "8f76fee9a4a448aa968ec63feaf5f39c": {
      "model_module": "@jupyter-widgets/controls",
      "model_module_version": "2.0.0",
      "model_name": "LabelModel",
      "state": {
       "layout": "IPY_MODEL_43c014274365455caabb3491ef4ecd7a",
       "style": "IPY_MODEL_f2b0a7a2d7484cec949251fb746014a3",
       "value": "O'Brien Men's Neoprene Life Vest"
      }
     },
     "906c5bcbd9d04840af285475ca63ece7": {
      "model_module": "@jupyter-widgets/controls",
      "model_module_version": "2.0.0",
      "model_name": "FloatProgressModel",
      "state": {
       "bar_style": "info",
       "description": "0.4310",
       "layout": "IPY_MODEL_dd6ee73052c84fbdb6c1bb5d25cf854d",
       "max": 1,
       "style": "IPY_MODEL_35320677d0ba4d5db2ca0389a697ab4e",
       "value": 0.43103448275862066
      }
     },
     "92192b3f37c84d739249aadd807c7594": {
      "model_module": "@jupyter-widgets/controls",
      "model_module_version": "2.0.0",
      "model_name": "FloatProgressModel",
      "state": {
       "bar_style": "info",
       "description": "0.4310",
       "layout": "IPY_MODEL_193003130c3a43399bee49db52123c51",
       "max": 1,
       "style": "IPY_MODEL_2bf3d28e032c48c592a7b9312707e035",
       "value": 0.43103448275862066
      }
     },
     "922eaedd1e9441c283e3f9d6b6f573f3": {
      "model_module": "@jupyter-widgets/base",
      "model_module_version": "2.0.0",
      "model_name": "LayoutModel",
      "state": {}
     },
     "9242f274aaee41e6b0f33ea8d430a70b": {
      "model_module": "@jupyter-widgets/base",
      "model_module_version": "2.0.0",
      "model_name": "LayoutModel",
      "state": {}
     },
     "932c63e552644a1593d9ea8fe2fefc4f": {
      "model_module": "@jupyter-widgets/controls",
      "model_module_version": "2.0.0",
      "model_name": "LabelStyleModel",
      "state": {
       "description_width": "",
       "font_family": null,
       "font_size": null,
       "font_style": null,
       "font_variant": null,
       "font_weight": null,
       "text_color": null,
       "text_decoration": null
      }
     },
     "934b5c661c154c39be8ee51f757e301b": {
      "model_module": "@jupyter-widgets/base",
      "model_module_version": "2.0.0",
      "model_name": "LayoutModel",
      "state": {}
     },
     "93d9936896aa41ccb356ca534f463939": {
      "model_module": "@jupyter-widgets/base",
      "model_module_version": "2.0.0",
      "model_name": "LayoutModel",
      "state": {}
     },
     "94e0d0e89b8f4f5c9738e8ec6c02efd5": {
      "model_module": "@jupyter-widgets/controls",
      "model_module_version": "2.0.0",
      "model_name": "LabelModel",
      "state": {
       "layout": "IPY_MODEL_9d03a80a137f4dde9c926fc4c9a10648",
       "style": "IPY_MODEL_2e6b7dca557f4f7ea469019298a11b48",
       "value": "Pelican Sunstream 100 Kayak"
      }
     },
     "94f6051eb652490f9b9f03c079a93418": {
      "model_module": "@jupyter-widgets/controls",
      "model_module_version": "2.0.0",
      "model_name": "LabelModel",
      "state": {
       "layout": "IPY_MODEL_af424e90bbc64b41b9c550bd32fc256c",
       "style": "IPY_MODEL_16e011f1ced34d44bb992aa1c88d96c3",
       "value": "Diamondback Women's Serene Classic Comfort Bi"
      }
     },
     "9506893b147846fb8a8835c282cbff5c": {
      "model_module": "@jupyter-widgets/base",
      "model_module_version": "2.0.0",
      "model_name": "LayoutModel",
      "state": {}
     },
     "951fd5544db641c28dae65b55ae99d6c": {
      "model_module": "@jupyter-widgets/base",
      "model_module_version": "2.0.0",
      "model_name": "LayoutModel",
      "state": {}
     },
     "9521a6428d4942bbb8d0fe31f735d60e": {
      "model_module": "@jupyter-widgets/controls",
      "model_module_version": "2.0.0",
      "model_name": "FloatProgressModel",
      "state": {
       "bar_style": "info",
       "description": "0.4635",
       "layout": "IPY_MODEL_6ba89ec1b4614a98b74617da85c8be28",
       "max": 1,
       "style": "IPY_MODEL_56ffdee1d1ff4bef90c029edfc57ad17",
       "value": 0.4634615384615384
      }
     },
     "952ee8e7713b466c9820c675e2842376": {
      "model_module": "@jupyter-widgets/controls",
      "model_module_version": "2.0.0",
      "model_name": "ProgressStyleModel",
      "state": {
       "description_width": ""
      }
     },
     "953790e6bb5a49aa9b1d09835499f723": {
      "model_module": "@jupyter-widgets/base",
      "model_module_version": "2.0.0",
      "model_name": "LayoutModel",
      "state": {}
     },
     "966a061ca3cb4ad1991cf5eba5babe13": {
      "model_module": "@jupyter-widgets/base",
      "model_module_version": "2.0.0",
      "model_name": "LayoutModel",
      "state": {}
     },
     "967bbe8de6bd4b70b53ce670544a8d21": {
      "model_module": "@jupyter-widgets/controls",
      "model_module_version": "2.0.0",
      "model_name": "LabelModel",
      "state": {
       "layout": "IPY_MODEL_f80da5ecfe094ecc99f7ef670c5fc87d",
       "style": "IPY_MODEL_6aa3fa0edf3b42d5ae53aa9ebe9c3115",
       "value": "Field & Stream Sportsman 16 Gun Fire Safe"
      }
     },
     "96b33e01cebf487fb2ec57e068d4dd1f": {
      "model_module": "@jupyter-widgets/base",
      "model_module_version": "2.0.0",
      "model_name": "LayoutModel",
      "state": {}
     },
     "96f54a16595b4754b0b538958c25473a": {
      "model_module": "@jupyter-widgets/controls",
      "model_module_version": "2.0.0",
      "model_name": "ProgressStyleModel",
      "state": {
       "description_width": ""
      }
     },
     "9722b280458548b9892be0f8ab09ec51": {
      "model_module": "@jupyter-widgets/base",
      "model_module_version": "2.0.0",
      "model_name": "LayoutModel",
      "state": {}
     },
     "97aa7ddf15bd4a63bee26ac26311a374": {
      "model_module": "@jupyter-widgets/controls",
      "model_module_version": "2.0.0",
      "model_name": "FloatProgressModel",
      "state": {
       "bar_style": "info",
       "description": "0.4617",
       "layout": "IPY_MODEL_3826d5d03d66447b8b3ab03add3ebcce",
       "max": 1,
       "style": "IPY_MODEL_3967d878bb774e42aa4b4d96aed8fd77",
       "value": 0.4616858237547892
      }
     },
     "98767590ce814e0bafb7b1e201cc1f82": {
      "model_module": "@jupyter-widgets/controls",
      "model_module_version": "2.0.0",
      "model_name": "HTMLStyleModel",
      "state": {
       "description_width": "",
       "font_size": null,
       "text_color": null
      }
     },
     "98ae6a9595c54a78a52234bb362db99d": {
      "model_module": "@jupyter-widgets/controls",
      "model_module_version": "2.0.0",
      "model_name": "LabelStyleModel",
      "state": {
       "description_width": "",
       "font_family": null,
       "font_size": null,
       "font_style": null,
       "font_variant": null,
       "font_weight": null,
       "text_color": null,
       "text_decoration": null
      }
     },
     "991c7d7123a2420a92d2be5837aad606": {
      "model_module": "@jupyter-widgets/controls",
      "model_module_version": "2.0.0",
      "model_name": "ProgressStyleModel",
      "state": {
       "description_width": ""
      }
     },
     "99ddc6fbb9df40b19be42c40b32bd6e1": {
      "model_module": "@jupyter-widgets/controls",
      "model_module_version": "2.0.0",
      "model_name": "LabelStyleModel",
      "state": {
       "description_width": "",
       "font_family": null,
       "font_size": null,
       "font_style": null,
       "font_variant": null,
       "font_weight": null,
       "text_color": null,
       "text_decoration": null
      }
     },
     "9a50b875e13846fa8ebe41707031c5d0": {
      "model_module": "@jupyter-widgets/controls",
      "model_module_version": "2.0.0",
      "model_name": "FloatProgressModel",
      "state": {
       "bar_style": "info",
       "description": "0.5326",
       "layout": "IPY_MODEL_fd8e7765eeb54441947b61330e310635",
       "max": 1,
       "style": "IPY_MODEL_63880db1c2674c59b62c036cf473190a",
       "value": 0.5325670498084292
      }
     },
     "9a7659ba85d14c4bb4ecce6965970cf8": {
      "model_module": "@jupyter-widgets/controls",
      "model_module_version": "2.0.0",
      "model_name": "LabelModel",
      "state": {
       "layout": "IPY_MODEL_f6010849664b4a9d9ac92a947ce3a14f",
       "style": "IPY_MODEL_b84b814e7df144d48d569cbd97631573",
       "value": "Field & Stream Sportsman 16 Gun Fire Safe"
      }
     },
     "9a909a55f6e44727badb9d7ebd659b49": {
      "model_module": "@jupyter-widgets/base",
      "model_module_version": "2.0.0",
      "model_name": "LayoutModel",
      "state": {}
     },
     "9b3a0e1e25f34bcfbff08a3837df1f8c": {
      "model_module": "@jupyter-widgets/controls",
      "model_module_version": "2.0.0",
      "model_name": "LabelStyleModel",
      "state": {
       "description_width": "",
       "font_family": null,
       "font_size": null,
       "font_style": null,
       "font_variant": null,
       "font_weight": null,
       "text_color": null,
       "text_decoration": null
      }
     },
     "9b80396adb814366a8d246dfe0e8774f": {
      "model_module": "@jupyter-widgets/base",
      "model_module_version": "2.0.0",
      "model_name": "LayoutModel",
      "state": {}
     },
     "9ba0874f8afe4de49628dec5a88f74fe": {
      "model_module": "@jupyter-widgets/base",
      "model_module_version": "2.0.0",
      "model_name": "LayoutModel",
      "state": {}
     },
     "9c48e4cd037f462e9294ae625e5a097c": {
      "model_module": "@jupyter-widgets/base",
      "model_module_version": "2.0.0",
      "model_name": "LayoutModel",
      "state": {}
     },
     "9c95a6f85a9d447791b67f4938fff3a7": {
      "model_module": "@jupyter-widgets/controls",
      "model_module_version": "2.0.0",
      "model_name": "ProgressStyleModel",
      "state": {
       "description_width": ""
      }
     },
     "9d03a80a137f4dde9c926fc4c9a10648": {
      "model_module": "@jupyter-widgets/base",
      "model_module_version": "2.0.0",
      "model_name": "LayoutModel",
      "state": {}
     },
     "9da5f440f6b842708a4d4ca0f6e0ea24": {
      "model_module": "@jupyter-widgets/controls",
      "model_module_version": "2.0.0",
      "model_name": "LabelModel",
      "state": {
       "layout": "IPY_MODEL_953790e6bb5a49aa9b1d09835499f723",
       "style": "IPY_MODEL_274b3156bc154d06a481db128d5d3df9",
       "value": "Pelican Sunstream 100 Kayak"
      }
     },
     "9dc0feed39484a3b96e882e0299aa447": {
      "model_module": "@jupyter-widgets/controls",
      "model_module_version": "2.0.0",
      "model_name": "ProgressStyleModel",
      "state": {
       "description_width": ""
      }
     },
     "9ddb962d999e430b8f907c037c9150de": {
      "model_module": "@jupyter-widgets/controls",
      "model_module_version": "2.0.0",
      "model_name": "FloatProgressModel",
      "state": {
       "bar_style": "info",
       "description": "0.5326",
       "layout": "IPY_MODEL_408c6614c84b4cb1aa1c2cb7b55da613",
       "max": 1,
       "style": "IPY_MODEL_adc4e958b6a04befbfe450203dd16579",
       "value": 0.5325670498084292
      }
     },
     "9e370042e9f8470e8a7a3c80704aa915": {
      "model_module": "@jupyter-widgets/controls",
      "model_module_version": "2.0.0",
      "model_name": "LabelStyleModel",
      "state": {
       "description_width": "",
       "font_family": null,
       "font_size": null,
       "font_style": null,
       "font_variant": null,
       "font_weight": null,
       "text_color": null,
       "text_decoration": null
      }
     },
     "9e6d57903d0846a2b42d98734d7cbf55": {
      "model_module": "@jupyter-widgets/base",
      "model_module_version": "2.0.0",
      "model_name": "LayoutModel",
      "state": {}
     },
     "9e9dbf3d8d3f469cb1477f952d00334d": {
      "model_module": "@jupyter-widgets/controls",
      "model_module_version": "2.0.0",
      "model_name": "LabelModel",
      "state": {
       "layout": "IPY_MODEL_a1707d94437946d78c1a5f01c6e3b2ac",
       "style": "IPY_MODEL_67a3229ffa33496c9c40678749ab1348",
       "value": "O'Brien Men's Neoprene Life Vest"
      }
     },
     "9ee4943bf0b843888889daaeea2c5ef0": {
      "model_module": "@jupyter-widgets/controls",
      "model_module_version": "2.0.0",
      "model_name": "ProgressStyleModel",
      "state": {
       "description_width": ""
      }
     },
     "9f0119c931cf4f4aaaeaf4ea09b1e265": {
      "model_module": "@jupyter-widgets/base",
      "model_module_version": "2.0.0",
      "model_name": "LayoutModel",
      "state": {}
     },
     "9fc2a0ac00dc4287a3ab2009084355f5": {
      "model_module": "@jupyter-widgets/controls",
      "model_module_version": "2.0.0",
      "model_name": "ProgressStyleModel",
      "state": {
       "description_width": ""
      }
     },
     "a06bd645c80b4f24a5b02e3a55658a97": {
      "model_module": "@jupyter-widgets/controls",
      "model_module_version": "2.0.0",
      "model_name": "LabelModel",
      "state": {
       "layout": "IPY_MODEL_11b018d734fe4bc7ae2d368ff738737f",
       "style": "IPY_MODEL_ecb5af700b034ca2905bf401a1b594a4",
       "value": "Perfect Fitness Perfect Rip Deck"
      }
     },
     "a0e0e60defc8442f897233ca9ce9412a": {
      "model_module": "@jupyter-widgets/controls",
      "model_module_version": "2.0.0",
      "model_name": "LabelStyleModel",
      "state": {
       "description_width": "",
       "font_family": null,
       "font_size": null,
       "font_style": null,
       "font_variant": null,
       "font_weight": null,
       "text_color": null,
       "text_decoration": null
      }
     },
     "a0ef77656fb54580b0df0dd8594dcabf": {
      "model_module": "@jupyter-widgets/controls",
      "model_module_version": "2.0.0",
      "model_name": "LabelStyleModel",
      "state": {
       "description_width": "",
       "font_family": null,
       "font_size": null,
       "font_style": null,
       "font_variant": null,
       "font_weight": null,
       "text_color": null,
       "text_decoration": null
      }
     },
     "a16c14c0374e44a1998d1a5890f18d05": {
      "model_module": "@jupyter-widgets/controls",
      "model_module_version": "2.0.0",
      "model_name": "FloatProgressModel",
      "state": {
       "bar_style": "info",
       "description": "0.5556",
       "layout": "IPY_MODEL_fda8e7d6d4d146daa5126a43d64a6edf",
       "max": 1,
       "style": "IPY_MODEL_4343cf741d2b48afa7a9927e7f7014c2",
       "value": 0.5555555555555555
      }
     },
     "a1707d94437946d78c1a5f01c6e3b2ac": {
      "model_module": "@jupyter-widgets/base",
      "model_module_version": "2.0.0",
      "model_name": "LayoutModel",
      "state": {}
     },
     "a1d80595292a4463a6cc0104ddc63839": {
      "model_module": "@jupyter-widgets/base",
      "model_module_version": "2.0.0",
      "model_name": "LayoutModel",
      "state": {}
     },
     "a246a57f289843f686e7c87751fad1b6": {
      "model_module": "@jupyter-widgets/controls",
      "model_module_version": "2.0.0",
      "model_name": "ProgressStyleModel",
      "state": {
       "description_width": ""
      }
     },
     "a2ed2afad17645acb06da80c2dec014c": {
      "model_module": "@jupyter-widgets/controls",
      "model_module_version": "2.0.0",
      "model_name": "FloatProgressModel",
      "state": {
       "bar_style": "info",
       "description": "0.3985",
       "layout": "IPY_MODEL_bfbcb82196e5466c82f486acf0339af1",
       "max": 1,
       "style": "IPY_MODEL_e6abaa8c540641a9a1cf544f9286e623",
       "value": 0.39846743295019155
      }
     },
     "a3a77b98bbd14fc48da2ecb08e53a9f4": {
      "model_module": "@jupyter-widgets/controls",
      "model_module_version": "2.0.0",
      "model_name": "LabelStyleModel",
      "state": {
       "description_width": "",
       "font_family": null,
       "font_size": null,
       "font_style": null,
       "font_variant": null,
       "font_weight": null,
       "text_color": null,
       "text_decoration": null
      }
     },
     "a4aae34072c14ea6b28c37348e638608": {
      "model_module": "@jupyter-widgets/base",
      "model_module_version": "2.0.0",
      "model_name": "LayoutModel",
      "state": {}
     },
     "a4de950dda2348ba8030240f1caea5b7": {
      "model_module": "@jupyter-widgets/controls",
      "model_module_version": "2.0.0",
      "model_name": "FloatProgressModel",
      "state": {
       "bar_style": "info",
       "description": "0.5556",
       "layout": "IPY_MODEL_000e270598364bc391179dac255183df",
       "max": 1,
       "style": "IPY_MODEL_399125dcdeed4209bc2e23ad37b47d20",
       "value": 0.5555555555555555
      }
     },
     "a4e90ec0211c47cd8fab9182c9bd6092": {
      "model_module": "@jupyter-widgets/controls",
      "model_module_version": "2.0.0",
      "model_name": "LabelModel",
      "state": {
       "layout": "IPY_MODEL_73df95c125a24cbcaef4620c5112ff63",
       "style": "IPY_MODEL_f463554046d547edb89cd618de5f8439",
       "value": "O'Brien Men's Neoprene Life Vest"
      }
     },
     "a50bee63ea714d7a9dd8804da5e29d0c": {
      "model_module": "@jupyter-widgets/controls",
      "model_module_version": "2.0.0",
      "model_name": "LabelStyleModel",
      "state": {
       "description_width": "",
       "font_family": null,
       "font_size": null,
       "font_style": null,
       "font_variant": null,
       "font_weight": null,
       "text_color": null,
       "text_decoration": null
      }
     },
     "a53c54cb408046de91e3f502818398b1": {
      "model_module": "@jupyter-widgets/controls",
      "model_module_version": "2.0.0",
      "model_name": "FloatProgressModel",
      "state": {
       "bar_style": "info",
       "description": "0.5556",
       "layout": "IPY_MODEL_70b04735b7c64d7787edeb89f5d9069f",
       "max": 1,
       "style": "IPY_MODEL_82844b54a4a64fb98950dba4aedefd37",
       "value": 0.5555555555555555
      }
     },
     "a540e9d33e9f4e0097e6b2f4ea0c8099": {
      "model_module": "@jupyter-widgets/controls",
      "model_module_version": "2.0.0",
      "model_name": "FloatProgressModel",
      "state": {
       "bar_style": "info",
       "description": "0.4731",
       "layout": "IPY_MODEL_b2347f003c4a499c8b00a0ed7d62b945",
       "max": 1,
       "style": "IPY_MODEL_1c7d817c35ea4859966f85e014d49770",
       "value": 0.47307692307692306
      }
     },
     "a54ff4ff46ff49feb4908cb570ba9a9e": {
      "model_module": "@jupyter-widgets/base",
      "model_module_version": "2.0.0",
      "model_name": "LayoutModel",
      "state": {}
     },
     "a573bd878d1440a989f6d35d5c720e4e": {
      "model_module": "@jupyter-widgets/base",
      "model_module_version": "2.0.0",
      "model_name": "LayoutModel",
      "state": {}
     },
     "a604d4389ce1455db3b90359d2342a1a": {
      "model_module": "@jupyter-widgets/controls",
      "model_module_version": "2.0.0",
      "model_name": "ProgressStyleModel",
      "state": {
       "description_width": ""
      }
     },
     "a6e334327db1422aa30c738e5f362693": {
      "model_module": "@jupyter-widgets/base",
      "model_module_version": "2.0.0",
      "model_name": "LayoutModel",
      "state": {}
     },
     "a6fbd28d87544644831529f0ce338b03": {
      "model_module": "@jupyter-widgets/controls",
      "model_module_version": "2.0.0",
      "model_name": "FloatProgressModel",
      "state": {
       "bar_style": "info",
       "description": "0.5788",
       "layout": "IPY_MODEL_09d90882cad64a0abd4640991b1f6c98",
       "max": 1,
       "style": "IPY_MODEL_4de4f8ccb1e149eca460e280a5df27df",
       "value": 0.5788461538461538
      }
     },
     "a72a53921884449cac33ba17eaf31f5f": {
      "model_module": "@jupyter-widgets/base",
      "model_module_version": "2.0.0",
      "model_name": "LayoutModel",
      "state": {}
     },
     "a7af1bbd650141c791c4128f06be479e": {
      "model_module": "@jupyter-widgets/base",
      "model_module_version": "2.0.0",
      "model_name": "LayoutModel",
      "state": {}
     },
     "a7fece3affde489890674b57347a665b": {
      "model_module": "@jupyter-widgets/controls",
      "model_module_version": "2.0.0",
      "model_name": "LabelModel",
      "state": {
       "layout": "IPY_MODEL_26e15b0bee554ed186549c1ccbbf3a7a",
       "style": "IPY_MODEL_6ed2a34da8d84e64b637c05d229742a6",
       "value": "Diamondback Women's Serene Classic Comfort Bi"
      }
     },
     "a8455161f64e46d3900960de9ce84097": {
      "model_module": "@jupyter-widgets/base",
      "model_module_version": "2.0.0",
      "model_name": "LayoutModel",
      "state": {}
     },
     "a8d5f1c04b8948b28320e06fc0fc55d8": {
      "model_module": "@jupyter-widgets/controls",
      "model_module_version": "2.0.0",
      "model_name": "ProgressStyleModel",
      "state": {
       "description_width": ""
      }
     },
     "a8f8c8fffedd4ce1b8b3d546fd3de8fe": {
      "model_module": "@jupyter-widgets/controls",
      "model_module_version": "2.0.0",
      "model_name": "LabelStyleModel",
      "state": {
       "description_width": "",
       "font_family": null,
       "font_size": null,
       "font_style": null,
       "font_variant": null,
       "font_weight": null,
       "text_color": null,
       "text_decoration": null
      }
     },
     "a956a612f3bf42e39becffb68dd541c1": {
      "model_module": "@jupyter-widgets/controls",
      "model_module_version": "2.0.0",
      "model_name": "FloatProgressModel",
      "state": {
       "bar_style": "info",
       "description": "0.5346",
       "layout": "IPY_MODEL_0cd8b88000a24b84a50464a24afd22af",
       "max": 1,
       "style": "IPY_MODEL_1759c4c946b445ebb3d363e0594e688c",
       "value": 0.5346153846153846
      }
     },
     "a9cc8c6229064fa9b0447e27dc58da36": {
      "model_module": "@jupyter-widgets/controls",
      "model_module_version": "2.0.0",
      "model_name": "FloatProgressModel",
      "state": {
       "bar_style": "info",
       "description": "0.3276",
       "layout": "IPY_MODEL_3ea6cda1190b482bbe049057fcced9b0",
       "max": 1,
       "style": "IPY_MODEL_dd6ad79d8699412695b3e9bf79a64709",
       "value": 0.3275862068965517
      }
     },
     "aa068b0f94014dbe877c774a998e3aad": {
      "model_module": "@jupyter-widgets/base",
      "model_module_version": "2.0.0",
      "model_name": "LayoutModel",
      "state": {}
     },
     "aa240d28f2a949f89f4de6791407d4c2": {
      "model_module": "@jupyter-widgets/controls",
      "model_module_version": "2.0.0",
      "model_name": "ProgressStyleModel",
      "state": {
       "description_width": ""
      }
     },
     "aad19e30ed2d428d968a4c0920f8320c": {
      "model_module": "@jupyter-widgets/base",
      "model_module_version": "2.0.0",
      "model_name": "LayoutModel",
      "state": {}
     },
     "ab5af06cd2ee4d77bd29bc8b4d8133f4": {
      "model_module": "@jupyter-widgets/controls",
      "model_module_version": "2.0.0",
      "model_name": "FloatProgressModel",
      "state": {
       "bar_style": "info",
       "description": "0.4310",
       "layout": "IPY_MODEL_951fd5544db641c28dae65b55ae99d6c",
       "max": 1,
       "style": "IPY_MODEL_b1871a01cf4c4e9eb88522f3a5a99c3a",
       "value": 0.43103448275862066
      }
     },
     "ab91e2f4d3f84d029152d7b6b5af0889": {
      "model_module": "@jupyter-widgets/controls",
      "model_module_version": "2.0.0",
      "model_name": "ProgressStyleModel",
      "state": {
       "description_width": ""
      }
     },
     "abed891f27c74b82a5041697d29baabb": {
      "model_module": "@jupyter-widgets/controls",
      "model_module_version": "2.0.0",
      "model_name": "FloatProgressModel",
      "state": {
       "bar_style": "info",
       "description": "0.3985",
       "layout": "IPY_MODEL_2dc920e1d6854834a623f7064fc0669f",
       "max": 1,
       "style": "IPY_MODEL_cba77b7fe6ba4b1d8fff4f5f9d937239",
       "value": 0.39846743295019155
      }
     },
     "ac01feb047604bef928c15a467a10d65": {
      "model_module": "@jupyter-widgets/controls",
      "model_module_version": "2.0.0",
      "model_name": "LabelStyleModel",
      "state": {
       "description_width": "",
       "font_family": null,
       "font_size": null,
       "font_style": null,
       "font_variant": null,
       "font_weight": null,
       "text_color": null,
       "text_decoration": null
      }
     },
     "ac2307b3098847a79600027f5666dd2d": {
      "model_module": "@jupyter-widgets/base",
      "model_module_version": "2.0.0",
      "model_name": "LayoutModel",
      "state": {}
     },
     "ac4ca9b6b3f549789a28470e964cddf4": {
      "model_module": "@jupyter-widgets/base",
      "model_module_version": "2.0.0",
      "model_name": "LayoutModel",
      "state": {}
     },
     "ac4f4fba09224a36b3f4b56bff25c96b": {
      "model_module": "@jupyter-widgets/controls",
      "model_module_version": "2.0.0",
      "model_name": "LabelModel",
      "state": {
       "layout": "IPY_MODEL_b87dfdf2982242a2866233809bda5771",
       "style": "IPY_MODEL_1bf727b0d088444a8643a6348b92109b",
       "value": "Field & Stream Sportsman 16 Gun Fire Safe"
      }
     },
     "ac970738e5d7450483c74994c16bce91": {
      "model_module": "@jupyter-widgets/controls",
      "model_module_version": "2.0.0",
      "model_name": "LabelModel",
      "state": {
       "layout": "IPY_MODEL_eb12c0484a194d318d50aaaf7468f71b",
       "style": "IPY_MODEL_9e370042e9f8470e8a7a3c80704aa915",
       "value": "Nike Men's CJ Elite 2 TD Football Cleat"
      }
     },
     "ad389d8353a94bf1b3a0601aa719dbe1": {
      "model_module": "@jupyter-widgets/controls",
      "model_module_version": "2.0.0",
      "model_name": "LabelStyleModel",
      "state": {
       "description_width": "",
       "font_family": null,
       "font_size": null,
       "font_style": null,
       "font_variant": null,
       "font_weight": null,
       "text_color": null,
       "text_decoration": null
      }
     },
     "ad8c9e5c613540d9bde3c06630e5f4a6": {
      "model_module": "@jupyter-widgets/controls",
      "model_module_version": "2.0.0",
      "model_name": "ProgressStyleModel",
      "state": {
       "description_width": ""
      }
     },
     "adc4e958b6a04befbfe450203dd16579": {
      "model_module": "@jupyter-widgets/controls",
      "model_module_version": "2.0.0",
      "model_name": "ProgressStyleModel",
      "state": {
       "description_width": ""
      }
     },
     "ae78afaaf1594a10bc300398d9eb9dda": {
      "model_module": "@jupyter-widgets/base",
      "model_module_version": "2.0.0",
      "model_name": "LayoutModel",
      "state": {}
     },
     "ae8dd882c9414217b6b2d89325c607d5": {
      "model_module": "@jupyter-widgets/controls",
      "model_module_version": "2.0.0",
      "model_name": "ProgressStyleModel",
      "state": {
       "description_width": ""
      }
     },
     "af424e90bbc64b41b9c550bd32fc256c": {
      "model_module": "@jupyter-widgets/base",
      "model_module_version": "2.0.0",
      "model_name": "LayoutModel",
      "state": {}
     },
     "af99f9890aec4807a8e8b62befad398f": {
      "model_module": "@jupyter-widgets/controls",
      "model_module_version": "2.0.0",
      "model_name": "LabelModel",
      "state": {
       "layout": "IPY_MODEL_1318db1adf1744cd95534f9649f8259b",
       "style": "IPY_MODEL_0b587cac688743079235e26a7389dc6f",
       "value": "O'Brien Men's Neoprene Life Vest"
      }
     },
     "affc13e7a52d4da1b979a10e8e959175": {
      "model_module": "@jupyter-widgets/controls",
      "model_module_version": "2.0.0",
      "model_name": "ProgressStyleModel",
      "state": {
       "description_width": ""
      }
     },
     "b0197d6c1eb644f098a65e1c4f992e6b": {
      "model_module": "@jupyter-widgets/controls",
      "model_module_version": "2.0.0",
      "model_name": "LabelStyleModel",
      "state": {
       "description_width": "",
       "font_family": null,
       "font_size": null,
       "font_style": null,
       "font_variant": null,
       "font_weight": null,
       "text_color": null,
       "text_decoration": null
      }
     },
     "b03c6c0d3ffb4845987440f6d68076c6": {
      "model_module": "@jupyter-widgets/controls",
      "model_module_version": "2.0.0",
      "model_name": "FloatProgressModel",
      "state": {
       "bar_style": "info",
       "description": "0.5556",
       "layout": "IPY_MODEL_e809bc8a818047caa56275b70756c058",
       "max": 1,
       "style": "IPY_MODEL_952ee8e7713b466c9820c675e2842376",
       "value": 0.5555555555555555
      }
     },
     "b0b54dac3e404ac5aee95b6be8143c95": {
      "model_module": "@jupyter-widgets/controls",
      "model_module_version": "2.0.0",
      "model_name": "FloatProgressModel",
      "state": {
       "bar_style": "info",
       "description": "0.3276",
       "layout": "IPY_MODEL_889c4142d2ca4b52977e78d6e399763f",
       "max": 1,
       "style": "IPY_MODEL_03e8116c231745c4a2da9a4bcb2a42ae",
       "value": 0.3275862068965517
      }
     },
     "b12d5331866c428c875f7027bc325009": {
      "model_module": "@jupyter-widgets/base",
      "model_module_version": "2.0.0",
      "model_name": "LayoutModel",
      "state": {}
     },
     "b1871a01cf4c4e9eb88522f3a5a99c3a": {
      "model_module": "@jupyter-widgets/controls",
      "model_module_version": "2.0.0",
      "model_name": "ProgressStyleModel",
      "state": {
       "description_width": ""
      }
     },
     "b19693dbdd964045adc3512dde3507aa": {
      "model_module": "@jupyter-widgets/base",
      "model_module_version": "2.0.0",
      "model_name": "LayoutModel",
      "state": {}
     },
     "b19c5ebdf2704f12aa9f55fcddd8c755": {
      "model_module": "@jupyter-widgets/controls",
      "model_module_version": "2.0.0",
      "model_name": "LabelStyleModel",
      "state": {
       "description_width": "",
       "font_family": null,
       "font_size": null,
       "font_style": null,
       "font_variant": null,
       "font_weight": null,
       "text_color": null,
       "text_decoration": null
      }
     },
     "b1ba83ce6fbc40879220a74a66db2305": {
      "model_module": "@jupyter-widgets/controls",
      "model_module_version": "2.0.0",
      "model_name": "LabelModel",
      "state": {
       "layout": "IPY_MODEL_b6c5a034ba95417292f777e4bdef3ad4",
       "style": "IPY_MODEL_c03a1f6ff3bc4444bc7d73595d9bac2e",
       "value": "Nike Men's CJ Elite 2 TD Football Cleat"
      }
     },
     "b1e4a35474194b64a2d4f9b77348ac68": {
      "model_module": "@jupyter-widgets/base",
      "model_module_version": "2.0.0",
      "model_name": "LayoutModel",
      "state": {}
     },
     "b2347f003c4a499c8b00a0ed7d62b945": {
      "model_module": "@jupyter-widgets/base",
      "model_module_version": "2.0.0",
      "model_name": "LayoutModel",
      "state": {}
     },
     "b25c25f5c46d45e19c7b45b53e8de350": {
      "model_module": "@jupyter-widgets/controls",
      "model_module_version": "2.0.0",
      "model_name": "LabelStyleModel",
      "state": {
       "description_width": "",
       "font_family": null,
       "font_size": null,
       "font_style": null,
       "font_variant": null,
       "font_weight": null,
       "text_color": null,
       "text_decoration": null
      }
     },
     "b276bed3eede41bea9c66591d75165f5": {
      "model_module": "@jupyter-widgets/controls",
      "model_module_version": "2.0.0",
      "model_name": "LabelStyleModel",
      "state": {
       "description_width": "",
       "font_family": null,
       "font_size": null,
       "font_style": null,
       "font_variant": null,
       "font_weight": null,
       "text_color": null,
       "text_decoration": null
      }
     },
     "b37d4da4b1a643b8a5a0240d48e7983d": {
      "model_module": "@jupyter-widgets/base",
      "model_module_version": "2.0.0",
      "model_name": "LayoutModel",
      "state": {}
     },
     "b3df1e6b2a174071a6bc93d03b3d18fa": {
      "model_module": "@jupyter-widgets/base",
      "model_module_version": "2.0.0",
      "model_name": "LayoutModel",
      "state": {}
     },
     "b3ed3c6f9dea4c60b340b7a64d0ef7db": {
      "model_module": "@jupyter-widgets/controls",
      "model_module_version": "2.0.0",
      "model_name": "FloatProgressModel",
      "state": {
       "bar_style": "info",
       "description": "0.4617",
       "layout": "IPY_MODEL_11f09e730bb44a1c9917097c671bb581",
       "max": 1,
       "style": "IPY_MODEL_ab91e2f4d3f84d029152d7b6b5af0889",
       "value": 0.4616858237547892
      }
     },
     "b475e84c669445ea924bcb51e86d98b7": {
      "model_module": "@jupyter-widgets/controls",
      "model_module_version": "2.0.0",
      "model_name": "LabelStyleModel",
      "state": {
       "description_width": "",
       "font_family": null,
       "font_size": null,
       "font_style": null,
       "font_variant": null,
       "font_weight": null,
       "text_color": null,
       "text_decoration": null
      }
     },
     "b53a0e9c60c648d8853752a508e8d852": {
      "model_module": "@jupyter-widgets/base",
      "model_module_version": "2.0.0",
      "model_name": "LayoutModel",
      "state": {}
     },
     "b55595b477104f6bab2a1ce9ab34d2ba": {
      "model_module": "@jupyter-widgets/controls",
      "model_module_version": "2.0.0",
      "model_name": "LabelModel",
      "state": {
       "layout": "IPY_MODEL_43c45a3abed54c449cfd28678343f467",
       "style": "IPY_MODEL_32a3f824fc5b4ed78b5498f70461a215",
       "value": "Perfect Fitness Perfect Rip Deck"
      }
     },
     "b56560b58b11470fae28984a2a099825": {
      "model_module": "@jupyter-widgets/controls",
      "model_module_version": "2.0.0",
      "model_name": "LabelModel",
      "state": {
       "layout": "IPY_MODEL_ef7246f3feed41b09efe19eec3a30b81",
       "style": "IPY_MODEL_ba02100117144cab972fb1968c1225fa",
       "value": "Pelican Sunstream 100 Kayak"
      }
     },
     "b60e64295cda4a7cb7518f09072d8e83": {
      "model_module": "@jupyter-widgets/controls",
      "model_module_version": "2.0.0",
      "model_name": "LabelStyleModel",
      "state": {
       "description_width": "",
       "font_family": null,
       "font_size": null,
       "font_style": null,
       "font_variant": null,
       "font_weight": null,
       "text_color": null,
       "text_decoration": null
      }
     },
     "b63b8964be3a46fb9c5160ab89f79858": {
      "model_module": "@jupyter-widgets/controls",
      "model_module_version": "2.0.0",
      "model_name": "ProgressStyleModel",
      "state": {
       "description_width": ""
      }
     },
     "b6446b98e4ca4a06a8cbb6f97f44ce88": {
      "model_module": "@jupyter-widgets/base",
      "model_module_version": "2.0.0",
      "model_name": "LayoutModel",
      "state": {}
     },
     "b65f381ec8cb4d769f0a4fff4ea5d29d": {
      "model_module": "@jupyter-widgets/controls",
      "model_module_version": "2.0.0",
      "model_name": "FloatProgressModel",
      "state": {
       "bar_style": "info",
       "description": "0.4617",
       "layout": "IPY_MODEL_8a713dcc157d4bffadbc98a64257a6ce",
       "max": 1,
       "style": "IPY_MODEL_0d2e325fe2ce4a5281fb11919d2cf600",
       "value": 0.4616858237547892
      }
     },
     "b6b09878efcb41b2a7b12df270625493": {
      "model_module": "@jupyter-widgets/base",
      "model_module_version": "2.0.0",
      "model_name": "LayoutModel",
      "state": {}
     },
     "b6c5a034ba95417292f777e4bdef3ad4": {
      "model_module": "@jupyter-widgets/base",
      "model_module_version": "2.0.0",
      "model_name": "LayoutModel",
      "state": {}
     },
     "b6f28d9e898444bdbfa6927bab8c7378": {
      "model_module": "@jupyter-widgets/base",
      "model_module_version": "2.0.0",
      "model_name": "LayoutModel",
      "state": {}
     },
     "b6fd4c5dfbd145559955a1c8214f624d": {
      "model_module": "@jupyter-widgets/controls",
      "model_module_version": "2.0.0",
      "model_name": "LabelModel",
      "state": {
       "layout": "IPY_MODEL_32ee1134deba44698e9115652dd6d649",
       "style": "IPY_MODEL_348efdb3178e49249f106c6b7480d990",
       "value": "Nike Men's CJ Elite 2 TD Football Cleat"
      }
     },
     "b7047c55c04e453c89f9a7aa420f2849": {
      "model_module": "@jupyter-widgets/controls",
      "model_module_version": "2.0.0",
      "model_name": "ProgressStyleModel",
      "state": {
       "description_width": ""
      }
     },
     "b732908261044c5095708be2c1926bc6": {
      "model_module": "@jupyter-widgets/base",
      "model_module_version": "2.0.0",
      "model_name": "LayoutModel",
      "state": {}
     },
     "b7464a5ad7cd44a38a79cd9f299de123": {
      "model_module": "@jupyter-widgets/base",
      "model_module_version": "2.0.0",
      "model_name": "LayoutModel",
      "state": {}
     },
     "b846007afe034736a3cea23556f86498": {
      "model_module": "@jupyter-widgets/base",
      "model_module_version": "2.0.0",
      "model_name": "LayoutModel",
      "state": {}
     },
     "b84b814e7df144d48d569cbd97631573": {
      "model_module": "@jupyter-widgets/controls",
      "model_module_version": "2.0.0",
      "model_name": "LabelStyleModel",
      "state": {
       "description_width": "",
       "font_family": null,
       "font_size": null,
       "font_style": null,
       "font_variant": null,
       "font_weight": null,
       "text_color": null,
       "text_decoration": null
      }
     },
     "b85c560723c643659cc282be5ac50e5f": {
      "model_module": "@jupyter-widgets/controls",
      "model_module_version": "2.0.0",
      "model_name": "DropdownModel",
      "state": {
       "_options_labels": [
        "Nike Men's Dri-FIT Victory Golf Polo",
        "Under Armour Girls' Toddler Spine Surge Runni",
        "Under Armour Men's Compression EV SL Slide",
        "Perfect Fitness Perfect Rip Deck",
        "Nike Men's CJ Elite 2 TD Football Cleat",
        "Bridgestone e6 Straight Distance NFL Tennesse",
        "Glove It Women's Mod Oval Golf Glove",
        "Diamondback Boys' Insight 24 Performance Hybr",
        "adidas Men's F10 Messi TRX FG Soccer Cleat",
        "Nike Men's Free 5.0+ Running Shoe",
        "Nike Women's Tempo Shorts",
        "Nike Dri-FIT Crew Sock 6 Pack",
        "Nike Women's Legend V-Neck T-Shirt",
        "Garmin Approach S4 Golf GPS Watch",
        "Diamondback Women's Serene Classic Comfort Bi",
        "Field & Stream Sportsman 16 Gun Fire Safe",
        "Nike Men's Comfort 2 Slide",
        "Under Armour Men's Tech II T-Shirt",
        "Under Armour Kids' Mercenary Slide",
        "Under Armour Women's Ignite Slide",
        "Fitbit The One Wireless Activity & Sleep Trac",
        "Stiga Master Series ST3100 Competition Indoor",
        "Team Golf Texas Longhorns Putter Grip",
        "Glove It Urban Brick Golf Towel",
        "Under Armour Hustle Storm Medium Duffle Bag",
        "Glove It Imperial Golf Towel",
        "Mio ALPHA Heart Rate Monitor/Sport Watch",
        "Team Golf Pittsburgh Steelers Putter Grip",
        "Team Golf San Francisco Giants Putter Grip",
        "Under Armour Women's Ignite PIP VI Slide",
        "Titleist Pro V1x High Numbers Golf Balls",
        "Team Golf St. Louis Cardinals Putter Grip",
        "Nike Men's Deutschland Weltmeister Winners Bl",
        "Titleist Pro V1x Golf Balls",
        "TYR Boys' Team Digi Jammer",
        "Team Golf New England Patriots Putter Grip",
        "Glove It Women's Imperial Golf Glove",
        "Nike Kids' Grade School KD VI Basketball Shoe",
        "Titleist Pro V1x High Numbers Personalized Go",
        "Under Armour Women's Micro G Skulpt Running S",
        "ENO Atlas Hammock Straps",
        "Bridgestone e6 Straight Distance NFL Carolina",
        "Polar Loop Activity Tracker",
        "Nike Men's Fingertrap Max Training Shoe",
        "Nike Women's Free 5.0 TR FIT PRT 4 Training S",
        "Glove It Women's Mod Oval 3-Zip Carry All Gol",
        "Columbia Men's PFG Anchor Tough T-Shirt",
        "Titleist Pro V1 High Numbers Personalized Gol",
        "adidas Youth Germany Black/Red Away Match Soc",
        "Brooks Women's Ghost 6 Running Shoe",
        "adidas Men's Germany Black Crest Away Tee",
        "Hirzl Women's Soffft Flex Golf Glove",
        "Hirzl Women's Hybrid Golf Glove",
        "Hirzl Men's Hybrid Golf Glove",
        "TaylorMade 2014 Purelite Stand Bag",
        "Bag Boy Beverage Holder",
        "Clicgear 8.0 Shoe Brush",
        "Titleist Small Wheeled Travel Cover",
        "Clicgear Rovic Cooler Bag",
        "Nike Men's Kobe IX Elite Low Basketball Shoe",
        "Bridgestone e6 Straight Distance NFL San Dieg",
        "insta-bed Neverflat Air Mattress",
        "Team Golf Tennessee Volunteers Putter Grip",
        "adidas Kids' F5 Messi FG Soccer Cleat",
        "Nike Men's Free TR 5.0 TB Training Shoe",
        "adidas Brazuca 2014 Official Match Ball",
        "Titleist Club Glove Travel Cover",
        "Ogio Race Golf Shoes",
        "LIJA Women's Argyle Golf Polo",
        "LIJA Women's Eyelet Sleeveless Golf Polo",
        "LIJA Women's Button Golf Dress",
        "LIJA Women's Mid-Length Panel Golf Shorts",
        "Cleveland Golf Women's 588 RTX CB Satin Chrom",
        "Top Flite Women's 2014 XL Hybrid",
        "MDGolf Pittsburgh Penguins Putter",
        "TaylorMade White Smoke IN-12 Putter",
        "Cleveland Golf Collegiate My Custom Wedge 588",
        "Merrell Men's All Out Flash Trail Running Sho",
        "Merrell Women's Siren Mid Waterproof Hiking B",
        "Pelican Sunstream 100 Kayak",
        "Total Gym 1400",
        "GolfBuddy VT3 GPS Watch",
        "Garmin Approach S3 Golf GPS Watch",
        "Polar FT4 Heart Rate Monitor",
        "Pelican Maverick 100X Kayak",
        "O'Brien Men's Neoprene Life Vest",
        "Yakima DoubleDown Ace Hitch Mount 4-Bike Rack",
        "SOLE E25 Elliptical",
        "Diamondback Girls' Clarity 24 Hybrid Bike 201",
        "Elevation Training Mask 2.0"
       ],
       "description": "Product:",
       "index": 0,
       "layout": "IPY_MODEL_5a54bf2aab784bd5aa13f640d521d737",
       "style": "IPY_MODEL_3d738b2b012e4cfc9b760da3d6b281d1"
      }
     },
     "b87dfdf2982242a2866233809bda5771": {
      "model_module": "@jupyter-widgets/base",
      "model_module_version": "2.0.0",
      "model_name": "LayoutModel",
      "state": {}
     },
     "b8fbfa25c1604685afd478ad8b457d93": {
      "model_module": "@jupyter-widgets/controls",
      "model_module_version": "2.0.0",
      "model_name": "LabelModel",
      "state": {
       "layout": "IPY_MODEL_cb64289ad00e429a883f9193ba84a4a6",
       "style": "IPY_MODEL_f13ed0b4536e4f718eb43221d90ac9f1",
       "value": "Nike Men's Dri-FIT Victory Golf Polo"
      }
     },
     "b9b52441d9454f5c8dbd0e74e35f9d7e": {
      "model_module": "@jupyter-widgets/base",
      "model_module_version": "2.0.0",
      "model_name": "LayoutModel",
      "state": {}
     },
     "ba02100117144cab972fb1968c1225fa": {
      "model_module": "@jupyter-widgets/controls",
      "model_module_version": "2.0.0",
      "model_name": "LabelStyleModel",
      "state": {
       "description_width": "",
       "font_family": null,
       "font_size": null,
       "font_style": null,
       "font_variant": null,
       "font_weight": null,
       "text_color": null,
       "text_decoration": null
      }
     },
     "bade40ccd34141429573e785f0d0af13": {
      "model_module": "@jupyter-widgets/controls",
      "model_module_version": "2.0.0",
      "model_name": "ProgressStyleModel",
      "state": {
       "description_width": ""
      }
     },
     "bafb57782d194248909762a44218e3cd": {
      "model_module": "@jupyter-widgets/base",
      "model_module_version": "2.0.0",
      "model_name": "LayoutModel",
      "state": {}
     },
     "bb01ff17048845afa79d9ebbce44674d": {
      "model_module": "@jupyter-widgets/base",
      "model_module_version": "2.0.0",
      "model_name": "LayoutModel",
      "state": {}
     },
     "bb04e3aebe2f45fab9c6e6ee1043ee59": {
      "model_module": "@jupyter-widgets/base",
      "model_module_version": "2.0.0",
      "model_name": "LayoutModel",
      "state": {}
     },
     "bb7daa6f1ddb49f5abb5ea2dab7f1e21": {
      "model_module": "@jupyter-widgets/controls",
      "model_module_version": "2.0.0",
      "model_name": "LabelModel",
      "state": {
       "layout": "IPY_MODEL_863ef5701cb540119797bcf54aa1833d",
       "style": "IPY_MODEL_7abae4f79beb448985970fdad57a9f5d",
       "value": "Nike Men's Dri-FIT Victory Golf Polo"
      }
     },
     "bbe9d442b8f74a1b816add922bbc8d9e": {
      "model_module": "@jupyter-widgets/controls",
      "model_module_version": "2.0.0",
      "model_name": "ProgressStyleModel",
      "state": {
       "description_width": ""
      }
     },
     "bcb93927b1044468b6ac4e0912a3848e": {
      "model_module": "@jupyter-widgets/controls",
      "model_module_version": "2.0.0",
      "model_name": "FloatProgressModel",
      "state": {
       "bar_style": "info",
       "description": "0.3985",
       "layout": "IPY_MODEL_38a5e904e2d6461b8388f23209952afb",
       "max": 1,
       "style": "IPY_MODEL_348ee74ca02d4dcb93e233696958a3e2",
       "value": 0.39846743295019155
      }
     },
     "bcbaeadfa65c401e8b4ceceae4786f82": {
      "model_module": "@jupyter-widgets/controls",
      "model_module_version": "2.0.0",
      "model_name": "LabelModel",
      "state": {
       "layout": "IPY_MODEL_37c0cec8dbfa4bea92f1b20cc54f09a8",
       "style": "IPY_MODEL_74966b112de04371b9aa04cff007c53e",
       "value": "Diamondback Women's Serene Classic Comfort Bi"
      }
     },
     "bd901d3de29849e6ae08b8a42343982d": {
      "model_module": "@jupyter-widgets/controls",
      "model_module_version": "2.0.0",
      "model_name": "FloatProgressModel",
      "state": {
       "bar_style": "info",
       "description": "0.4731",
       "layout": "IPY_MODEL_29da3f7dfcc249b491cfb1d30ee89ba4",
       "max": 1,
       "style": "IPY_MODEL_e2d92322897c4d38b6730845a674eab3",
       "value": 0.47307692307692306
      }
     },
     "bd97cd676937462f902ca4661a3ee467": {
      "model_module": "@jupyter-widgets/controls",
      "model_module_version": "2.0.0",
      "model_name": "FloatProgressModel",
      "state": {
       "bar_style": "info",
       "description": "0.5326",
       "layout": "IPY_MODEL_f6218fe37df040d983ee5d0a2faa2c6e",
       "max": 1,
       "style": "IPY_MODEL_0d2990a84c394e3b80d9bf4b00c8ccdb",
       "value": 0.5325670498084292
      }
     },
     "bdb499e3d61c48948f5e6459c42b2c7b": {
      "model_module": "@jupyter-widgets/controls",
      "model_module_version": "2.0.0",
      "model_name": "ProgressStyleModel",
      "state": {
       "description_width": ""
      }
     },
     "bdc8c7c17eee4725a246bde2ffe92613": {
      "model_module": "@jupyter-widgets/base",
      "model_module_version": "2.0.0",
      "model_name": "LayoutModel",
      "state": {}
     },
     "bdff21ddcece4d3a9d07812c566e210c": {
      "model_module": "@jupyter-widgets/controls",
      "model_module_version": "2.0.0",
      "model_name": "LabelStyleModel",
      "state": {
       "description_width": "",
       "font_family": null,
       "font_size": null,
       "font_style": null,
       "font_variant": null,
       "font_weight": null,
       "text_color": null,
       "text_decoration": null
      }
     },
     "be23da4d8e274d2d9e39fcaee661fb0d": {
      "model_module": "@jupyter-widgets/controls",
      "model_module_version": "2.0.0",
      "model_name": "LabelModel",
      "state": {
       "layout": "IPY_MODEL_19425bc1486c4e44b9eac35c88206f69",
       "style": "IPY_MODEL_c034a1be95f24ff28f39899b2f6069b1",
       "value": "Diamondback Women's Serene Classic Comfort Bi"
      }
     },
     "be27a148dc2c468787342290828d89f0": {
      "model_module": "@jupyter-widgets/base",
      "model_module_version": "2.0.0",
      "model_name": "LayoutModel",
      "state": {}
     },
     "bf01219f334342cda3c049ccba51aac8": {
      "model_module": "@jupyter-widgets/base",
      "model_module_version": "2.0.0",
      "model_name": "LayoutModel",
      "state": {}
     },
     "bf441a7c4fa24db18e3cf077b3fb6e2d": {
      "model_module": "@jupyter-widgets/controls",
      "model_module_version": "2.0.0",
      "model_name": "FloatProgressModel",
      "state": {
       "bar_style": "info",
       "description": "0.4617",
       "layout": "IPY_MODEL_008d7a9f4cb34e888be9f3321cbc06ce",
       "max": 1,
       "style": "IPY_MODEL_eaba9090146f4c1b97cc8d6ded62b7ed",
       "value": 0.4616858237547892
      }
     },
     "bfbcb82196e5466c82f486acf0339af1": {
      "model_module": "@jupyter-widgets/base",
      "model_module_version": "2.0.0",
      "model_name": "LayoutModel",
      "state": {}
     },
     "bfe95652e2f1472cbb1e2774537c6788": {
      "model_module": "@jupyter-widgets/controls",
      "model_module_version": "2.0.0",
      "model_name": "ProgressStyleModel",
      "state": {
       "description_width": ""
      }
     },
     "c00f98f0fe6b42f6960dc01a7fd8c30e": {
      "model_module": "@jupyter-widgets/base",
      "model_module_version": "2.0.0",
      "model_name": "LayoutModel",
      "state": {}
     },
     "c023371bcd564b09b66a0abc82e90b18": {
      "model_module": "@jupyter-widgets/base",
      "model_module_version": "2.0.0",
      "model_name": "LayoutModel",
      "state": {}
     },
     "c034a1be95f24ff28f39899b2f6069b1": {
      "model_module": "@jupyter-widgets/controls",
      "model_module_version": "2.0.0",
      "model_name": "LabelStyleModel",
      "state": {
       "description_width": "",
       "font_family": null,
       "font_size": null,
       "font_style": null,
       "font_variant": null,
       "font_weight": null,
       "text_color": null,
       "text_decoration": null
      }
     },
     "c03a1f6ff3bc4444bc7d73595d9bac2e": {
      "model_module": "@jupyter-widgets/controls",
      "model_module_version": "2.0.0",
      "model_name": "LabelStyleModel",
      "state": {
       "description_width": "",
       "font_family": null,
       "font_size": null,
       "font_style": null,
       "font_variant": null,
       "font_weight": null,
       "text_color": null,
       "text_decoration": null
      }
     },
     "c04ef9d358a2457291575b39acced5e4": {
      "model_module": "@jupyter-widgets/base",
      "model_module_version": "2.0.0",
      "model_name": "LayoutModel",
      "state": {}
     },
     "c08efca973984c65b79f597958d2d5f9": {
      "model_module": "@jupyter-widgets/controls",
      "model_module_version": "2.0.0",
      "model_name": "LabelModel",
      "state": {
       "layout": "IPY_MODEL_966a061ca3cb4ad1991cf5eba5babe13",
       "style": "IPY_MODEL_442aa2439c5e4524a0d7b3974825a23b",
       "value": "Field & Stream Sportsman 16 Gun Fire Safe"
      }
     },
     "c0ec2e852ae04a2ea707cb293f9a24ee": {
      "model_module": "@jupyter-widgets/base",
      "model_module_version": "2.0.0",
      "model_name": "LayoutModel",
      "state": {}
     },
     "c10918923ed6416c8a8bdbaa9e09e813": {
      "model_module": "@jupyter-widgets/controls",
      "model_module_version": "2.0.0",
      "model_name": "SliderStyleModel",
      "state": {
       "description_width": ""
      }
     },
     "c1450db101a84d0fa2780a17d1c4a252": {
      "model_module": "@jupyter-widgets/controls",
      "model_module_version": "2.0.0",
      "model_name": "FloatProgressModel",
      "state": {
       "bar_style": "info",
       "description": "0.5556",
       "layout": "IPY_MODEL_862456a31e564ff3a40722ab45312998",
       "max": 1,
       "style": "IPY_MODEL_77c939734d1d4c63a1588d16ece9731f",
       "value": 0.5555555555555555
      }
     },
     "c14d2cfdc7e54efb8b5baf7764f40747": {
      "model_module": "@jupyter-widgets/controls",
      "model_module_version": "2.0.0",
      "model_name": "FloatProgressModel",
      "state": {
       "bar_style": "info",
       "description": "0.5556",
       "layout": "IPY_MODEL_41c9c4833f084f23a125293748650095",
       "max": 1,
       "style": "IPY_MODEL_10a15f93f6194da287852c77ffe1221e",
       "value": 0.5555555555555555
      }
     },
     "c21193a803bb475a9f4b140ce6215586": {
      "model_module": "@jupyter-widgets/controls",
      "model_module_version": "2.0.0",
      "model_name": "LabelStyleModel",
      "state": {
       "description_width": "",
       "font_family": null,
       "font_size": null,
       "font_style": null,
       "font_variant": null,
       "font_weight": null,
       "text_color": null,
       "text_decoration": null
      }
     },
     "c23232e09ffc44cfa05a14bb96b2fd29": {
      "model_module": "@jupyter-widgets/controls",
      "model_module_version": "2.0.0",
      "model_name": "LabelModel",
      "state": {
       "layout": "IPY_MODEL_ea111428b5e0427c8684c513132cfaf6",
       "style": "IPY_MODEL_23390942fc404869860126a906af2c84",
       "value": "Diamondback Women's Serene Classic Comfort Bi"
      }
     },
     "c2871e0bfb6f474089a43bd90f388b11": {
      "model_module": "@jupyter-widgets/base",
      "model_module_version": "2.0.0",
      "model_name": "LayoutModel",
      "state": {}
     },
     "c31a313458794998a204a2ed15ee154a": {
      "model_module": "@jupyter-widgets/controls",
      "model_module_version": "2.0.0",
      "model_name": "LabelModel",
      "state": {
       "layout": "IPY_MODEL_f27aa3dfbb2a474795172960fe72dd81",
       "style": "IPY_MODEL_8e5154b97f48450781b2b2f6d939bca6",
       "value": "Pelican Sunstream 100 Kayak"
      }
     },
     "c37a48f1883849c884211dc0a4793180": {
      "model_module": "@jupyter-widgets/base",
      "model_module_version": "2.0.0",
      "model_name": "LayoutModel",
      "state": {}
     },
     "c4b0c513f09e4fe19040e689cc8d248d": {
      "model_module": "@jupyter-widgets/controls",
      "model_module_version": "2.0.0",
      "model_name": "LabelStyleModel",
      "state": {
       "description_width": "",
       "font_family": null,
       "font_size": null,
       "font_style": null,
       "font_variant": null,
       "font_weight": null,
       "text_color": null,
       "text_decoration": null
      }
     },
     "c4b564ee77fe4b44b4df39aa1eb81e86": {
      "model_module": "@jupyter-widgets/controls",
      "model_module_version": "2.0.0",
      "model_name": "LabelModel",
      "state": {
       "layout": "IPY_MODEL_cd9c334fc7514e32b57a856b775a7025",
       "style": "IPY_MODEL_6c5c6a063ee345e3b146603a5df27188",
       "value": "Field & Stream Sportsman 16 Gun Fire Safe"
      }
     },
     "c5018b13463f400aa3ff0c3c52b44f1b": {
      "model_module": "@jupyter-widgets/controls",
      "model_module_version": "2.0.0",
      "model_name": "ProgressStyleModel",
      "state": {
       "description_width": ""
      }
     },
     "c529e6251a2946ebb836eb9a078f20e4": {
      "model_module": "@jupyter-widgets/base",
      "model_module_version": "2.0.0",
      "model_name": "LayoutModel",
      "state": {}
     },
     "c5320108284643c5a62fbfd651cac83f": {
      "model_module": "@jupyter-widgets/controls",
      "model_module_version": "2.0.0",
      "model_name": "LabelModel",
      "state": {
       "layout": "IPY_MODEL_4ec586e8dc044cf5b478fc8915358bde",
       "style": "IPY_MODEL_0b8331dadc2a482cb0ead6462835724c",
       "value": "Pelican Sunstream 100 Kayak"
      }
     },
     "c534cbf69b59493cbad646b599c227d8": {
      "model_module": "@jupyter-widgets/controls",
      "model_module_version": "2.0.0",
      "model_name": "LabelStyleModel",
      "state": {
       "description_width": "",
       "font_family": null,
       "font_size": null,
       "font_style": null,
       "font_variant": null,
       "font_weight": null,
       "text_color": null,
       "text_decoration": null
      }
     },
     "c577eecdfb1a485f9c29ffcd606d41ef": {
      "model_module": "@jupyter-widgets/base",
      "model_module_version": "2.0.0",
      "model_name": "LayoutModel",
      "state": {}
     },
     "c59c2e5151594352a120dfc046cb9010": {
      "model_module": "@jupyter-widgets/controls",
      "model_module_version": "2.0.0",
      "model_name": "LabelStyleModel",
      "state": {
       "description_width": "",
       "font_family": null,
       "font_size": null,
       "font_style": null,
       "font_variant": null,
       "font_weight": null,
       "text_color": null,
       "text_decoration": null
      }
     },
     "c60e8d12f1b64712bcc532df63cd975c": {
      "model_module": "@jupyter-widgets/controls",
      "model_module_version": "2.0.0",
      "model_name": "LabelStyleModel",
      "state": {
       "description_width": "",
       "font_family": null,
       "font_size": null,
       "font_style": null,
       "font_variant": null,
       "font_weight": null,
       "text_color": null,
       "text_decoration": null
      }
     },
     "c64c320969cd444c8e5fe4afd673a06d": {
      "model_module": "@jupyter-widgets/controls",
      "model_module_version": "2.0.0",
      "model_name": "ProgressStyleModel",
      "state": {
       "description_width": ""
      }
     },
     "c6d1b4614dca428aae965b1bd49ff0f5": {
      "model_module": "@jupyter-widgets/controls",
      "model_module_version": "2.0.0",
      "model_name": "LabelStyleModel",
      "state": {
       "description_width": "",
       "font_family": null,
       "font_size": null,
       "font_style": null,
       "font_variant": null,
       "font_weight": null,
       "text_color": null,
       "text_decoration": null
      }
     },
     "c732cbdf9bab4f939971189c8c55fae8": {
      "model_module": "@jupyter-widgets/base",
      "model_module_version": "2.0.0",
      "model_name": "LayoutModel",
      "state": {}
     },
     "c7b1b1934e1a428ca94c78ef0bab4172": {
      "model_module": "@jupyter-widgets/controls",
      "model_module_version": "2.0.0",
      "model_name": "LabelModel",
      "state": {
       "layout": "IPY_MODEL_228c133dbfc744bd82b7c80b011233c6",
       "style": "IPY_MODEL_1cd3b5fc67b34a84846d1babdcce946f",
       "value": "Perfect Fitness Perfect Rip Deck"
      }
     },
     "c7d29e88fe2c49aa8be7d71994d94ae2": {
      "model_module": "@jupyter-widgets/controls",
      "model_module_version": "2.0.0",
      "model_name": "FloatProgressModel",
      "state": {
       "bar_style": "info",
       "description": "0.3596",
       "layout": "IPY_MODEL_fd25605a3899432795c6fafde4543a91",
       "max": 1,
       "style": "IPY_MODEL_36ff24a2329941c49d1aa12760d9d903",
       "value": 0.3596153846153846
      }
     },
     "c7fb8aabe80e4023bce04c2b03aca9bf": {
      "model_module": "@jupyter-widgets/base",
      "model_module_version": "2.0.0",
      "model_name": "LayoutModel",
      "state": {}
     },
     "c84b1d4f9984446faa7ce05713dbe564": {
      "model_module": "@jupyter-widgets/base",
      "model_module_version": "2.0.0",
      "model_name": "LayoutModel",
      "state": {}
     },
     "c9294acb87034106a9734b45c4423249": {
      "model_module": "@jupyter-widgets/controls",
      "model_module_version": "2.0.0",
      "model_name": "ProgressStyleModel",
      "state": {
       "description_width": ""
      }
     },
     "c99018cb594d44be88c6a43b5145a0c8": {
      "model_module": "@jupyter-widgets/base",
      "model_module_version": "2.0.0",
      "model_name": "LayoutModel",
      "state": {}
     },
     "ca1f33c24b474cde94402a1fd2fba6fd": {
      "model_module": "@jupyter-widgets/controls",
      "model_module_version": "2.0.0",
      "model_name": "LabelStyleModel",
      "state": {
       "description_width": "",
       "font_family": null,
       "font_size": null,
       "font_style": null,
       "font_variant": null,
       "font_weight": null,
       "text_color": null,
       "text_decoration": null
      }
     },
     "cb3f26493380447c88193220521f62ef": {
      "model_module": "@jupyter-widgets/controls",
      "model_module_version": "2.0.0",
      "model_name": "LabelModel",
      "state": {
       "layout": "IPY_MODEL_d242b62d36c7445e9bdadff331d54476",
       "style": "IPY_MODEL_a3a77b98bbd14fc48da2ecb08e53a9f4",
       "value": "Nike Men's CJ Elite 2 TD Football Cleat"
      }
     },
     "cb5634b6cf434e329da7a19fd626f81f": {
      "model_module": "@jupyter-widgets/controls",
      "model_module_version": "2.0.0",
      "model_name": "LabelStyleModel",
      "state": {
       "description_width": "",
       "font_family": null,
       "font_size": null,
       "font_style": null,
       "font_variant": null,
       "font_weight": null,
       "text_color": null,
       "text_decoration": null
      }
     },
     "cb64289ad00e429a883f9193ba84a4a6": {
      "model_module": "@jupyter-widgets/base",
      "model_module_version": "2.0.0",
      "model_name": "LayoutModel",
      "state": {}
     },
     "cba77b7fe6ba4b1d8fff4f5f9d937239": {
      "model_module": "@jupyter-widgets/controls",
      "model_module_version": "2.0.0",
      "model_name": "ProgressStyleModel",
      "state": {
       "description_width": ""
      }
     },
     "cbc5e7981f2747649d0f30f5250d394e": {
      "model_module": "@jupyter-widgets/controls",
      "model_module_version": "2.0.0",
      "model_name": "LabelStyleModel",
      "state": {
       "description_width": "",
       "font_family": null,
       "font_size": null,
       "font_style": null,
       "font_variant": null,
       "font_weight": null,
       "text_color": null,
       "text_decoration": null
      }
     },
     "cc80f696a56d4af9af87614b94382fad": {
      "model_module": "@jupyter-widgets/base",
      "model_module_version": "2.0.0",
      "model_name": "LayoutModel",
      "state": {}
     },
     "cca9eee07a7349ef835aa0697d985dd8": {
      "model_module": "@jupyter-widgets/base",
      "model_module_version": "2.0.0",
      "model_name": "LayoutModel",
      "state": {}
     },
     "cd01f26378bf4656b7e4df12cc947b15": {
      "model_module": "@jupyter-widgets/controls",
      "model_module_version": "2.0.0",
      "model_name": "FloatProgressModel",
      "state": {
       "bar_style": "info",
       "description": "0.5670",
       "layout": "IPY_MODEL_12e228701f60442e993077c22accc1fa",
       "max": 1,
       "style": "IPY_MODEL_dff31a9eafd6496fa60abb228753aae7",
       "value": 0.5670498084291187
      }
     },
     "cd17389bc9d04b83981f2f030038c034": {
      "model_module": "@jupyter-widgets/base",
      "model_module_version": "2.0.0",
      "model_name": "LayoutModel",
      "state": {}
     },
     "cd2743ab9e5d4e2d8c667d419390c706": {
      "model_module": "@jupyter-widgets/controls",
      "model_module_version": "2.0.0",
      "model_name": "LabelModel",
      "state": {
       "layout": "IPY_MODEL_013ed44f77a34385aa2ff204af233df6",
       "style": "IPY_MODEL_775ec0d1878c4aab8d22122013918776",
       "value": "Nike Men's CJ Elite 2 TD Football Cleat"
      }
     },
     "cd5b7741dd6e469ca14d584d3c8489ad": {
      "model_module": "@jupyter-widgets/controls",
      "model_module_version": "2.0.0",
      "model_name": "FloatProgressModel",
      "state": {
       "bar_style": "info",
       "description": "0.4310",
       "layout": "IPY_MODEL_0ef85082e777483fbd1750e972715c2e",
       "max": 1,
       "style": "IPY_MODEL_28973b1953ab4ff6ac266ab421a41375",
       "value": 0.43103448275862066
      }
     },
     "cd9bcdfa0d2d409ca710346fdd96d11e": {
      "model_module": "@jupyter-widgets/controls",
      "model_module_version": "2.0.0",
      "model_name": "LabelStyleModel",
      "state": {
       "description_width": "",
       "font_family": null,
       "font_size": null,
       "font_style": null,
       "font_variant": null,
       "font_weight": null,
       "text_color": null,
       "text_decoration": null
      }
     },
     "cd9c334fc7514e32b57a856b775a7025": {
      "model_module": "@jupyter-widgets/base",
      "model_module_version": "2.0.0",
      "model_name": "LayoutModel",
      "state": {}
     },
     "cdac6de6d43644e0b5e50eee8b0b5d50": {
      "model_module": "@jupyter-widgets/controls",
      "model_module_version": "2.0.0",
      "model_name": "ProgressStyleModel",
      "state": {
       "description_width": ""
      }
     },
     "cdb275a698ed47f09a1512a394dccdea": {
      "model_module": "@jupyter-widgets/controls",
      "model_module_version": "2.0.0",
      "model_name": "FloatProgressModel",
      "state": {
       "bar_style": "info",
       "description": "0.5670",
       "layout": "IPY_MODEL_dd15f276a7b942b2bf5cea945e604bc2",
       "max": 1,
       "style": "IPY_MODEL_20b140594442464eb59bc3f61439306c",
       "value": 0.5670498084291187
      }
     },
     "cdda5a2b144544678b29ea70fc0cf39d": {
      "model_module": "@jupyter-widgets/base",
      "model_module_version": "2.0.0",
      "model_name": "LayoutModel",
      "state": {}
     },
     "cdf9cbc3a90b4ac49fa9f1adf4fe5223": {
      "model_module": "@jupyter-widgets/base",
      "model_module_version": "2.0.0",
      "model_name": "LayoutModel",
      "state": {}
     },
     "ce52643d1d7c487da982f6bb3266eb6d": {
      "model_module": "@jupyter-widgets/base",
      "model_module_version": "2.0.0",
      "model_name": "LayoutModel",
      "state": {}
     },
     "ce80f8230a364b6ba2462e95f8d982f2": {
      "model_module": "@jupyter-widgets/base",
      "model_module_version": "2.0.0",
      "model_name": "LayoutModel",
      "state": {}
     },
     "ceb76521f8fb4378af540d3e2a5a73c3": {
      "model_module": "@jupyter-widgets/controls",
      "model_module_version": "2.0.0",
      "model_name": "ProgressStyleModel",
      "state": {
       "description_width": ""
      }
     },
     "ced70ecc41c540deb4f7344aa36b46a0": {
      "model_module": "@jupyter-widgets/controls",
      "model_module_version": "2.0.0",
      "model_name": "ProgressStyleModel",
      "state": {
       "description_width": ""
      }
     },
     "cf0fb342c46f473e8614561de224da88": {
      "model_module": "@jupyter-widgets/controls",
      "model_module_version": "2.0.0",
      "model_name": "ProgressStyleModel",
      "state": {
       "description_width": ""
      }
     },
     "cf68a3768b60475f89aa40a38745eaf4": {
      "model_module": "@jupyter-widgets/controls",
      "model_module_version": "2.0.0",
      "model_name": "FloatProgressModel",
      "state": {
       "bar_style": "info",
       "description": "0.4617",
       "layout": "IPY_MODEL_2676278a771d45148e592e85d7f2e04b",
       "max": 1,
       "style": "IPY_MODEL_e9505a13e92b4d43b006f0569de607f9",
       "value": 0.4616858237547892
      }
     },
     "cf6e845f8a0e41afb62710bdcd23395a": {
      "model_module": "@jupyter-widgets/controls",
      "model_module_version": "2.0.0",
      "model_name": "ProgressStyleModel",
      "state": {
       "description_width": ""
      }
     },
     "cf83e9a45a7e4a148122ea935049c609": {
      "model_module": "@jupyter-widgets/controls",
      "model_module_version": "2.0.0",
      "model_name": "FloatProgressModel",
      "state": {
       "bar_style": "info",
       "description": "0.5556",
       "layout": "IPY_MODEL_19086758c9ad4701a18a29bfa14b39e6",
       "max": 1,
       "style": "IPY_MODEL_ceb76521f8fb4378af540d3e2a5a73c3",
       "value": 0.5555555555555555
      }
     },
     "cfddbc7a9c474722a52faf9b1df82db0": {
      "model_module": "@jupyter-widgets/controls",
      "model_module_version": "2.0.0",
      "model_name": "VBoxModel",
      "state": {
       "children": [
        "IPY_MODEL_e49a6826177f47ba9ed6a23ac855fae1",
        "IPY_MODEL_56986f8ed18a48aeb2405918a9c29098"
       ],
       "layout": "IPY_MODEL_dc593cb18a91476eb501e4c613ce3eb7"
      }
     },
     "d00a1a4dfb174ca9afd90fe0da8522ec": {
      "model_module": "@jupyter-widgets/base",
      "model_module_version": "2.0.0",
      "model_name": "LayoutModel",
      "state": {}
     },
     "d1c90112244e46afbdcd808870533762": {
      "model_module": "@jupyter-widgets/controls",
      "model_module_version": "2.0.0",
      "model_name": "LabelStyleModel",
      "state": {
       "description_width": "",
       "font_family": null,
       "font_size": null,
       "font_style": null,
       "font_variant": null,
       "font_weight": null,
       "text_color": null,
       "text_decoration": null
      }
     },
     "d20ee733dacf4c5e8a108ecab0687c6e": {
      "model_module": "@jupyter-widgets/controls",
      "model_module_version": "2.0.0",
      "model_name": "ProgressStyleModel",
      "state": {
       "description_width": ""
      }
     },
     "d22c7d6332d346b6a78f81b7df376508": {
      "model_module": "@jupyter-widgets/controls",
      "model_module_version": "2.0.0",
      "model_name": "ProgressStyleModel",
      "state": {
       "description_width": ""
      }
     },
     "d242b62d36c7445e9bdadff331d54476": {
      "model_module": "@jupyter-widgets/base",
      "model_module_version": "2.0.0",
      "model_name": "LayoutModel",
      "state": {}
     },
     "d31ef6d8229d4c15a5b20cc31a60ae66": {
      "model_module": "@jupyter-widgets/controls",
      "model_module_version": "2.0.0",
      "model_name": "LabelStyleModel",
      "state": {
       "description_width": "",
       "font_family": null,
       "font_size": null,
       "font_style": null,
       "font_variant": null,
       "font_weight": null,
       "text_color": null,
       "text_decoration": null
      }
     },
     "d36699c61c944f518a0840554a39b8ee": {
      "model_module": "@jupyter-widgets/controls",
      "model_module_version": "2.0.0",
      "model_name": "LabelStyleModel",
      "state": {
       "description_width": "",
       "font_family": null,
       "font_size": null,
       "font_style": null,
       "font_variant": null,
       "font_weight": null,
       "text_color": null,
       "text_decoration": null
      }
     },
     "d39315c87f124cd8bdea18832ad576c2": {
      "model_module": "@jupyter-widgets/base",
      "model_module_version": "2.0.0",
      "model_name": "LayoutModel",
      "state": {}
     },
     "d420e6ef0173490ba0f45d7ce33e5281": {
      "model_module": "@jupyter-widgets/controls",
      "model_module_version": "2.0.0",
      "model_name": "FloatProgressModel",
      "state": {
       "bar_style": "info",
       "description": "0.3985",
       "layout": "IPY_MODEL_5d363207db0b4a2fb5173969e99bd71f",
       "max": 1,
       "style": "IPY_MODEL_991c7d7123a2420a92d2be5837aad606",
       "value": 0.39846743295019155
      }
     },
     "d422787358a44070a5f148e3367b8d84": {
      "model_module": "@jupyter-widgets/controls",
      "model_module_version": "2.0.0",
      "model_name": "LabelStyleModel",
      "state": {
       "description_width": "",
       "font_family": null,
       "font_size": null,
       "font_style": null,
       "font_variant": null,
       "font_weight": null,
       "text_color": null,
       "text_decoration": null
      }
     },
     "d437c4d4b2d0425a8dbd4fe2d3882842": {
      "model_module": "@jupyter-widgets/base",
      "model_module_version": "2.0.0",
      "model_name": "LayoutModel",
      "state": {}
     },
     "d43966f0271f4859bb130c84b2eccbfe": {
      "model_module": "@jupyter-widgets/base",
      "model_module_version": "2.0.0",
      "model_name": "LayoutModel",
      "state": {}
     },
     "d4ae13d6497b4f8dbdc728d02703a13a": {
      "model_module": "@jupyter-widgets/base",
      "model_module_version": "2.0.0",
      "model_name": "LayoutModel",
      "state": {}
     },
     "d4d0aea4bce24eecb83cec929ede879a": {
      "model_module": "@jupyter-widgets/base",
      "model_module_version": "2.0.0",
      "model_name": "LayoutModel",
      "state": {}
     },
     "d538a5b7df954cc682869cd4ddbb2d00": {
      "model_module": "@jupyter-widgets/base",
      "model_module_version": "2.0.0",
      "model_name": "LayoutModel",
      "state": {}
     },
     "d582b74bcac2480481f53b785a9b9f81": {
      "model_module": "@jupyter-widgets/base",
      "model_module_version": "2.0.0",
      "model_name": "LayoutModel",
      "state": {}
     },
     "d65547918f734874bb93d7f1f24cf5de": {
      "model_module": "@jupyter-widgets/controls",
      "model_module_version": "2.0.0",
      "model_name": "ProgressStyleModel",
      "state": {
       "description_width": ""
      }
     },
     "d660de31c00f46df9259ae950f504901": {
      "model_module": "@jupyter-widgets/controls",
      "model_module_version": "2.0.0",
      "model_name": "ProgressStyleModel",
      "state": {
       "description_width": ""
      }
     },
     "d6ae847aa89d4103b23b37d2ec3c6316": {
      "model_module": "@jupyter-widgets/controls",
      "model_module_version": "2.0.0",
      "model_name": "LabelStyleModel",
      "state": {
       "description_width": "",
       "font_family": null,
       "font_size": null,
       "font_style": null,
       "font_variant": null,
       "font_weight": null,
       "text_color": null,
       "text_decoration": null
      }
     },
     "d6fd2fd6e9d042b1a9cf187c1e8d5ed4": {
      "model_module": "@jupyter-widgets/controls",
      "model_module_version": "2.0.0",
      "model_name": "LabelModel",
      "state": {
       "layout": "IPY_MODEL_2ab407bccd96435fbefc69cdd455798a",
       "style": "IPY_MODEL_d1c90112244e46afbdcd808870533762",
       "value": "Pelican Sunstream 100 Kayak"
      }
     },
     "d7defdfaf34a478985fc6be66b383a67": {
      "model_module": "@jupyter-widgets/controls",
      "model_module_version": "2.0.0",
      "model_name": "FloatProgressModel",
      "state": {
       "bar_style": "info",
       "description": "0.5326",
       "layout": "IPY_MODEL_ef86034fd410440881d1cb346665cfd3",
       "max": 1,
       "style": "IPY_MODEL_f42e6ab90f514dee8d5f25bfe9452ecf",
       "value": 0.5325670498084292
      }
     },
     "d83624759ea14a11afdb14734415e01e": {
      "model_module": "@jupyter-widgets/base",
      "model_module_version": "2.0.0",
      "model_name": "LayoutModel",
      "state": {}
     },
     "d84e2b60d79b49afb9d3e46ae5d89be8": {
      "model_module": "@jupyter-widgets/controls",
      "model_module_version": "2.0.0",
      "model_name": "LabelModel",
      "state": {
       "layout": "IPY_MODEL_b3df1e6b2a174071a6bc93d03b3d18fa",
       "style": "IPY_MODEL_10faf051471b46679324ad4ed5ba7b4b",
       "value": "Pelican Sunstream 100 Kayak"
      }
     },
     "d8837e3c8353458c9f429a52be0d9085": {
      "model_module": "@jupyter-widgets/controls",
      "model_module_version": "2.0.0",
      "model_name": "ProgressStyleModel",
      "state": {
       "description_width": ""
      }
     },
     "d90253c5e59c405ab36a4ea1549cc17d": {
      "model_module": "@jupyter-widgets/base",
      "model_module_version": "2.0.0",
      "model_name": "LayoutModel",
      "state": {}
     },
     "d9df1ace00e9417cb05627306cf1e7d7": {
      "model_module": "@jupyter-widgets/controls",
      "model_module_version": "2.0.0",
      "model_name": "FloatProgressModel",
      "state": {
       "bar_style": "info",
       "description": "0.5556",
       "layout": "IPY_MODEL_2f33a0cc2a4f44ee8c0717ffa7eb9860",
       "max": 1,
       "style": "IPY_MODEL_8e76c9402a994a97a7a0e39937ebd01b",
       "value": 0.5555555555555555
      }
     },
     "da992d9036b54b67b6695799ae3bfb55": {
      "model_module": "@jupyter-widgets/controls",
      "model_module_version": "2.0.0",
      "model_name": "ProgressStyleModel",
      "state": {
       "description_width": ""
      }
     },
     "dac5311df80545d3b241bdf56f0e68f5": {
      "model_module": "@jupyter-widgets/controls",
      "model_module_version": "2.0.0",
      "model_name": "FloatProgressModel",
      "state": {
       "bar_style": "info",
       "description": "0.3985",
       "layout": "IPY_MODEL_89b6fee87b47416ca9e8b3d13bbf0715",
       "max": 1,
       "style": "IPY_MODEL_11ee8c5712d54696816d15155b7cb2d5",
       "value": 0.39846743295019155
      }
     },
     "dacdb824d22e4169939de89be0c0ee83": {
      "model_module": "@jupyter-widgets/controls",
      "model_module_version": "2.0.0",
      "model_name": "LabelModel",
      "state": {
       "layout": "IPY_MODEL_345f24662a9a4cfa8276a4d38b39fa62",
       "style": "IPY_MODEL_3473bc0a4bfe48f5b22c31814c19d098",
       "value": "Diamondback Women's Serene Classic Comfort Bi"
      }
     },
     "db074f7efe5f45b395a37046f4cd6cc4": {
      "model_module": "@jupyter-widgets/base",
      "model_module_version": "2.0.0",
      "model_name": "LayoutModel",
      "state": {}
     },
     "db0ac63904904134beb3c227230110c4": {
      "model_module": "@jupyter-widgets/base",
      "model_module_version": "2.0.0",
      "model_name": "LayoutModel",
      "state": {}
     },
     "db48a2a6214a4fddb664035776525a52": {
      "model_module": "@jupyter-widgets/controls",
      "model_module_version": "2.0.0",
      "model_name": "LabelModel",
      "state": {
       "layout": "IPY_MODEL_c99018cb594d44be88c6a43b5145a0c8",
       "style": "IPY_MODEL_d31ef6d8229d4c15a5b20cc31a60ae66",
       "value": "O'Brien Men's Neoprene Life Vest"
      }
     },
     "db5c98ce6938455fbc8d74ed87642f3d": {
      "model_module": "@jupyter-widgets/base",
      "model_module_version": "2.0.0",
      "model_name": "LayoutModel",
      "state": {}
     },
     "dbca334ca3ab41b8b7d8112aa77b72eb": {
      "model_module": "@jupyter-widgets/controls",
      "model_module_version": "2.0.0",
      "model_name": "LabelModel",
      "state": {
       "layout": "IPY_MODEL_49b2bd08f59f48f5a1161c5a818f56b8",
       "style": "IPY_MODEL_5b3bec0bad1741e9b75415102d30123c",
       "value": "Perfect Fitness Perfect Rip Deck"
      }
     },
     "dc135f7d05d14f74aaa2af0b8bc0d083": {
      "model_module": "@jupyter-widgets/controls",
      "model_module_version": "2.0.0",
      "model_name": "LabelStyleModel",
      "state": {
       "description_width": "",
       "font_family": null,
       "font_size": null,
       "font_style": null,
       "font_variant": null,
       "font_weight": null,
       "text_color": null,
       "text_decoration": null
      }
     },
     "dc521eefde984787823ae78951b11e44": {
      "model_module": "@jupyter-widgets/controls",
      "model_module_version": "2.0.0",
      "model_name": "ProgressStyleModel",
      "state": {
       "description_width": ""
      }
     },
     "dc593cb18a91476eb501e4c613ce3eb7": {
      "model_module": "@jupyter-widgets/base",
      "model_module_version": "2.0.0",
      "model_name": "LayoutModel",
      "state": {}
     },
     "dd15f276a7b942b2bf5cea945e604bc2": {
      "model_module": "@jupyter-widgets/base",
      "model_module_version": "2.0.0",
      "model_name": "LayoutModel",
      "state": {}
     },
     "dd6ad79d8699412695b3e9bf79a64709": {
      "model_module": "@jupyter-widgets/controls",
      "model_module_version": "2.0.0",
      "model_name": "ProgressStyleModel",
      "state": {
       "description_width": ""
      }
     },
     "dd6ee73052c84fbdb6c1bb5d25cf854d": {
      "model_module": "@jupyter-widgets/base",
      "model_module_version": "2.0.0",
      "model_name": "LayoutModel",
      "state": {}
     },
     "dd95a785a12644578616613b6145e473": {
      "model_module": "@jupyter-widgets/controls",
      "model_module_version": "2.0.0",
      "model_name": "LabelStyleModel",
      "state": {
       "description_width": "",
       "font_family": null,
       "font_size": null,
       "font_style": null,
       "font_variant": null,
       "font_weight": null,
       "text_color": null,
       "text_decoration": null
      }
     },
     "de15e464131543559f6c2759227a84e8": {
      "model_module": "@jupyter-widgets/controls",
      "model_module_version": "2.0.0",
      "model_name": "LabelModel",
      "state": {
       "layout": "IPY_MODEL_9722b280458548b9892be0f8ab09ec51",
       "style": "IPY_MODEL_84284bb6b1a34bf293b5eb8265d2c4c3",
       "value": "Perfect Fitness Perfect Rip Deck"
      }
     },
     "de79867f042040b5b964a3e8f0dffd35": {
      "model_module": "@jupyter-widgets/base",
      "model_module_version": "2.0.0",
      "model_name": "LayoutModel",
      "state": {}
     },
     "df40c0cb7bc14c6f94624667c7ef0e7b": {
      "model_module": "@jupyter-widgets/base",
      "model_module_version": "2.0.0",
      "model_name": "LayoutModel",
      "state": {}
     },
     "df709e5fada24e27ac8a84693ec212e4": {
      "model_module": "@jupyter-widgets/base",
      "model_module_version": "2.0.0",
      "model_name": "LayoutModel",
      "state": {}
     },
     "dfb3ce22aa154a4bad512de2711c6878": {
      "model_module": "@jupyter-widgets/controls",
      "model_module_version": "2.0.0",
      "model_name": "FloatProgressModel",
      "state": {
       "bar_style": "info",
       "description": "0.3027",
       "layout": "IPY_MODEL_61cf4ac789a84c25bc4d5774032c630b",
       "max": 1,
       "style": "IPY_MODEL_dfc6a707634b46d2bccc9c3a1cf82005",
       "value": 0.30268199233716475
      }
     },
     "dfc6a707634b46d2bccc9c3a1cf82005": {
      "model_module": "@jupyter-widgets/controls",
      "model_module_version": "2.0.0",
      "model_name": "ProgressStyleModel",
      "state": {
       "description_width": ""
      }
     },
     "dff31a9eafd6496fa60abb228753aae7": {
      "model_module": "@jupyter-widgets/controls",
      "model_module_version": "2.0.0",
      "model_name": "ProgressStyleModel",
      "state": {
       "description_width": ""
      }
     },
     "e006269f601544398cc50ee9e203827c": {
      "model_module": "@jupyter-widgets/controls",
      "model_module_version": "2.0.0",
      "model_name": "LabelModel",
      "state": {
       "layout": "IPY_MODEL_c84b1d4f9984446faa7ce05713dbe564",
       "style": "IPY_MODEL_e4e82966dc5f4a96956624e7fbe6e096",
       "value": "Diamondback Women's Serene Classic Comfort Bi"
      }
     },
     "e05b50cdb99c46aa8d50f9e2d3870b85": {
      "model_module": "@jupyter-widgets/controls",
      "model_module_version": "2.0.0",
      "model_name": "FloatProgressModel",
      "state": {
       "bar_style": "info",
       "description": "0.5326",
       "layout": "IPY_MODEL_b1e4a35474194b64a2d4f9b77348ac68",
       "max": 1,
       "style": "IPY_MODEL_f9cb6aa2fd034d258cd5b7b2a1f9c102",
       "value": 0.5325670498084292
      }
     },
     "e0a60727617f4f39bc0bb409f52f2719": {
      "model_module": "@jupyter-widgets/controls",
      "model_module_version": "2.0.0",
      "model_name": "LabelStyleModel",
      "state": {
       "description_width": "",
       "font_family": null,
       "font_size": null,
       "font_style": null,
       "font_variant": null,
       "font_weight": null,
       "text_color": null,
       "text_decoration": null
      }
     },
     "e0bb6becc192482c9959f7f2581f73bf": {
      "model_module": "@jupyter-widgets/controls",
      "model_module_version": "2.0.0",
      "model_name": "ProgressStyleModel",
      "state": {
       "description_width": ""
      }
     },
     "e109e0adb40b4d1e91434d46b05a546c": {
      "model_module": "@jupyter-widgets/controls",
      "model_module_version": "2.0.0",
      "model_name": "LabelStyleModel",
      "state": {
       "description_width": "",
       "font_family": null,
       "font_size": null,
       "font_style": null,
       "font_variant": null,
       "font_weight": null,
       "text_color": null,
       "text_decoration": null
      }
     },
     "e11df395449347769424bd5677b21887": {
      "model_module": "@jupyter-widgets/base",
      "model_module_version": "2.0.0",
      "model_name": "LayoutModel",
      "state": {}
     },
     "e13c5b4b9bb947e8b2ea83be7f2d2dac": {
      "model_module": "@jupyter-widgets/controls",
      "model_module_version": "2.0.0",
      "model_name": "FloatProgressModel",
      "state": {
       "bar_style": "info",
       "description": "0.4310",
       "layout": "IPY_MODEL_a4aae34072c14ea6b28c37348e638608",
       "max": 1,
       "style": "IPY_MODEL_c64c320969cd444c8e5fe4afd673a06d",
       "value": 0.43103448275862066
      }
     },
     "e265b77dc9b14f10934b5e63a9c6d46b": {
      "model_module": "@jupyter-widgets/controls",
      "model_module_version": "2.0.0",
      "model_name": "FloatProgressModel",
      "state": {
       "bar_style": "info",
       "description": "0.4617",
       "layout": "IPY_MODEL_4dcc5dd1790e4e85bece5a7aeb9589c1",
       "max": 1,
       "style": "IPY_MODEL_40dd7d1484894fa69e2366ae255db3f8",
       "value": 0.4616858237547892
      }
     },
     "e2d3c90c85d6447c84a456b8834aad32": {
      "model_module": "@jupyter-widgets/controls",
      "model_module_version": "2.0.0",
      "model_name": "FloatProgressModel",
      "state": {
       "bar_style": "info",
       "description": "0.5556",
       "layout": "IPY_MODEL_40f23354cc62495dba7c45391398bfac",
       "max": 1,
       "style": "IPY_MODEL_77aec9b0f61c4b539c6846eae68503e6",
       "value": 0.5555555555555555
      }
     },
     "e2d92322897c4d38b6730845a674eab3": {
      "model_module": "@jupyter-widgets/controls",
      "model_module_version": "2.0.0",
      "model_name": "ProgressStyleModel",
      "state": {
       "description_width": ""
      }
     },
     "e399ae98a1694e8db67d1e0e6e6b1897": {
      "model_module": "@jupyter-widgets/controls",
      "model_module_version": "2.0.0",
      "model_name": "LabelModel",
      "state": {
       "layout": "IPY_MODEL_9242f274aaee41e6b0f33ea8d430a70b",
       "style": "IPY_MODEL_530826d4177046779255f3eac281c12c",
       "value": "Field & Stream Sportsman 16 Gun Fire Safe"
      }
     },
     "e39b6be48b46411caa64b3b57ee79d88": {
      "model_module": "@jupyter-widgets/controls",
      "model_module_version": "2.0.0",
      "model_name": "ProgressStyleModel",
      "state": {
       "description_width": ""
      }
     },
     "e422244d1af8494dad9fcffb80b310f6": {
      "model_module": "@jupyter-widgets/controls",
      "model_module_version": "2.0.0",
      "model_name": "LabelModel",
      "state": {
       "layout": "IPY_MODEL_d538a5b7df954cc682869cd4ddbb2d00",
       "style": "IPY_MODEL_e109e0adb40b4d1e91434d46b05a546c",
       "value": "Nike Men's CJ Elite 2 TD Football Cleat"
      }
     },
     "e4438c28637946fab7cc357d36626567": {
      "model_module": "@jupyter-widgets/controls",
      "model_module_version": "2.0.0",
      "model_name": "LabelModel",
      "state": {
       "layout": "IPY_MODEL_74303110d31d45a1939cf82606fdc9e6",
       "style": "IPY_MODEL_5989f3c838fd49d5987f89624e659092",
       "value": "O'Brien Men's Neoprene Life Vest"
      }
     },
     "e49a6826177f47ba9ed6a23ac855fae1": {
      "model_module": "@jupyter-widgets/controls",
      "model_module_version": "2.0.0",
      "model_name": "HTMLModel",
      "state": {
       "layout": "IPY_MODEL_bf01219f334342cda3c049ccba51aac8",
       "style": "IPY_MODEL_98767590ce814e0bafb7b1e201cc1f82",
       "value": "<b>Recommended Products</b>"
      }
     },
     "e4b0130028024bddabada52cb11a7fef": {
      "model_module": "@jupyter-widgets/base",
      "model_module_version": "2.0.0",
      "model_name": "LayoutModel",
      "state": {}
     },
     "e4b5e5e7dee54e31b98ceb9e22e1c53c": {
      "model_module": "@jupyter-widgets/controls",
      "model_module_version": "2.0.0",
      "model_name": "LabelModel",
      "state": {
       "layout": "IPY_MODEL_8ca52d74b0064be3a346bbec92928d03",
       "style": "IPY_MODEL_13c1bbfa60a846d49d6089c7e90cfd04",
       "value": "Nike Men's CJ Elite 2 TD Football Cleat"
      }
     },
     "e4e82966dc5f4a96956624e7fbe6e096": {
      "model_module": "@jupyter-widgets/controls",
      "model_module_version": "2.0.0",
      "model_name": "LabelStyleModel",
      "state": {
       "description_width": "",
       "font_family": null,
       "font_size": null,
       "font_style": null,
       "font_variant": null,
       "font_weight": null,
       "text_color": null,
       "text_decoration": null
      }
     },
     "e518a2e09f7940129513ed031b5fce0a": {
      "model_module": "@jupyter-widgets/controls",
      "model_module_version": "2.0.0",
      "model_name": "ProgressStyleModel",
      "state": {
       "description_width": ""
      }
     },
     "e54b4498b7cc4d7c9a89b57b149cc3e6": {
      "model_module": "@jupyter-widgets/controls",
      "model_module_version": "2.0.0",
      "model_name": "LabelModel",
      "state": {
       "layout": "IPY_MODEL_c2871e0bfb6f474089a43bd90f388b11",
       "style": "IPY_MODEL_3c460cec85dc42db9346e3ad3520cd9a",
       "value": "O'Brien Men's Neoprene Life Vest"
      }
     },
     "e568d510cf0c4d89ab8fc8792d975251": {
      "model_module": "@jupyter-widgets/controls",
      "model_module_version": "2.0.0",
      "model_name": "LabelModel",
      "state": {
       "layout": "IPY_MODEL_fb67cbf731f540d7a95285f9e1617a4f",
       "style": "IPY_MODEL_2c50b6c5aef349e785099779e5ef03d4",
       "value": "Perfect Fitness Perfect Rip Deck"
      }
     },
     "e65ae1dfd3c64f83a4fc0d7d8682d010": {
      "model_module": "@jupyter-widgets/controls",
      "model_module_version": "2.0.0",
      "model_name": "LabelModel",
      "state": {
       "layout": "IPY_MODEL_7a7639d9cd0d4d5491cb5dbbc8432efd",
       "style": "IPY_MODEL_6006a7b80211451d8faa5f1031cd600d",
       "value": "Nike Men's CJ Elite 2 TD Football Cleat"
      }
     },
     "e677c02cb6d44d9bbca8eab25315859b": {
      "model_module": "@jupyter-widgets/controls",
      "model_module_version": "2.0.0",
      "model_name": "LabelModel",
      "state": {
       "layout": "IPY_MODEL_8371961d4d034aadbd1025716a8545f5",
       "style": "IPY_MODEL_f764f0e401da485c8bac431b9acb714c",
       "value": "Pelican Sunstream 100 Kayak"
      }
     },
     "e6abaa8c540641a9a1cf544f9286e623": {
      "model_module": "@jupyter-widgets/controls",
      "model_module_version": "2.0.0",
      "model_name": "ProgressStyleModel",
      "state": {
       "description_width": ""
      }
     },
     "e718a5e3489a459982a6a3a19d641a2a": {
      "model_module": "@jupyter-widgets/base",
      "model_module_version": "2.0.0",
      "model_name": "LayoutModel",
      "state": {}
     },
     "e809bc8a818047caa56275b70756c058": {
      "model_module": "@jupyter-widgets/base",
      "model_module_version": "2.0.0",
      "model_name": "LayoutModel",
      "state": {}
     },
     "e8a188d4ccaf4dcfaa43db455ec55a43": {
      "model_module": "@jupyter-widgets/base",
      "model_module_version": "2.0.0",
      "model_name": "LayoutModel",
      "state": {}
     },
     "e8bb254a803c44adb7bd8e3c005763b8": {
      "model_module": "@jupyter-widgets/controls",
      "model_module_version": "2.0.0",
      "model_name": "FloatProgressModel",
      "state": {
       "bar_style": "info",
       "description": "0.5326",
       "layout": "IPY_MODEL_15677a0c65104a1fad3dd724ecd5bcd0",
       "max": 1,
       "style": "IPY_MODEL_6e12fcc7ecd6498f89e02eda715c4e53",
       "value": 0.5325670498084292
      }
     },
     "e8f8d7d0a9d641d0a868347604f4ee7b": {
      "model_module": "@jupyter-widgets/base",
      "model_module_version": "2.0.0",
      "model_name": "LayoutModel",
      "state": {}
     },
     "e9505a13e92b4d43b006f0569de607f9": {
      "model_module": "@jupyter-widgets/controls",
      "model_module_version": "2.0.0",
      "model_name": "ProgressStyleModel",
      "state": {
       "description_width": ""
      }
     },
     "e97ff880843c4a5aa76c84abcc133b70": {
      "model_module": "@jupyter-widgets/controls",
      "model_module_version": "2.0.0",
      "model_name": "LabelModel",
      "state": {
       "layout": "IPY_MODEL_2ddc9ad8149846c188dc55aedabefeec",
       "style": "IPY_MODEL_4fa81e67878046fd917081c9e6a8ed20",
       "value": "Pelican Sunstream 100 Kayak"
      }
     },
     "ea111428b5e0427c8684c513132cfaf6": {
      "model_module": "@jupyter-widgets/base",
      "model_module_version": "2.0.0",
      "model_name": "LayoutModel",
      "state": {}
     },
     "ea195f91fc574ca9a6d005b9d5816d58": {
      "model_module": "@jupyter-widgets/controls",
      "model_module_version": "2.0.0",
      "model_name": "ProgressStyleModel",
      "state": {
       "description_width": ""
      }
     },
     "ea32f58f4636477db6df0d41f59d2e86": {
      "model_module": "@jupyter-widgets/controls",
      "model_module_version": "2.0.0",
      "model_name": "ProgressStyleModel",
      "state": {
       "description_width": ""
      }
     },
     "eaa87b32065b41b992ec587642ed7ab6": {
      "model_module": "@jupyter-widgets/base",
      "model_module_version": "2.0.0",
      "model_name": "LayoutModel",
      "state": {}
     },
     "eaba9090146f4c1b97cc8d6ded62b7ed": {
      "model_module": "@jupyter-widgets/controls",
      "model_module_version": "2.0.0",
      "model_name": "ProgressStyleModel",
      "state": {
       "description_width": ""
      }
     },
     "eb12c0484a194d318d50aaaf7468f71b": {
      "model_module": "@jupyter-widgets/base",
      "model_module_version": "2.0.0",
      "model_name": "LayoutModel",
      "state": {}
     },
     "eb3782c14afa4e119632f3d820956be6": {
      "model_module": "@jupyter-widgets/base",
      "model_module_version": "2.0.0",
      "model_name": "LayoutModel",
      "state": {}
     },
     "eb76ffef50e647e9997759fb2cda676a": {
      "model_module": "@jupyter-widgets/controls",
      "model_module_version": "2.0.0",
      "model_name": "LabelModel",
      "state": {
       "layout": "IPY_MODEL_8cc54be083e748889556ef967bda1d80",
       "style": "IPY_MODEL_6413f8b84b1b4b3291a0f1671372bde8",
       "value": "Pelican Sunstream 100 Kayak"
      }
     },
     "ebbd60279f25497c902af00160823ce2": {
      "model_module": "@jupyter-widgets/controls",
      "model_module_version": "2.0.0",
      "model_name": "ProgressStyleModel",
      "state": {
       "description_width": ""
      }
     },
     "ec3582f133324eac90d2c2ef39f036b0": {
      "model_module": "@jupyter-widgets/base",
      "model_module_version": "2.0.0",
      "model_name": "LayoutModel",
      "state": {}
     },
     "ec6a800f06414a17b308e57040d716ee": {
      "model_module": "@jupyter-widgets/controls",
      "model_module_version": "2.0.0",
      "model_name": "LabelModel",
      "state": {
       "layout": "IPY_MODEL_a8455161f64e46d3900960de9ce84097",
       "style": "IPY_MODEL_7f3388fdae004d14a21156d76cd0390f",
       "value": "O'Brien Men's Neoprene Life Vest"
      }
     },
     "ecabee8afd0b4f168cc4e4501e3f6773": {
      "model_module": "@jupyter-widgets/controls",
      "model_module_version": "2.0.0",
      "model_name": "LabelModel",
      "state": {
       "layout": "IPY_MODEL_aa068b0f94014dbe877c774a998e3aad",
       "style": "IPY_MODEL_4b1b55747c584f1d85e7d8cc8423bfc3",
       "value": "Perfect Fitness Perfect Rip Deck"
      }
     },
     "ecb5af700b034ca2905bf401a1b594a4": {
      "model_module": "@jupyter-widgets/controls",
      "model_module_version": "2.0.0",
      "model_name": "LabelStyleModel",
      "state": {
       "description_width": "",
       "font_family": null,
       "font_size": null,
       "font_style": null,
       "font_variant": null,
       "font_weight": null,
       "text_color": null,
       "text_decoration": null
      }
     },
     "ecd3a310e5bf4a5d83e14df433102c7e": {
      "model_module": "@jupyter-widgets/base",
      "model_module_version": "2.0.0",
      "model_name": "LayoutModel",
      "state": {}
     },
     "ed3a12bacf61418bb2e0eb534cce4430": {
      "model_module": "@jupyter-widgets/controls",
      "model_module_version": "2.0.0",
      "model_name": "LabelModel",
      "state": {
       "layout": "IPY_MODEL_9a909a55f6e44727badb9d7ebd659b49",
       "style": "IPY_MODEL_2e89522e3a8647269174a4d65f3c5be2",
       "value": "O'Brien Men's Neoprene Life Vest"
      }
     },
     "ed90fabcdeae42c1a12f2851f8775c1f": {
      "model_module": "@jupyter-widgets/controls",
      "model_module_version": "2.0.0",
      "model_name": "FloatProgressModel",
      "state": {
       "bar_style": "info",
       "description": "0.4310",
       "layout": "IPY_MODEL_a54ff4ff46ff49feb4908cb570ba9a9e",
       "max": 1,
       "style": "IPY_MODEL_0d111595b17d471a9ac3d3fdec917518",
       "value": 0.43103448275862066
      }
     },
     "ee12919e5fe346e89f1acf5c28cad326": {
      "model_module": "@jupyter-widgets/controls",
      "model_module_version": "2.0.0",
      "model_name": "LabelModel",
      "state": {
       "layout": "IPY_MODEL_bdc8c7c17eee4725a246bde2ffe92613",
       "style": "IPY_MODEL_8e82858d437d4442b563f31eeb507aef",
       "value": "Nike Men's Dri-FIT Victory Golf Polo"
      }
     },
     "ee3376558319422d9dd286aa01fdf237": {
      "model_module": "@jupyter-widgets/controls",
      "model_module_version": "2.0.0",
      "model_name": "FloatProgressModel",
      "state": {
       "bar_style": "info",
       "description": "0.5788",
       "layout": "IPY_MODEL_ec3582f133324eac90d2c2ef39f036b0",
       "max": 1,
       "style": "IPY_MODEL_23d4928a540d47298f79c950b12acba1",
       "value": 0.5788461538461538
      }
     },
     "ee4fe32a4c664a4b90414f888b168474": {
      "model_module": "@jupyter-widgets/controls",
      "model_module_version": "2.0.0",
      "model_name": "LabelStyleModel",
      "state": {
       "description_width": "",
       "font_family": null,
       "font_size": null,
       "font_style": null,
       "font_variant": null,
       "font_weight": null,
       "text_color": null,
       "text_decoration": null
      }
     },
     "eee904bbabf844edb679728d24058823": {
      "model_module": "@jupyter-widgets/controls",
      "model_module_version": "2.0.0",
      "model_name": "LabelStyleModel",
      "state": {
       "description_width": "",
       "font_family": null,
       "font_size": null,
       "font_style": null,
       "font_variant": null,
       "font_weight": null,
       "text_color": null,
       "text_decoration": null
      }
     },
     "ef6145fe44d34dc3aa70f910311faa9a": {
      "model_module": "@jupyter-widgets/controls",
      "model_module_version": "2.0.0",
      "model_name": "FloatProgressModel",
      "state": {
       "bar_style": "info",
       "description": "0.5346",
       "layout": "IPY_MODEL_b6f28d9e898444bdbfa6927bab8c7378",
       "max": 1,
       "style": "IPY_MODEL_f59e4776d0704d728ed78598999ad2d5",
       "value": 0.5346153846153846
      }
     },
     "ef7246f3feed41b09efe19eec3a30b81": {
      "model_module": "@jupyter-widgets/base",
      "model_module_version": "2.0.0",
      "model_name": "LayoutModel",
      "state": {}
     },
     "ef86034fd410440881d1cb346665cfd3": {
      "model_module": "@jupyter-widgets/base",
      "model_module_version": "2.0.0",
      "model_name": "LayoutModel",
      "state": {}
     },
     "f082b38ace8b4772af7c2a4d3b417f7a": {
      "model_module": "@jupyter-widgets/controls",
      "model_module_version": "2.0.0",
      "model_name": "FloatProgressModel",
      "state": {
       "bar_style": "info",
       "description": "0.5326",
       "layout": "IPY_MODEL_18eec034b17c4291a97f4a3b6dc968a6",
       "max": 1,
       "style": "IPY_MODEL_cdac6de6d43644e0b5e50eee8b0b5d50",
       "value": 0.5325670498084292
      }
     },
     "f0acfd20e24b44a0b0fd01650031ab36": {
      "model_module": "@jupyter-widgets/controls",
      "model_module_version": "2.0.0",
      "model_name": "LabelStyleModel",
      "state": {
       "description_width": "",
       "font_family": null,
       "font_size": null,
       "font_style": null,
       "font_variant": null,
       "font_weight": null,
       "text_color": null,
       "text_decoration": null
      }
     },
     "f13ed0b4536e4f718eb43221d90ac9f1": {
      "model_module": "@jupyter-widgets/controls",
      "model_module_version": "2.0.0",
      "model_name": "LabelStyleModel",
      "state": {
       "description_width": "",
       "font_family": null,
       "font_size": null,
       "font_style": null,
       "font_variant": null,
       "font_weight": null,
       "text_color": null,
       "text_decoration": null
      }
     },
     "f1db98f78c3a430693c10f3d4329cb3c": {
      "model_module": "@jupyter-widgets/controls",
      "model_module_version": "2.0.0",
      "model_name": "LabelModel",
      "state": {
       "layout": "IPY_MODEL_533ff779a082410f91badddad1f3d54b",
       "style": "IPY_MODEL_62aff77d48cd4315ba6b75edf2768544",
       "value": "Pelican Sunstream 100 Kayak"
      }
     },
     "f1dcdf831fe24633ac89597fab602344": {
      "model_module": "@jupyter-widgets/controls",
      "model_module_version": "2.0.0",
      "model_name": "LabelModel",
      "state": {
       "layout": "IPY_MODEL_bb01ff17048845afa79d9ebbce44674d",
       "style": "IPY_MODEL_37df1515b6664127a1a73619228e57b1",
       "value": "Perfect Fitness Perfect Rip Deck"
      }
     },
     "f24b37d1b38641659e952cd30ce189fd": {
      "model_module": "@jupyter-widgets/base",
      "model_module_version": "2.0.0",
      "model_name": "LayoutModel",
      "state": {}
     },
     "f27aa3dfbb2a474795172960fe72dd81": {
      "model_module": "@jupyter-widgets/base",
      "model_module_version": "2.0.0",
      "model_name": "LayoutModel",
      "state": {}
     },
     "f2b0a7a2d7484cec949251fb746014a3": {
      "model_module": "@jupyter-widgets/controls",
      "model_module_version": "2.0.0",
      "model_name": "LabelStyleModel",
      "state": {
       "description_width": "",
       "font_family": null,
       "font_size": null,
       "font_style": null,
       "font_variant": null,
       "font_weight": null,
       "text_color": null,
       "text_decoration": null
      }
     },
     "f3ab55ab6e6f49b696cd6c6d59944ca1": {
      "model_module": "@jupyter-widgets/controls",
      "model_module_version": "2.0.0",
      "model_name": "LabelStyleModel",
      "state": {
       "description_width": "",
       "font_family": null,
       "font_size": null,
       "font_style": null,
       "font_variant": null,
       "font_weight": null,
       "text_color": null,
       "text_decoration": null
      }
     },
     "f42e6ab90f514dee8d5f25bfe9452ecf": {
      "model_module": "@jupyter-widgets/controls",
      "model_module_version": "2.0.0",
      "model_name": "ProgressStyleModel",
      "state": {
       "description_width": ""
      }
     },
     "f44bf391ff7641a884b9a7698ac9769f": {
      "model_module": "@jupyter-widgets/base",
      "model_module_version": "2.0.0",
      "model_name": "LayoutModel",
      "state": {}
     },
     "f463554046d547edb89cd618de5f8439": {
      "model_module": "@jupyter-widgets/controls",
      "model_module_version": "2.0.0",
      "model_name": "LabelStyleModel",
      "state": {
       "description_width": "",
       "font_family": null,
       "font_size": null,
       "font_style": null,
       "font_variant": null,
       "font_weight": null,
       "text_color": null,
       "text_decoration": null
      }
     },
     "f4fda8e4998d4a799da6a3258bca3351": {
      "model_module": "@jupyter-widgets/controls",
      "model_module_version": "2.0.0",
      "model_name": "FloatProgressModel",
      "state": {
       "bar_style": "info",
       "description": "0.5346",
       "layout": "IPY_MODEL_be27a148dc2c468787342290828d89f0",
       "max": 1,
       "style": "IPY_MODEL_bdb499e3d61c48948f5e6459c42b2c7b",
       "value": 0.5346153846153846
      }
     },
     "f567c8ab32184810a1403bc927473b64": {
      "model_module": "@jupyter-widgets/controls",
      "model_module_version": "2.0.0",
      "model_name": "FloatProgressModel",
      "state": {
       "bar_style": "info",
       "description": "0.5326",
       "layout": "IPY_MODEL_e718a5e3489a459982a6a3a19d641a2a",
       "max": 1,
       "style": "IPY_MODEL_bfe95652e2f1472cbb1e2774537c6788",
       "value": 0.5325670498084292
      }
     },
     "f58a540bc268458fbb63d5d43789ffb6": {
      "model_module": "@jupyter-widgets/controls",
      "model_module_version": "2.0.0",
      "model_name": "LabelModel",
      "state": {
       "layout": "IPY_MODEL_55affd52da814a63b897c82edbaf353f",
       "style": "IPY_MODEL_3096d399f8214d168043c56cf54add78",
       "value": "Pelican Sunstream 100 Kayak"
      }
     },
     "f59e4776d0704d728ed78598999ad2d5": {
      "model_module": "@jupyter-widgets/controls",
      "model_module_version": "2.0.0",
      "model_name": "ProgressStyleModel",
      "state": {
       "description_width": ""
      }
     },
     "f6010849664b4a9d9ac92a947ce3a14f": {
      "model_module": "@jupyter-widgets/base",
      "model_module_version": "2.0.0",
      "model_name": "LayoutModel",
      "state": {}
     },
     "f6218fe37df040d983ee5d0a2faa2c6e": {
      "model_module": "@jupyter-widgets/base",
      "model_module_version": "2.0.0",
      "model_name": "LayoutModel",
      "state": {}
     },
     "f71aba45360042b1acc2521fa8762e5f": {
      "model_module": "@jupyter-widgets/controls",
      "model_module_version": "2.0.0",
      "model_name": "LabelStyleModel",
      "state": {
       "description_width": "",
       "font_family": null,
       "font_size": null,
       "font_style": null,
       "font_variant": null,
       "font_weight": null,
       "text_color": null,
       "text_decoration": null
      }
     },
     "f7536cde626544da95441c5e093cc1d2": {
      "model_module": "@jupyter-widgets/base",
      "model_module_version": "2.0.0",
      "model_name": "LayoutModel",
      "state": {}
     },
     "f764f0e401da485c8bac431b9acb714c": {
      "model_module": "@jupyter-widgets/controls",
      "model_module_version": "2.0.0",
      "model_name": "LabelStyleModel",
      "state": {
       "description_width": "",
       "font_family": null,
       "font_size": null,
       "font_style": null,
       "font_variant": null,
       "font_weight": null,
       "text_color": null,
       "text_decoration": null
      }
     },
     "f80bfe3100cd46b5b7f38a02327969da": {
      "model_module": "@jupyter-widgets/base",
      "model_module_version": "2.0.0",
      "model_name": "LayoutModel",
      "state": {}
     },
     "f80da5ecfe094ecc99f7ef670c5fc87d": {
      "model_module": "@jupyter-widgets/base",
      "model_module_version": "2.0.0",
      "model_name": "LayoutModel",
      "state": {}
     },
     "f81043be046040d497b8e94e817d9e76": {
      "model_module": "@jupyter-widgets/controls",
      "model_module_version": "2.0.0",
      "model_name": "ProgressStyleModel",
      "state": {
       "description_width": ""
      }
     },
     "f815c5ab9da64be3949a9d2fddf58769": {
      "model_module": "@jupyter-widgets/base",
      "model_module_version": "2.0.0",
      "model_name": "LayoutModel",
      "state": {}
     },
     "f894ecf822bf41c39363f6f72477a20d": {
      "model_module": "@jupyter-widgets/controls",
      "model_module_version": "2.0.0",
      "model_name": "LabelModel",
      "state": {
       "layout": "IPY_MODEL_379b5fc0b5e2429fb8802c327fe56867",
       "style": "IPY_MODEL_4fa338f1b884408a872505b10d882014",
       "value": "O'Brien Men's Neoprene Life Vest"
      }
     },
     "f89ae7ef81bf4de58dcf85c9d1b84288": {
      "model_module": "@jupyter-widgets/controls",
      "model_module_version": "2.0.0",
      "model_name": "LabelModel",
      "state": {
       "layout": "IPY_MODEL_767cbe3c92054436b6b3c73438c9c524",
       "style": "IPY_MODEL_5823641052ec4b50b6537f9cb83f46d0",
       "value": "Nike Men's CJ Elite 2 TD Football Cleat"
      }
     },
     "f97e884777434fe782d7ee0faadbccca": {
      "model_module": "@jupyter-widgets/controls",
      "model_module_version": "2.0.0",
      "model_name": "LabelModel",
      "state": {
       "layout": "IPY_MODEL_62b5008cb9f64fd9b009c23c9029fa77",
       "style": "IPY_MODEL_73e1480f79c740fc807b9c59e4d43d62",
       "value": "Nike Men's CJ Elite 2 TD Football Cleat"
      }
     },
     "f9841149a9814e23919600692882bdd5": {
      "model_module": "@jupyter-widgets/base",
      "model_module_version": "2.0.0",
      "model_name": "LayoutModel",
      "state": {}
     },
     "f9cb6aa2fd034d258cd5b7b2a1f9c102": {
      "model_module": "@jupyter-widgets/controls",
      "model_module_version": "2.0.0",
      "model_name": "ProgressStyleModel",
      "state": {
       "description_width": ""
      }
     },
     "fa091868f51c43d8b1229d70fc15ebc7": {
      "model_module": "@jupyter-widgets/controls",
      "model_module_version": "2.0.0",
      "model_name": "FloatProgressModel",
      "state": {
       "bar_style": "info",
       "description": "0.5670",
       "layout": "IPY_MODEL_3699d314f3da41a986f40bb4ddf4f215",
       "max": 1,
       "style": "IPY_MODEL_4166bd77b7954f5098440ce9b1db997e",
       "value": 0.5670498084291187
      }
     },
     "fa57189aa58d4daf9bd7199ba17a89b4": {
      "model_module": "@jupyter-widgets/controls",
      "model_module_version": "2.0.0",
      "model_name": "FloatProgressModel",
      "state": {
       "bar_style": "info",
       "description": "0.4310",
       "layout": "IPY_MODEL_835df3db66e84da2b6dc4924628eec02",
       "max": 1,
       "style": "IPY_MODEL_d8837e3c8353458c9f429a52be0d9085",
       "value": 0.43103448275862066
      }
     },
     "fab6e0a83bab40f08978459fd5e548b6": {
      "model_module": "@jupyter-widgets/base",
      "model_module_version": "2.0.0",
      "model_name": "LayoutModel",
      "state": {}
     },
     "faf40fbaad424859bcd92c090f4a4a47": {
      "model_module": "@jupyter-widgets/controls",
      "model_module_version": "2.0.0",
      "model_name": "LabelModel",
      "state": {
       "layout": "IPY_MODEL_cca9eee07a7349ef835aa0697d985dd8",
       "style": "IPY_MODEL_b475e84c669445ea924bcb51e86d98b7",
       "value": "Field & Stream Sportsman 16 Gun Fire Safe"
      }
     },
     "fb29f8427caa4760a9e532747eeff4a2": {
      "model_module": "@jupyter-widgets/controls",
      "model_module_version": "2.0.0",
      "model_name": "FloatProgressModel",
      "state": {
       "bar_style": "info",
       "description": "0.4310",
       "layout": "IPY_MODEL_e11df395449347769424bd5677b21887",
       "max": 1,
       "style": "IPY_MODEL_6cc15b4afa604992892fe2c82280d563",
       "value": 0.43103448275862066
      }
     },
     "fb4aa53891b44de98157ec775a1e1799": {
      "model_module": "@jupyter-widgets/base",
      "model_module_version": "2.0.0",
      "model_name": "LayoutModel",
      "state": {}
     },
     "fb67cbf731f540d7a95285f9e1617a4f": {
      "model_module": "@jupyter-widgets/base",
      "model_module_version": "2.0.0",
      "model_name": "LayoutModel",
      "state": {}
     },
     "fb6feb67dc704797b123bcebd6bb1f0b": {
      "model_module": "@jupyter-widgets/controls",
      "model_module_version": "2.0.0",
      "model_name": "FloatProgressModel",
      "state": {
       "bar_style": "info",
       "description": "0.4635",
       "layout": "IPY_MODEL_72189ce8aa9d4aecaea3746250f39d7b",
       "max": 1,
       "style": "IPY_MODEL_06319a9517364240b4051c0e3ff18082",
       "value": 0.4634615384615384
      }
     },
     "fbe6fd8902b14eb39db62c02bc2a7199": {
      "model_module": "@jupyter-widgets/controls",
      "model_module_version": "2.0.0",
      "model_name": "LabelStyleModel",
      "state": {
       "description_width": "",
       "font_family": null,
       "font_size": null,
       "font_style": null,
       "font_variant": null,
       "font_weight": null,
       "text_color": null,
       "text_decoration": null
      }
     },
     "fcb44ae796b84f94ae980c8a12052311": {
      "model_module": "@jupyter-widgets/base",
      "model_module_version": "2.0.0",
      "model_name": "LayoutModel",
      "state": {}
     },
     "fccf2b88708b4f0ba5a3f9fa893ace77": {
      "model_module": "@jupyter-widgets/controls",
      "model_module_version": "2.0.0",
      "model_name": "LabelModel",
      "state": {
       "layout": "IPY_MODEL_5111aa847ec1405e960747e8215c7b4e",
       "style": "IPY_MODEL_5492218bf1954547b0620889eef87c06",
       "value": "Nike Men's Dri-FIT Victory Golf Polo"
      }
     },
     "fcd4b3a7fd0e4032a85139116f061d36": {
      "model_module": "@jupyter-widgets/base",
      "model_module_version": "2.0.0",
      "model_name": "LayoutModel",
      "state": {
       "grid_template_columns": "auto auto"
      }
     },
     "fd25605a3899432795c6fafde4543a91": {
      "model_module": "@jupyter-widgets/base",
      "model_module_version": "2.0.0",
      "model_name": "LayoutModel",
      "state": {}
     },
     "fd8e7765eeb54441947b61330e310635": {
      "model_module": "@jupyter-widgets/base",
      "model_module_version": "2.0.0",
      "model_name": "LayoutModel",
      "state": {}
     },
     "fd91cecefe744e64a5ec94293673cfca": {
      "model_module": "@jupyter-widgets/controls",
      "model_module_version": "2.0.0",
      "model_name": "FloatProgressModel",
      "state": {
       "bar_style": "info",
       "description": "0.6327",
       "layout": "IPY_MODEL_fdd7053db3af480f9f5592255eec0032",
       "max": 1,
       "style": "IPY_MODEL_2836d156b5bb45a697abcae0a75525de",
       "value": 0.6326923076923077
      }
     },
     "fda8e7d6d4d146daa5126a43d64a6edf": {
      "model_module": "@jupyter-widgets/base",
      "model_module_version": "2.0.0",
      "model_name": "LayoutModel",
      "state": {}
     },
     "fdd435c6a1ca4051b1f01926494ab608": {
      "model_module": "@jupyter-widgets/controls",
      "model_module_version": "2.0.0",
      "model_name": "LabelModel",
      "state": {
       "layout": "IPY_MODEL_3e76f5984b134750933d219783b92e36",
       "style": "IPY_MODEL_585f273a2f5046828f69b1fa31d8543b",
       "value": "Perfect Fitness Perfect Rip Deck"
      }
     },
     "fdd7053db3af480f9f5592255eec0032": {
      "model_module": "@jupyter-widgets/base",
      "model_module_version": "2.0.0",
      "model_name": "LayoutModel",
      "state": {}
     },
     "fdfd91a4491643609821616fdafa8b20": {
      "model_module": "@jupyter-widgets/controls",
      "model_module_version": "2.0.0",
      "model_name": "LabelStyleModel",
      "state": {
       "description_width": "",
       "font_family": null,
       "font_size": null,
       "font_style": null,
       "font_variant": null,
       "font_weight": null,
       "text_color": null,
       "text_decoration": null
      }
     },
     "fef1f986977b48efb21d463c2fe75d32": {
      "model_module": "@jupyter-widgets/controls",
      "model_module_version": "2.0.0",
      "model_name": "FloatProgressModel",
      "state": {
       "bar_style": "info",
       "description": "0.4617",
       "layout": "IPY_MODEL_586477fe0152449da09c1e5b177f0ee1",
       "max": 1,
       "style": "IPY_MODEL_8e1bfe9e4fea4fd9b60a3c1fda7f7b79",
       "value": 0.4616858237547892
      }
     },
     "ff3fd8bc1f7745d0aa2488f74ec00515": {
      "model_module": "@jupyter-widgets/controls",
      "model_module_version": "2.0.0",
      "model_name": "FloatProgressModel",
      "state": {
       "bar_style": "info",
       "description": "0.6327",
       "layout": "IPY_MODEL_4eeb948b2ad24cd68054b996ef828a5c",
       "max": 1,
       "style": "IPY_MODEL_8e89b6a01c2844f48b5d86b5cabb7a00",
       "value": 0.6326923076923077
      }
     },
     "ffc9781d2bc94d6486c02a5ea9796640": {
      "model_module": "@jupyter-widgets/base",
      "model_module_version": "2.0.0",
      "model_name": "LayoutModel",
      "state": {}
     },
     "ffdbb816b6e84e38b4be87c88e454182": {
      "model_module": "@jupyter-widgets/controls",
      "model_module_version": "2.0.0",
      "model_name": "LabelStyleModel",
      "state": {
       "description_width": "",
       "font_family": null,
       "font_size": null,
       "font_style": null,
       "font_variant": null,
       "font_weight": null,
       "text_color": null,
       "text_decoration": null
      }
     },
     "ffe9917da0da4159a4a02575cf2b02bd": {
      "model_module": "@jupyter-widgets/controls",
      "model_module_version": "2.0.0",
      "model_name": "LabelStyleModel",
      "state": {
       "description_width": "",
       "font_family": null,
       "font_size": null,
       "font_style": null,
       "font_variant": null,
       "font_weight": null,
       "text_color": null,
       "text_decoration": null
      }
     }
    },
    "version_major": 2,
    "version_minor": 0
   }
  }
 },
 "nbformat": 4,
 "nbformat_minor": 5
}
